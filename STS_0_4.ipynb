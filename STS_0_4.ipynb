{
  "nbformat": 4,
  "nbformat_minor": 0,
  "metadata": {
    "colab": {
      "name": "STS_0.4ipynb",
      "provenance": [],
      "collapsed_sections": [
        "Dv4HJxgsu-6x"
      ]
    },
    "kernelspec": {
      "name": "python3",
      "display_name": "Python 3"
    },
    "language_info": {
      "name": "python"
    }
  },
  "cells": [
    {
      "cell_type": "markdown",
      "metadata": {
        "id": "Dv4HJxgsu-6x"
      },
      "source": [
        "# Setting up environment:"
      ]
    },
    {
      "cell_type": "code",
      "metadata": {
        "colab": {
          "base_uri": "https://localhost:8080/"
        },
        "id": "r-2e8NA1qHLl",
        "outputId": "ab516a2f-ed15-41c1-99a8-2dce6f4c2685"
      },
      "source": [
        "pip install k-means-constrained"
      ],
      "execution_count": null,
      "outputs": [
        {
          "output_type": "stream",
          "text": [
            "Requirement already satisfied: k-means-constrained in /usr/local/lib/python3.7/dist-packages (0.6.0)\n",
            "Requirement already satisfied: joblib in /usr/local/lib/python3.7/dist-packages (from k-means-constrained) (1.0.1)\n",
            "Requirement already satisfied: six in /usr/local/lib/python3.7/dist-packages (from k-means-constrained) (1.15.0)\n",
            "Requirement already satisfied: numpy>=1.20.3 in /usr/local/lib/python3.7/dist-packages (from k-means-constrained) (1.21.2)\n",
            "Requirement already satisfied: scipy>=1.6.3 in /usr/local/lib/python3.7/dist-packages (from k-means-constrained) (1.7.1)\n",
            "Requirement already satisfied: ortools>=9.0.9048 in /usr/local/lib/python3.7/dist-packages (from k-means-constrained) (9.0.9048)\n",
            "Requirement already satisfied: absl-py>=0.11 in /usr/local/lib/python3.7/dist-packages (from ortools>=9.0.9048->k-means-constrained) (0.12.0)\n",
            "Requirement already satisfied: protobuf>=3.15.8 in /usr/local/lib/python3.7/dist-packages (from ortools>=9.0.9048->k-means-constrained) (3.17.3)\n"
          ],
          "name": "stdout"
        }
      ]
    },
    {
      "cell_type": "code",
      "metadata": {
        "id": "nkyxlICrqNOJ"
      },
      "source": [
        "from k_means_constrained import KMeansConstrained\n",
        "import numpy as np\n",
        "import seaborn as sns\n",
        "import matplotlib.pyplot as plt\n",
        "import pandas as pd"
      ],
      "execution_count": null,
      "outputs": []
    },
    {
      "cell_type": "markdown",
      "metadata": {
        "id": "Xdu8R_Rbu2OR"
      },
      "source": [
        "# Sample 1:"
      ]
    },
    {
      "cell_type": "code",
      "metadata": {
        "colab": {
          "base_uri": "https://localhost:8080/"
        },
        "id": "Y9UkeM3sqQl0",
        "outputId": "0692d4f5-1793-4980-cb5e-6329fff7d945"
      },
      "source": [
        "X = np.array([[1, 2],[1.5,1],[3,1],[2,2],[3,3],[2.5,3.5], [2, 4], [1, 0],[4, 2],[1.5,3.5], [3, 4], [4, 0], [3,3],[4,1]])\n",
        "clf = KMeansConstrained(n_clusters=3, size_min=2, size_max=5,random_state=0)\n",
        "clf.fit_predict(X)"
      ],
      "execution_count": null,
      "outputs": [
        {
          "output_type": "execute_result",
          "data": {
            "text/plain": [
              "array([1, 1, 2, 1, 0, 0, 0, 1, 2, 1, 0, 2, 0, 2], dtype=int32)"
            ]
          },
          "metadata": {},
          "execution_count": 88
        }
      ]
    },
    {
      "cell_type": "code",
      "metadata": {
        "id": "flfwjGOW3mcM"
      },
      "source": [
        "test_df = pd.DataFrame(X)\n",
        "test_df = test_df.rename(columns={0:'x',1:'y'})"
      ],
      "execution_count": null,
      "outputs": []
    },
    {
      "cell_type": "code",
      "metadata": {
        "colab": {
          "base_uri": "https://localhost:8080/",
          "height": 296
        },
        "id": "dlkXQatJ3dPL",
        "outputId": "1c48b2e4-921f-4d56-88de-2e3824259898"
      },
      "source": [
        "sns.scatterplot(x=test_df.x, y=test_df.y)"
      ],
      "execution_count": null,
      "outputs": [
        {
          "output_type": "execute_result",
          "data": {
            "text/plain": [
              "<matplotlib.axes._subplots.AxesSubplot at 0x7f2c77edd250>"
            ]
          },
          "metadata": {},
          "execution_count": 90
        },
        {
          "output_type": "display_data",
          "data": {
            "image/png": "[encoded data removed]",
            "text/plain": [
              "<Figure size 432x288 with 1 Axes>"
            ]
          },
          "metadata": {
            "needs_background": "light"
          }
        }
      ]
    },
    {
      "cell_type": "code",
      "metadata": {
        "colab": {
          "base_uri": "https://localhost:8080/",
          "height": 483
        },
        "id": "0GLhSrCjsK3U",
        "outputId": "faa9b877-4e76-4ade-966d-ad0927385ef6"
      },
      "source": [
        "test_df"
      ],
      "execution_count": null,
      "outputs": [
        {
          "output_type": "execute_result",
          "data": {
            "text/html": [
              "<div>\n",
              "<style scoped>\n",
              "    .dataframe tbody tr th:only-of-type {\n",
              "        vertical-align: middle;\n",
              "    }\n",
              "\n",
              "    .dataframe tbody tr th {\n",
              "        vertical-align: top;\n",
              "    }\n",
              "\n",
              "    .dataframe thead th {\n",
              "        text-align: right;\n",
              "    }\n",
              "</style>\n",
              "<table border=\"1\" class=\"dataframe\">\n",
              "  <thead>\n",
              "    <tr style=\"text-align: right;\">\n",
              "      <th></th>\n",
              "      <th>x</th>\n",
              "      <th>y</th>\n",
              "    </tr>\n",
              "  </thead>\n",
              "  <tbody>\n",
              "    <tr>\n",
              "      <th>0</th>\n",
              "      <td>1.0</td>\n",
              "      <td>2.0</td>\n",
              "    </tr>\n",
              "    <tr>\n",
              "      <th>1</th>\n",
              "      <td>1.5</td>\n",
              "      <td>1.0</td>\n",
              "    </tr>\n",
              "    <tr>\n",
              "      <th>2</th>\n",
              "      <td>3.0</td>\n",
              "      <td>1.0</td>\n",
              "    </tr>\n",
              "    <tr>\n",
              "      <th>3</th>\n",
              "      <td>2.0</td>\n",
              "      <td>2.0</td>\n",
              "    </tr>\n",
              "    <tr>\n",
              "      <th>4</th>\n",
              "      <td>3.0</td>\n",
              "      <td>3.0</td>\n",
              "    </tr>\n",
              "    <tr>\n",
              "      <th>5</th>\n",
              "      <td>2.5</td>\n",
              "      <td>3.5</td>\n",
              "    </tr>\n",
              "    <tr>\n",
              "      <th>6</th>\n",
              "      <td>2.0</td>\n",
              "      <td>4.0</td>\n",
              "    </tr>\n",
              "    <tr>\n",
              "      <th>7</th>\n",
              "      <td>1.0</td>\n",
              "      <td>0.0</td>\n",
              "    </tr>\n",
              "    <tr>\n",
              "      <th>8</th>\n",
              "      <td>4.0</td>\n",
              "      <td>2.0</td>\n",
              "    </tr>\n",
              "    <tr>\n",
              "      <th>9</th>\n",
              "      <td>1.5</td>\n",
              "      <td>3.5</td>\n",
              "    </tr>\n",
              "    <tr>\n",
              "      <th>10</th>\n",
              "      <td>3.0</td>\n",
              "      <td>4.0</td>\n",
              "    </tr>\n",
              "    <tr>\n",
              "      <th>11</th>\n",
              "      <td>4.0</td>\n",
              "      <td>0.0</td>\n",
              "    </tr>\n",
              "    <tr>\n",
              "      <th>12</th>\n",
              "      <td>3.0</td>\n",
              "      <td>3.0</td>\n",
              "    </tr>\n",
              "    <tr>\n",
              "      <th>13</th>\n",
              "      <td>4.0</td>\n",
              "      <td>1.0</td>\n",
              "    </tr>\n",
              "  </tbody>\n",
              "</table>\n",
              "</div>"
            ],
            "text/plain": [
              "      x    y\n",
              "0   1.0  2.0\n",
              "1   1.5  1.0\n",
              "2   3.0  1.0\n",
              "3   2.0  2.0\n",
              "4   3.0  3.0\n",
              "5   2.5  3.5\n",
              "6   2.0  4.0\n",
              "7   1.0  0.0\n",
              "8   4.0  2.0\n",
              "9   1.5  3.5\n",
              "10  3.0  4.0\n",
              "11  4.0  0.0\n",
              "12  3.0  3.0\n",
              "13  4.0  1.0"
            ]
          },
          "metadata": {},
          "execution_count": 91
        }
      ]
    },
    {
      "cell_type": "code",
      "metadata": {
        "colab": {
          "base_uri": "https://localhost:8080/",
          "height": 483
        },
        "id": "olhsfx8btaK6",
        "outputId": "e9fdd32d-6633-44ae-ed45-a846d1ec3f3b"
      },
      "source": [
        "test_df['cluster'] = clf.fit_predict(X).tolist()\n",
        "test_df"
      ],
      "execution_count": null,
      "outputs": [
        {
          "output_type": "execute_result",
          "data": {
            "text/html": [
              "<div>\n",
              "<style scoped>\n",
              "    .dataframe tbody tr th:only-of-type {\n",
              "        vertical-align: middle;\n",
              "    }\n",
              "\n",
              "    .dataframe tbody tr th {\n",
              "        vertical-align: top;\n",
              "    }\n",
              "\n",
              "    .dataframe thead th {\n",
              "        text-align: right;\n",
              "    }\n",
              "</style>\n",
              "<table border=\"1\" class=\"dataframe\">\n",
              "  <thead>\n",
              "    <tr style=\"text-align: right;\">\n",
              "      <th></th>\n",
              "      <th>x</th>\n",
              "      <th>y</th>\n",
              "      <th>cluster</th>\n",
              "    </tr>\n",
              "  </thead>\n",
              "  <tbody>\n",
              "    <tr>\n",
              "      <th>0</th>\n",
              "      <td>1.0</td>\n",
              "      <td>2.0</td>\n",
              "      <td>1</td>\n",
              "    </tr>\n",
              "    <tr>\n",
              "      <th>1</th>\n",
              "      <td>1.5</td>\n",
              "      <td>1.0</td>\n",
              "      <td>1</td>\n",
              "    </tr>\n",
              "    <tr>\n",
              "      <th>2</th>\n",
              "      <td>3.0</td>\n",
              "      <td>1.0</td>\n",
              "      <td>2</td>\n",
              "    </tr>\n",
              "    <tr>\n",
              "      <th>3</th>\n",
              "      <td>2.0</td>\n",
              "      <td>2.0</td>\n",
              "      <td>1</td>\n",
              "    </tr>\n",
              "    <tr>\n",
              "      <th>4</th>\n",
              "      <td>3.0</td>\n",
              "      <td>3.0</td>\n",
              "      <td>0</td>\n",
              "    </tr>\n",
              "    <tr>\n",
              "      <th>5</th>\n",
              "      <td>2.5</td>\n",
              "      <td>3.5</td>\n",
              "      <td>0</td>\n",
              "    </tr>\n",
              "    <tr>\n",
              "      <th>6</th>\n",
              "      <td>2.0</td>\n",
              "      <td>4.0</td>\n",
              "      <td>0</td>\n",
              "    </tr>\n",
              "    <tr>\n",
              "      <th>7</th>\n",
              "      <td>1.0</td>\n",
              "      <td>0.0</td>\n",
              "      <td>1</td>\n",
              "    </tr>\n",
              "    <tr>\n",
              "      <th>8</th>\n",
              "      <td>4.0</td>\n",
              "      <td>2.0</td>\n",
              "      <td>2</td>\n",
              "    </tr>\n",
              "    <tr>\n",
              "      <th>9</th>\n",
              "      <td>1.5</td>\n",
              "      <td>3.5</td>\n",
              "      <td>1</td>\n",
              "    </tr>\n",
              "    <tr>\n",
              "      <th>10</th>\n",
              "      <td>3.0</td>\n",
              "      <td>4.0</td>\n",
              "      <td>0</td>\n",
              "    </tr>\n",
              "    <tr>\n",
              "      <th>11</th>\n",
              "      <td>4.0</td>\n",
              "      <td>0.0</td>\n",
              "      <td>2</td>\n",
              "    </tr>\n",
              "    <tr>\n",
              "      <th>12</th>\n",
              "      <td>3.0</td>\n",
              "      <td>3.0</td>\n",
              "      <td>0</td>\n",
              "    </tr>\n",
              "    <tr>\n",
              "      <th>13</th>\n",
              "      <td>4.0</td>\n",
              "      <td>1.0</td>\n",
              "      <td>2</td>\n",
              "    </tr>\n",
              "  </tbody>\n",
              "</table>\n",
              "</div>"
            ],
            "text/plain": [
              "      x    y  cluster\n",
              "0   1.0  2.0        1\n",
              "1   1.5  1.0        1\n",
              "2   3.0  1.0        2\n",
              "3   2.0  2.0        1\n",
              "4   3.0  3.0        0\n",
              "5   2.5  3.5        0\n",
              "6   2.0  4.0        0\n",
              "7   1.0  0.0        1\n",
              "8   4.0  2.0        2\n",
              "9   1.5  3.5        1\n",
              "10  3.0  4.0        0\n",
              "11  4.0  0.0        2\n",
              "12  3.0  3.0        0\n",
              "13  4.0  1.0        2"
            ]
          },
          "metadata": {},
          "execution_count": 92
        }
      ]
    },
    {
      "cell_type": "code",
      "metadata": {
        "colab": {
          "base_uri": "https://localhost:8080/",
          "height": 296
        },
        "id": "5jVKSYLuttRh",
        "outputId": "aa41b9e3-e9f2-49af-e092-60d39f0233bc"
      },
      "source": [
        "sns.scatterplot(x=test_df.x, y=test_df.y, hue=test_df.cluster, palette='Accent')\n",
        "sns.scatterplot(x=clf.cluster_centers_[:,0], y=clf.cluster_centers_[:,1], color='b')"
      ],
      "execution_count": null,
      "outputs": [
        {
          "output_type": "execute_result",
          "data": {
            "text/plain": [
              "<matplotlib.axes._subplots.AxesSubplot at 0x7f2c790a6a10>"
            ]
          },
          "metadata": {},
          "execution_count": 47
        },
        {
          "output_type": "display_data",
          "data": {
            "image/png": "[encoded data removed]",
            "text/plain": [
              "<Figure size 432x288 with 1 Axes>"
            ]
          },
          "metadata": {
            "needs_background": "light"
          }
        }
      ]
    },
    {
      "cell_type": "code",
      "metadata": {
        "colab": {
          "base_uri": "https://localhost:8080/"
        },
        "id": "LYskytNXqg2K",
        "outputId": "042cb6dc-a714-47d9-d814-d9555961546c"
      },
      "source": [
        "clf.cluster_centers_"
      ],
      "execution_count": null,
      "outputs": [
        {
          "output_type": "execute_result",
          "data": {
            "text/plain": [
              "array([[2.66666667, 3.66666667],\n",
              "       [4.        , 1.        ],\n",
              "       [1.        , 1.        ]])"
            ]
          },
          "metadata": {},
          "execution_count": 26
        }
      ]
    },
    {
      "cell_type": "markdown",
      "metadata": {
        "id": "IJvJfX7du6ms"
      },
      "source": [
        "# Sample 2:"
      ]
    },
    {
      "cell_type": "code",
      "metadata": {
        "colab": {
          "base_uri": "https://localhost:8080/"
        },
        "id": "lF0UNOoNu8gO",
        "outputId": "f972112e-aff5-4d78-bc56-7e4e3e86e402"
      },
      "source": [
        "# opening file:\n",
        "df_original = pd.read_excel('/content/Base_de_datos_con_direcciones_limpias.xlsx')\n",
        "df_original.columns"
      ],
      "execution_count": null,
      "outputs": [
        {
          "output_type": "execute_result",
          "data": {
            "text/plain": [
              "Index(['Unnamed: 0', 'Curso', 'ESTUDIANTE', 'DIRECCION', 'BARRIO', 'RUTA',\n",
              "       'CIUDAD', 'Num_Ruta', 'Direccion_Clean', 'Direccion_final', 'Marker',\n",
              "       'latitudes', 'longitudes', 'coordenadas'],\n",
              "      dtype='object')"
            ]
          },
          "metadata": {},
          "execution_count": 9
        }
      ]
    },
    {
      "cell_type": "code",
      "metadata": {
        "colab": {
          "base_uri": "https://localhost:8080/",
          "height": 1000
        },
        "id": "KklzFQxkxj8F",
        "outputId": "816c45b4-747a-4f40-855a-48db9ee7d0a5"
      },
      "source": [
        "df = df_original.copy()\n",
        "df = df[df['latitudes'] != 'not found'].reset_index()\n",
        "real_test_df = df[df['RUTA'] < 5].reset_index()\n",
        "real_test_df = real_test_df.drop(['level_0','index','Unnamed: 0'], axis = 1)\n",
        "real_test_df"
      ],
      "execution_count": null,
      "outputs": [
        {
          "output_type": "execute_result",
          "data": {
            "text/html": [
              "<div>\n",
              "<style scoped>\n",
              "    .dataframe tbody tr th:only-of-type {\n",
              "        vertical-align: middle;\n",
              "    }\n",
              "\n",
              "    .dataframe tbody tr th {\n",
              "        vertical-align: top;\n",
              "    }\n",
              "\n",
              "    .dataframe thead th {\n",
              "        text-align: right;\n",
              "    }\n",
              "</style>\n",
              "<table border=\"1\" class=\"dataframe\">\n",
              "  <thead>\n",
              "    <tr style=\"text-align: right;\">\n",
              "      <th></th>\n",
              "      <th>Curso</th>\n",
              "      <th>ESTUDIANTE</th>\n",
              "      <th>DIRECCION</th>\n",
              "      <th>BARRIO</th>\n",
              "      <th>RUTA</th>\n",
              "      <th>CIUDAD</th>\n",
              "      <th>Num_Ruta</th>\n",
              "      <th>Direccion_Clean</th>\n",
              "      <th>Direccion_final</th>\n",
              "      <th>Marker</th>\n",
              "      <th>latitudes</th>\n",
              "      <th>longitudes</th>\n",
              "      <th>coordenadas</th>\n",
              "    </tr>\n",
              "  </thead>\n",
              "  <tbody>\n",
              "    <tr>\n",
              "      <th>0</th>\n",
              "      <td>04B</td>\n",
              "      <td>VALENZUELA HERRERA SARA</td>\n",
              "      <td>CLLE 81 # 115 20 BL 6 APTO 412</td>\n",
              "      <td>CORTIJO</td>\n",
              "      <td>1</td>\n",
              "      <td>BOGOTA</td>\n",
              "      <td>Ruta_1</td>\n",
              "      <td>calle 81 # 115 20</td>\n",
              "      <td>calle 81 # 115 20 BOGOTA Colombia</td>\n",
              "      <td>VALENZUELA HERRERA SARA calle 81 # 115 20</td>\n",
              "      <td>4.72435</td>\n",
              "      <td>-74.1202</td>\n",
              "      <td>(4.724351, -74.1202114)</td>\n",
              "    </tr>\n",
              "    <tr>\n",
              "      <th>1</th>\n",
              "      <td>09D</td>\n",
              "      <td>ESTEPA VALDERRAMA MARIA JIMENA</td>\n",
              "      <td>CLLE 81# 114-50 (TORRE A2, 501)</td>\n",
              "      <td>CORTIJO</td>\n",
              "      <td>1</td>\n",
              "      <td>BOGOTA</td>\n",
              "      <td>Ruta_1</td>\n",
              "      <td>calle 81# 114 50</td>\n",
              "      <td>calle 81# 114 50 BOGOTA Colombia</td>\n",
              "      <td>ESTEPA VALDERRAMA MARIA JIMENA calle 81# 114 50</td>\n",
              "      <td>4.72415</td>\n",
              "      <td>-74.1192</td>\n",
              "      <td>(4.7241476, -74.1191685)</td>\n",
              "    </tr>\n",
              "    <tr>\n",
              "      <th>2</th>\n",
              "      <td>06D</td>\n",
              "      <td>OJEDA GOMEZ ANA SOFIA</td>\n",
              "      <td>CLLE 81 # 115 15 APTO 507 INT 4</td>\n",
              "      <td>EL CORTIJO</td>\n",
              "      <td>1</td>\n",
              "      <td>BOGOTA</td>\n",
              "      <td>Ruta_1</td>\n",
              "      <td>calle 81 # 115 15</td>\n",
              "      <td>calle 81 # 115 15 BOGOTA Colombia</td>\n",
              "      <td>OJEDA GOMEZ ANA SOFIA calle 81 # 115 15</td>\n",
              "      <td>4.72399</td>\n",
              "      <td>-74.1208</td>\n",
              "      <td>(4.7239944, -74.12078439999999)</td>\n",
              "    </tr>\n",
              "    <tr>\n",
              "      <th>3</th>\n",
              "      <td>10B</td>\n",
              "      <td>NUÑEZ JAIMES ANNY DANIELA</td>\n",
              "      <td>CRA 114 # 80 51 INT 15 APTO 504</td>\n",
              "      <td>EL CORTIJO</td>\n",
              "      <td>1</td>\n",
              "      <td>BOGOTA</td>\n",
              "      <td>Ruta_1</td>\n",
              "      <td>carrera 114 # 80 51</td>\n",
              "      <td>carrera 114 # 80 51 BOGOTA Colombia</td>\n",
              "      <td>NUÑEZ JAIMES ANNY DANIELA carrera 114 # 80 51</td>\n",
              "      <td>4.72284</td>\n",
              "      <td>-74.121</td>\n",
              "      <td>(4.7228366, -74.1209799)</td>\n",
              "    </tr>\n",
              "    <tr>\n",
              "      <th>4</th>\n",
              "      <td>05F</td>\n",
              "      <td>GALEANO ROZO GABRIEL</td>\n",
              "      <td>CRA 114 # 80 51 INT 2 APTO 303</td>\n",
              "      <td>EL CORTIJO</td>\n",
              "      <td>1</td>\n",
              "      <td>BOGOTA</td>\n",
              "      <td>Ruta_1</td>\n",
              "      <td>carrera 114 # 80 51</td>\n",
              "      <td>carrera 114 # 80 51 BOGOTA Colombia</td>\n",
              "      <td>GALEANO ROZO GABRIEL carrera 114 # 80 51</td>\n",
              "      <td>4.72284</td>\n",
              "      <td>-74.121</td>\n",
              "      <td>(4.7228366, -74.1209799)</td>\n",
              "    </tr>\n",
              "    <tr>\n",
              "      <th>...</th>\n",
              "      <td>...</td>\n",
              "      <td>...</td>\n",
              "      <td>...</td>\n",
              "      <td>...</td>\n",
              "      <td>...</td>\n",
              "      <td>...</td>\n",
              "      <td>...</td>\n",
              "      <td>...</td>\n",
              "      <td>...</td>\n",
              "      <td>...</td>\n",
              "      <td>...</td>\n",
              "      <td>...</td>\n",
              "      <td>...</td>\n",
              "    </tr>\n",
              "    <tr>\n",
              "      <th>123</th>\n",
              "      <td>11C</td>\n",
              "      <td>VARGAS ORTIZ VALENTINA</td>\n",
              "      <td>CLLE 81 # 113 46 CS 18</td>\n",
              "      <td>CIUDADELA COLSUBSIDIO</td>\n",
              "      <td>4</td>\n",
              "      <td>BOGOTA</td>\n",
              "      <td>Ruta_4</td>\n",
              "      <td>calle 81 # 113 46</td>\n",
              "      <td>calle 81 # 113 46 BOGOTA Colombia</td>\n",
              "      <td>VARGAS ORTIZ VALENTINA calle 81 # 113 46</td>\n",
              "      <td>4.72266</td>\n",
              "      <td>-74.1189</td>\n",
              "      <td>(4.7226573, -74.1188679)</td>\n",
              "    </tr>\n",
              "    <tr>\n",
              "      <th>124</th>\n",
              "      <td>06A</td>\n",
              "      <td>JIMENEZ SANCHEZ ANDRES JOSE</td>\n",
              "      <td>CRA 112 BIS # 81 51 BLO 13 APTO 501</td>\n",
              "      <td>CIUDADELA COLSUBSIDIO</td>\n",
              "      <td>4</td>\n",
              "      <td>BOGOTA</td>\n",
              "      <td>Ruta_4</td>\n",
              "      <td>carrera 112 bis # 81 51</td>\n",
              "      <td>carrera 112 bis # 81 51 BOGOTA Colombia</td>\n",
              "      <td>JIMENEZ SANCHEZ ANDRES JOSE carrera 112 bis # ...</td>\n",
              "      <td>4.72119</td>\n",
              "      <td>-74.1172</td>\n",
              "      <td>(4.7211937, -74.1172292)</td>\n",
              "    </tr>\n",
              "    <tr>\n",
              "      <th>125</th>\n",
              "      <td>03J</td>\n",
              "      <td>AMADO SALAZAR SARA MARIA</td>\n",
              "      <td>CRA 112 BIS # 81 51 INT 4 APTO 501</td>\n",
              "      <td>CIUDADELA COLSUBSIDIO</td>\n",
              "      <td>4</td>\n",
              "      <td>BOGOTA</td>\n",
              "      <td>Ruta_4</td>\n",
              "      <td>carrera 112 bis # 81 51</td>\n",
              "      <td>carrera 112 bis # 81 51 BOGOTA Colombia</td>\n",
              "      <td>AMADO SALAZAR SARA MARIA carrera 112 bis # 81 51</td>\n",
              "      <td>4.72119</td>\n",
              "      <td>-74.1172</td>\n",
              "      <td>(4.7211937, -74.1172292)</td>\n",
              "    </tr>\n",
              "    <tr>\n",
              "      <th>126</th>\n",
              "      <td>09F</td>\n",
              "      <td>INFANTE SANCHEZ JUAN SEBASTIAN</td>\n",
              "      <td>CRA 112 F # 80-85 INTERIOR 42 APTO 301</td>\n",
              "      <td>CIUDADELA COLSUBSIDIO</td>\n",
              "      <td>4</td>\n",
              "      <td>BOGOTA</td>\n",
              "      <td>Ruta_4</td>\n",
              "      <td>carrera 112 f # 80 85</td>\n",
              "      <td>carrera 112 f # 80 85 BOGOTA Colombia</td>\n",
              "      <td>INFANTE SANCHEZ JUAN SEBASTIAN carrera 112 f #...</td>\n",
              "      <td>4.72091</td>\n",
              "      <td>-74.119</td>\n",
              "      <td>(4.7209106, -74.1189966)</td>\n",
              "    </tr>\n",
              "    <tr>\n",
              "      <th>127</th>\n",
              "      <td>02G</td>\n",
              "      <td>LADINO ROJAS JUAN FELIPE</td>\n",
              "      <td>CLLE 83 A # 112 F 15 INT 23 APTO 304</td>\n",
              "      <td>CIUDADELA COLSUBSIDIO</td>\n",
              "      <td>4</td>\n",
              "      <td>BOGOTA</td>\n",
              "      <td>Ruta_4</td>\n",
              "      <td>calle 83 a # 112 f 15</td>\n",
              "      <td>calle 83 a # 112 f 15 BOGOTA Colombia</td>\n",
              "      <td>LADINO ROJAS JUAN FELIPE calle 83 a # 112 f 15</td>\n",
              "      <td>4.72396</td>\n",
              "      <td>-74.1155</td>\n",
              "      <td>(4.7239578, -74.115517)</td>\n",
              "    </tr>\n",
              "  </tbody>\n",
              "</table>\n",
              "<p>128 rows × 13 columns</p>\n",
              "</div>"
            ],
            "text/plain": [
              "    Curso  ...                      coordenadas\n",
              "0     04B  ...          (4.724351, -74.1202114)\n",
              "1     09D  ...         (4.7241476, -74.1191685)\n",
              "2     06D  ...  (4.7239944, -74.12078439999999)\n",
              "3     10B  ...         (4.7228366, -74.1209799)\n",
              "4     05F  ...         (4.7228366, -74.1209799)\n",
              "..    ...  ...                              ...\n",
              "123   11C  ...         (4.7226573, -74.1188679)\n",
              "124   06A  ...         (4.7211937, -74.1172292)\n",
              "125   03J  ...         (4.7211937, -74.1172292)\n",
              "126   09F  ...         (4.7209106, -74.1189966)\n",
              "127   02G  ...          (4.7239578, -74.115517)\n",
              "\n",
              "[128 rows x 13 columns]"
            ]
          },
          "metadata": {},
          "execution_count": 94
        }
      ]
    },
    {
      "cell_type": "code",
      "metadata": {
        "colab": {
          "base_uri": "https://localhost:8080/"
        },
        "id": "ZgC1yJLAyX7Z",
        "outputId": "9479e396-c048-449f-94dc-c817f4854119"
      },
      "source": [
        "len(real_test_df)"
      ],
      "execution_count": null,
      "outputs": [
        {
          "output_type": "execute_result",
          "data": {
            "text/plain": [
              "128"
            ]
          },
          "metadata": {},
          "execution_count": 95
        }
      ]
    },
    {
      "cell_type": "code",
      "metadata": {
        "colab": {
          "base_uri": "https://localhost:8080/",
          "height": 296
        },
        "id": "1QVfjLneyixo",
        "outputId": "28e626ad-243c-4514-bb90-8f3b91fb0c32"
      },
      "source": [
        "sns.scatterplot(x=real_test_df.latitudes, y=real_test_df.longitudes, hue=real_test_df.RUTA, palette='jet_r')"
      ],
      "execution_count": null,
      "outputs": [
        {
          "output_type": "execute_result",
          "data": {
            "text/plain": [
              "<matplotlib.axes._subplots.AxesSubplot at 0x7f2c77dbd190>"
            ]
          },
          "metadata": {},
          "execution_count": 105
        },
        {
          "output_type": "display_data",
          "data": {
            "image/png": "[encoded data removed]",
            "text/plain": [
              "<Figure size 432x288 with 1 Axes>"
            ]
          },
          "metadata": {
            "needs_background": "light"
          }
        }
      ]
    },
    {
      "cell_type": "markdown",
      "metadata": {
        "id": "LgTrSwN7uLAT"
      },
      "source": [
        "'Accent', 'Accent_r', 'Blues', 'Blues_r', 'BrBG', 'BrBG_r', 'BuGn', 'BuGn_r', 'BuPu', 'BuPu_r', 'CMRmap', 'CMRmap_r', 'Dark2', 'Dark2_r', 'GnBu', 'GnBu_r', 'Greens', 'Greens_r', 'Greys', 'Greys_r', 'OrRd', 'OrRd_r', 'Oranges', 'Oranges_r', 'PRGn', 'PRGn_r', 'Paired', 'Paired_r', 'Pastel1', 'Pastel1_r', 'Pastel2', 'Pastel2_r', 'PiYG', 'PiYG_r', 'PuBu', 'PuBuGn', 'PuBuGn_r', 'PuBu_r', 'PuOr', 'PuOr_r', 'PuRd', 'PuRd_r', 'Purples', 'Purples_r', 'RdBu', 'RdBu_r', 'RdGy', 'RdGy_r', 'RdPu', 'RdPu_r', 'RdYlBu', 'RdYlBu_r', 'RdYlGn', 'RdYlGn_r', 'Reds', 'Reds_r', 'Set1', 'Set1_r', 'Set2', 'Set2_r', 'Set3', 'Set3_r', 'Spectral', 'Spectral_r', 'Wistia', 'Wistia_r', 'YlGn', 'YlGnBu', 'YlGnBu_r', 'YlGn_r', 'YlOrBr', 'YlOrBr_r', 'YlOrRd', 'YlOrRd_r', 'afmhot', 'afmhot_r', 'autumn', 'autumn_r', 'binary', 'binary_r', 'bone', 'bone_r', 'brg', 'brg_r', 'bwr', 'bwr_r', 'cividis', 'cividis_r', 'cool', 'cool_r', 'coolwarm', 'coolwarm_r', 'copper', 'copper_r', 'crest', 'crest_r', 'cubehelix', 'cubehelix_r', 'flag', 'flag_r', 'flare', 'flare_r', 'gist_earth', 'gist_earth_r', 'gist_gray', 'gist_gray_r', 'gist_heat', 'gist_heat_r', 'gist_ncar', 'gist_ncar_r', 'gist_rainbow', 'gist_rainbow_r', 'gist_stern', 'gist_stern_r', 'gist_yarg', 'gist_yarg_r', 'gnuplot', 'gnuplot2', 'gnuplot2_r', 'gnuplot_r', 'gray', 'gray_r', 'hot', 'hot_r', 'hsv', 'hsv_r', 'icefire', 'icefire_r', 'inferno', 'inferno_r', 'jet', 'jet_r'"
      ]
    },
    {
      "cell_type": "code",
      "metadata": {
        "id": "FlyLcxTsy6t4"
      },
      "source": [
        "locations = np.array(real_test_df[['latitudes','longitudes']])"
      ],
      "execution_count": null,
      "outputs": []
    },
    {
      "cell_type": "code",
      "metadata": {
        "colab": {
          "base_uri": "https://localhost:8080/"
        },
        "id": "fta5ooMRzdGL",
        "outputId": "b8dd8eef-c279-450e-880a-912656b54af5"
      },
      "source": [
        "clf = KMeansConstrained(n_clusters=4, size_min=13, size_max=32,random_state=0)\n",
        "clf.fit_predict(locations)"
      ],
      "execution_count": null,
      "outputs": [
        {
          "output_type": "execute_result",
          "data": {
            "text/plain": [
              "array([2, 1, 2, 1, 1, 1, 2, 2, 2, 2, 2, 2, 2, 2, 2, 2, 2, 2, 2, 2, 2, 2,\n",
              "       1, 1, 1, 1, 1, 1, 1, 1, 2, 1, 2, 2, 2, 2, 2, 0, 0, 0, 0, 0, 0, 0,\n",
              "       0, 2, 2, 3, 0, 2, 2, 2, 2, 0, 0, 0, 0, 3, 2, 3, 2, 3, 1, 3, 0, 0,\n",
              "       0, 0, 0, 0, 0, 0, 3, 3, 3, 0, 0, 0, 0, 3, 3, 3, 0, 3, 3, 0, 3, 3,\n",
              "       3, 0, 0, 0, 0, 3, 3, 0, 1, 3, 3, 3, 3, 3, 3, 3, 3, 3, 1, 3, 1, 1,\n",
              "       1, 1, 1, 1, 1, 3, 1, 3, 3, 1, 1, 1, 1, 1, 1, 1, 1, 3], dtype=int32)"
            ]
          },
          "metadata": {},
          "execution_count": 98
        }
      ]
    },
    {
      "cell_type": "code",
      "metadata": {
        "id": "zi6M49_cznNb"
      },
      "source": [
        "real_test_df['cluster'] = clf.fit_predict(locations).tolist()\n",
        "#real_test_df"
      ],
      "execution_count": null,
      "outputs": []
    },
    {
      "cell_type": "code",
      "metadata": {
        "colab": {
          "base_uri": "https://localhost:8080/",
          "height": 296
        },
        "id": "NjILcuxh0k7d",
        "outputId": "d545bd1a-be1d-4134-84af-83cec753efc4"
      },
      "source": [
        "sns.scatterplot(x=real_test_df.latitudes, y=real_test_df.longitudes, hue=real_test_df.RUTA, palette='jet_r')"
      ],
      "execution_count": null,
      "outputs": [
        {
          "output_type": "execute_result",
          "data": {
            "text/plain": [
              "<matplotlib.axes._subplots.AxesSubplot at 0x7f2c77a300d0>"
            ]
          },
          "metadata": {},
          "execution_count": 111
        },
        {
          "output_type": "display_data",
          "data": {
            "image/png": "[encoded data removed]",
            "text/plain": [
              "<Figure size 432x288 with 1 Axes>"
            ]
          },
          "metadata": {
            "needs_background": "light"
          }
        }
      ]
    },
    {
      "cell_type": "code",
      "metadata": {
        "colab": {
          "base_uri": "https://localhost:8080/",
          "height": 296
        },
        "id": "q4Two0-10qTT",
        "outputId": "c4d4da76-a90b-48e1-b673-f10ce1420324"
      },
      "source": [
        "sns.scatterplot(x=real_test_df.latitudes, y=real_test_df.longitudes, hue=real_test_df.cluster, palette='jet_r', legend='brief')"
      ],
      "execution_count": null,
      "outputs": [
        {
          "output_type": "execute_result",
          "data": {
            "text/plain": [
              "<matplotlib.axes._subplots.AxesSubplot at 0x7f2c778d1890>"
            ]
          },
          "metadata": {},
          "execution_count": 114
        },
        {
          "output_type": "display_data",
          "data": {
            "image/png": "[encoded data removed]",
            "text/plain": [
              "<Figure size 432x288 with 1 Axes>"
            ]
          },
          "metadata": {
            "needs_background": "light"
          }
        }
      ]
    },
    {
      "cell_type": "code",
      "metadata": {
        "id": "8Xbn9paB0t_Z"
      },
      "source": [
        "import folium\n",
        "from folium import plugins\n",
        "from folium.plugins import HeatMap\n",
        "from folium.plugins import MarkerCluster"
      ],
      "execution_count": null,
      "outputs": []
    },
    {
      "cell_type": "code",
      "metadata": {
        "id": "So44FubO139x"
      },
      "source": [
        "def mapa_de_cluster(cluster):\n",
        "  temp_df = real_test_df[real_test_df['cluster']== cluster].reset_index()\n",
        "  temp_locations =  temp_df[['latitudes', 'longitudes']]\n",
        "  temp_locationlist = temp_locations.values.tolist()\n",
        "  avg_latitud = temp_df['latitudes'].mean()\n",
        "  avg_longitud = temp_df['longitudes'].mean()\n",
        "  avg_location = [avg_latitud, avg_longitud]\n",
        "  map = folium.Map(location=avg_location, zoom_start=16)\n",
        "  for point in range(0, len(temp_locationlist)):\n",
        "    folium.Marker(temp_locationlist[point], popup=temp_df['ESTUDIANTE'][point]).add_to(map)\n",
        "  return map"
      ],
      "execution_count": null,
      "outputs": []
    },
    {
      "cell_type": "code",
      "metadata": {
        "colab": {
          "base_uri": "https://localhost:8080/",
          "height": 712
        },
        "id": "0BWi7LSZ1_4B",
        "outputId": "5df6121e-fcf9-484b-fbbd-65fdd62ab7ed"
      },
      "source": [
        "mapa_de_cluster(3)"
      ],
      "execution_count": null,
      "outputs": [
        {
          "output_type": "execute_result",
          "data": {
            "text/html": [
              "<div style=\"width:100%;\"><div style=\"position:relative;width:100%;height:0;padding-bottom:60%;\"><span style=\"color:#565656\">Make this Notebook Trusted to load map: File -> Trust Notebook</span><iframe src=\"about:blank\" style=\"position:absolute;width:100%;height:100%;left:0;top:0;border:none !important;\" data-html=%3C%21DOCTYPE%20html%3E%0A%3Chead%3E%20%20%20%20%0A%20%20%20%20%3Cmeta%20http-equiv%3D%22content-type%22%20content%3D%22text/html%3B%20charset%3DUTF-8%22%20/%3E%0A%20%20%20%20%3Cscript%3EL_PREFER_CANVAS%3Dfalse%3B%20L_NO_TOUCH%3Dfalse%3B%20L_DISABLE_3D%3Dfalse%3B%3C/script%3E%0A%20%20%20%20%3Cscript%20src%3D%22https%3A//cdn.jsdelivr.net/npm/leaflet%401.4.0/dist/leaflet.js%22%3E%3C/script%3E%0A%20%20%20%20%3Cscript%20src%3D%22https%3A//code.jquery.com/jquery-1.12.4.min.js%22%3E%3C/script%3E%0A%20%20%20%20%3Cscript%20src%3D%22https%3A//maxcdn.bootstrapcdn.com/bootstrap/3.2.0/js/bootstrap.min.js%22%3E%3C/script%3E%0A%20%20%20%20%3Cscript%20src%3D%22https%3A//cdnjs.cloudflare.com/ajax/libs/Leaflet.awesome-markers/2.0.2/leaflet.awesome-markers.js%22%3E%3C/script%3E%0A%20%20%20%20%3Clink%20rel%3D%22stylesheet%22%20href%3D%22https%3A//cdn.jsdelivr.net/npm/leaflet%401.4.0/dist/leaflet.css%22/%3E%0A%20%20%20%20%3Clink%20rel%3D%22stylesheet%22%20href%3D%22https%3A//maxcdn.bootstrapcdn.com/bootstrap/3.2.0/css/bootstrap.min.css%22/%3E%0A%20%20%20%20%3Clink%20rel%3D%22stylesheet%22%20href%3D%22https%3A//maxcdn.bootstrapcdn.com/bootstrap/3.2.0/css/bootstrap-theme.min.css%22/%3E%0A%20%20%20%20%3Clink%20rel%3D%22stylesheet%22%20href%3D%22https%3A//maxcdn.bootstrapcdn.com/font-awesome/4.6.3/css/font-awesome.min.css%22/%3E%0A%20%20%20%20%3Clink%20rel%3D%22stylesheet%22%20href%3D%22https%3A//cdnjs.cloudflare.com/ajax/libs/Leaflet.awesome-markers/2.0.2/leaflet.awesome-markers.css%22/%3E%0A%20%20%20%20%3Clink%20rel%3D%22stylesheet%22%20href%3D%22https%3A//rawcdn.githack.com/python-visualization/folium/master/folium/templates/leaflet.awesome.rotate.css%22/%3E%0A%20%20%20%20%3Cstyle%3Ehtml%2C%20body%20%7Bwidth%3A%20100%25%3Bheight%3A%20100%25%3Bmargin%3A%200%3Bpadding%3A%200%3B%7D%3C/style%3E%0A%20%20%20%20%3Cstyle%3E%23map%20%7Bposition%3Aabsolute%3Btop%3A0%3Bbottom%3A0%3Bright%3A0%3Bleft%3A0%3B%7D%3C/style%3E%0A%20%20%20%20%0A%20%20%20%20%3Cmeta%20name%3D%22viewport%22%20content%3D%22width%3Ddevice-width%2C%0A%20%20%20%20%20%20%20%20initial-scale%3D1.0%2C%20maximum-scale%3D1.0%2C%20user-scalable%3Dno%22%20/%3E%0A%20%20%20%20%3Cstyle%3E%23map_0f801d3600474d2d96d5e057e06cf872%20%7B%0A%20%20%20%20%20%20%20%20position%3A%20relative%3B%0A%20%20%20%20%20%20%20%20width%3A%20100.0%25%3B%0A%20%20%20%20%20%20%20%20height%3A%20100.0%25%3B%0A%20%20%20%20%20%20%20%20left%3A%200.0%25%3B%0A%20%20%20%20%20%20%20%20top%3A%200.0%25%3B%0A%20%20%20%20%20%20%20%20%7D%0A%20%20%20%20%3C/style%3E%0A%3C/head%3E%0A%3Cbody%3E%20%20%20%20%0A%20%20%20%20%0A%20%20%20%20%3Cdiv%20class%3D%22folium-map%22%20id%3D%22map_0f801d3600474d2d96d5e057e06cf872%22%20%3E%3C/div%3E%0A%3C/body%3E%0A%3Cscript%3E%20%20%20%20%0A%20%20%20%20%0A%20%20%20%20%0A%20%20%20%20%20%20%20%20var%20bounds%20%3D%20null%3B%0A%20%20%20%20%0A%0A%20%20%20%20var%20map_0f801d3600474d2d96d5e057e06cf872%20%3D%20L.map%28%0A%20%20%20%20%20%20%20%20%27map_0f801d3600474d2d96d5e057e06cf872%27%2C%20%7B%0A%20%20%20%20%20%20%20%20center%3A%20%5B4.7234523875%2C%20-74.11227673437502%5D%2C%0A%20%20%20%20%20%20%20%20zoom%3A%2016%2C%0A%20%20%20%20%20%20%20%20maxBounds%3A%20bounds%2C%0A%20%20%20%20%20%20%20%20layers%3A%20%5B%5D%2C%0A%20%20%20%20%20%20%20%20worldCopyJump%3A%20false%2C%0A%20%20%20%20%20%20%20%20crs%3A%20L.CRS.EPSG3857%2C%0A%20%20%20%20%20%20%20%20zoomControl%3A%20true%2C%0A%20%20%20%20%20%20%20%20%7D%29%3B%0A%0A%0A%20%20%20%20%0A%20%20%20%20var%20tile_layer_0d3cc7225a2f4a06ae085039794de76f%20%3D%20L.tileLayer%28%0A%20%20%20%20%20%20%20%20%27https%3A//%7Bs%7D.tile.openstreetmap.org/%7Bz%7D/%7Bx%7D/%7By%7D.png%27%2C%0A%20%20%20%20%20%20%20%20%7B%0A%20%20%20%20%20%20%20%20%22attribution%22%3A%20null%2C%0A%20%20%20%20%20%20%20%20%22detectRetina%22%3A%20false%2C%0A%20%20%20%20%20%20%20%20%22maxNativeZoom%22%3A%2018%2C%0A%20%20%20%20%20%20%20%20%22maxZoom%22%3A%2018%2C%0A%20%20%20%20%20%20%20%20%22minZoom%22%3A%200%2C%0A%20%20%20%20%20%20%20%20%22noWrap%22%3A%20false%2C%0A%20%20%20%20%20%20%20%20%22opacity%22%3A%201%2C%0A%20%20%20%20%20%20%20%20%22subdomains%22%3A%20%22abc%22%2C%0A%20%20%20%20%20%20%20%20%22tms%22%3A%20false%0A%7D%29.addTo%28map_0f801d3600474d2d96d5e057e06cf872%29%3B%0A%20%20%20%20%0A%20%20%20%20%20%20%20%20var%20marker_7f2e2c5e703146b9a4f37da5caf529cd%20%3D%20L.marker%28%0A%20%20%20%20%20%20%20%20%20%20%20%20%5B4.7256978%2C%20-74.1171222%5D%2C%0A%20%20%20%20%20%20%20%20%20%20%20%20%7B%0A%20%20%20%20%20%20%20%20%20%20%20%20%20%20%20%20icon%3A%20new%20L.Icon.Default%28%29%2C%0A%20%20%20%20%20%20%20%20%20%20%20%20%20%20%20%20%7D%0A%20%20%20%20%20%20%20%20%20%20%20%20%29.addTo%28map_0f801d3600474d2d96d5e057e06cf872%29%3B%0A%20%20%20%20%20%20%20%20%0A%20%20%20%20%0A%20%20%20%20%20%20%20%20%20%20%20%20var%20popup_b4ff5ee08bac400ab1059e840849afcb%20%3D%20L.popup%28%7BmaxWidth%3A%20%27100%25%27%0A%20%20%20%20%20%20%20%20%20%20%20%20%0A%20%20%20%20%20%20%20%20%20%20%20%20%7D%29%3B%0A%0A%20%20%20%20%20%20%20%20%20%20%20%20%0A%20%20%20%20%20%20%20%20%20%20%20%20%20%20%20%20var%20html_e589cb0ebee143118eb4ff6a633b8b63%20%3D%20%24%28%60%3Cdiv%20id%3D%22html_e589cb0ebee143118eb4ff6a633b8b63%22%20style%3D%22width%3A%20100.0%25%3B%20height%3A%20100.0%25%3B%22%3EMORENO%20ZULUAGA%20LAURA%20NICOLE%3C/div%3E%60%29%5B0%5D%3B%0A%20%20%20%20%20%20%20%20%20%20%20%20%20%20%20%20popup_b4ff5ee08bac400ab1059e840849afcb.setContent%28html_e589cb0ebee143118eb4ff6a633b8b63%29%3B%0A%20%20%20%20%20%20%20%20%20%20%20%20%0A%0A%20%20%20%20%20%20%20%20%20%20%20%20marker_7f2e2c5e703146b9a4f37da5caf529cd.bindPopup%28popup_b4ff5ee08bac400ab1059e840849afcb%29%0A%20%20%20%20%20%20%20%20%20%20%20%20%3B%0A%0A%20%20%20%20%20%20%20%20%20%20%20%20%0A%20%20%20%20%20%20%20%20%0A%20%20%20%20%0A%20%20%20%20%20%20%20%20var%20marker_7ceb270cd9db40eea41730ccc1c070f6%20%3D%20L.marker%28%0A%20%20%20%20%20%20%20%20%20%20%20%20%5B4.725700499999999%2C%20-74.1154169%5D%2C%0A%20%20%20%20%20%20%20%20%20%20%20%20%7B%0A%20%20%20%20%20%20%20%20%20%20%20%20%20%20%20%20icon%3A%20new%20L.Icon.Default%28%29%2C%0A%20%20%20%20%20%20%20%20%20%20%20%20%20%20%20%20%7D%0A%20%20%20%20%20%20%20%20%20%20%20%20%29.addTo%28map_0f801d3600474d2d96d5e057e06cf872%29%3B%0A%20%20%20%20%20%20%20%20%0A%20%20%20%20%0A%20%20%20%20%20%20%20%20%20%20%20%20var%20popup_04ae5f1e43784384b280bc135a03676d%20%3D%20L.popup%28%7BmaxWidth%3A%20%27100%25%27%0A%20%20%20%20%20%20%20%20%20%20%20%20%0A%20%20%20%20%20%20%20%20%20%20%20%20%7D%29%3B%0A%0A%20%20%20%20%20%20%20%20%20%20%20%20%0A%20%20%20%20%20%20%20%20%20%20%20%20%20%20%20%20var%20html_9bb5050705e9433ab9c3d13667b9cecd%20%3D%20%24%28%60%3Cdiv%20id%3D%22html_9bb5050705e9433ab9c3d13667b9cecd%22%20style%3D%22width%3A%20100.0%25%3B%20height%3A%20100.0%25%3B%22%3EDURAN%20CASTILLO%20THOMAS%3C/div%3E%60%29%5B0%5D%3B%0A%20%20%20%20%20%20%20%20%20%20%20%20%20%20%20%20popup_04ae5f1e43784384b280bc135a03676d.setContent%28html_9bb5050705e9433ab9c3d13667b9cecd%29%3B%0A%20%20%20%20%20%20%20%20%20%20%20%20%0A%0A%20%20%20%20%20%20%20%20%20%20%20%20marker_7ceb270cd9db40eea41730ccc1c070f6.bindPopup%28popup_04ae5f1e43784384b280bc135a03676d%29%0A%20%20%20%20%20%20%20%20%20%20%20%20%3B%0A%0A%20%20%20%20%20%20%20%20%20%20%20%20%0A%20%20%20%20%20%20%20%20%0A%20%20%20%20%0A%20%20%20%20%20%20%20%20var%20marker_ba694f2ecb634d698b043befc7ab809f%20%3D%20L.marker%28%0A%20%20%20%20%20%20%20%20%20%20%20%20%5B4.7244288%2C%20-74.1154542%5D%2C%0A%20%20%20%20%20%20%20%20%20%20%20%20%7B%0A%20%20%20%20%20%20%20%20%20%20%20%20%20%20%20%20icon%3A%20new%20L.Icon.Default%28%29%2C%0A%20%20%20%20%20%20%20%20%20%20%20%20%20%20%20%20%7D%0A%20%20%20%20%20%20%20%20%20%20%20%20%29.addTo%28map_0f801d3600474d2d96d5e057e06cf872%29%3B%0A%20%20%20%20%20%20%20%20%0A%20%20%20%20%0A%20%20%20%20%20%20%20%20%20%20%20%20var%20popup_6613b07b8fa444ad909fb5408a3dd0e4%20%3D%20L.popup%28%7BmaxWidth%3A%20%27100%25%27%0A%20%20%20%20%20%20%20%20%20%20%20%20%0A%20%20%20%20%20%20%20%20%20%20%20%20%7D%29%3B%0A%0A%20%20%20%20%20%20%20%20%20%20%20%20%0A%20%20%20%20%20%20%20%20%20%20%20%20%20%20%20%20var%20html_18b56ef91c6d473984e7b0e68a178ff5%20%3D%20%24%28%60%3Cdiv%20id%3D%22html_18b56ef91c6d473984e7b0e68a178ff5%22%20style%3D%22width%3A%20100.0%25%3B%20height%3A%20100.0%25%3B%22%3EYAGUARA%20VALENCIA%20VICTORIA%3C/div%3E%60%29%5B0%5D%3B%0A%20%20%20%20%20%20%20%20%20%20%20%20%20%20%20%20popup_6613b07b8fa444ad909fb5408a3dd0e4.setContent%28html_18b56ef91c6d473984e7b0e68a178ff5%29%3B%0A%20%20%20%20%20%20%20%20%20%20%20%20%0A%0A%20%20%20%20%20%20%20%20%20%20%20%20marker_ba694f2ecb634d698b043befc7ab809f.bindPopup%28popup_6613b07b8fa444ad909fb5408a3dd0e4%29%0A%20%20%20%20%20%20%20%20%20%20%20%20%3B%0A%0A%20%20%20%20%20%20%20%20%20%20%20%20%0A%20%20%20%20%20%20%20%20%0A%20%20%20%20%0A%20%20%20%20%20%20%20%20var%20marker_299ccde0f7e341358de6b2e3ca6949f3%20%3D%20L.marker%28%0A%20%20%20%20%20%20%20%20%20%20%20%20%5B4.7244288%2C%20-74.1154542%5D%2C%0A%20%20%20%20%20%20%20%20%20%20%20%20%7B%0A%20%20%20%20%20%20%20%20%20%20%20%20%20%20%20%20icon%3A%20new%20L.Icon.Default%28%29%2C%0A%20%20%20%20%20%20%20%20%20%20%20%20%20%20%20%20%7D%0A%20%20%20%20%20%20%20%20%20%20%20%20%29.addTo%28map_0f801d3600474d2d96d5e057e06cf872%29%3B%0A%20%20%20%20%20%20%20%20%0A%20%20%20%20%0A%20%20%20%20%20%20%20%20%20%20%20%20var%20popup_310a481ca4fb4cb79608683f6aa25892%20%3D%20L.popup%28%7BmaxWidth%3A%20%27100%25%27%0A%20%20%20%20%20%20%20%20%20%20%20%20%0A%20%20%20%20%20%20%20%20%20%20%20%20%7D%29%3B%0A%0A%20%20%20%20%20%20%20%20%20%20%20%20%0A%20%20%20%20%20%20%20%20%20%20%20%20%20%20%20%20var%20html_09bbeaf5ae3c4f9e8ac43cefe673b78f%20%3D%20%24%28%60%3Cdiv%20id%3D%22html_09bbeaf5ae3c4f9e8ac43cefe673b78f%22%20style%3D%22width%3A%20100.0%25%3B%20height%3A%20100.0%25%3B%22%3ESARMIENTO%20P%C3%89REZ%20MAR%C3%8DA%20CAMILA%3C/div%3E%60%29%5B0%5D%3B%0A%20%20%20%20%20%20%20%20%20%20%20%20%20%20%20%20popup_310a481ca4fb4cb79608683f6aa25892.setContent%28html_09bbeaf5ae3c4f9e8ac43cefe673b78f%29%3B%0A%20%20%20%20%20%20%20%20%20%20%20%20%0A%0A%20%20%20%20%20%20%20%20%20%20%20%20marker_299ccde0f7e341358de6b2e3ca6949f3.bindPopup%28popup_310a481ca4fb4cb79608683f6aa25892%29%0A%20%20%20%20%20%20%20%20%20%20%20%20%3B%0A%0A%20%20%20%20%20%20%20%20%20%20%20%20%0A%20%20%20%20%20%20%20%20%0A%20%20%20%20%0A%20%20%20%20%20%20%20%20var%20marker_4294cfa67edc407fa6e0ff20cc19e108%20%3D%20L.marker%28%0A%20%20%20%20%20%20%20%20%20%20%20%20%5B4.7244288%2C%20-74.1154542%5D%2C%0A%20%20%20%20%20%20%20%20%20%20%20%20%7B%0A%20%20%20%20%20%20%20%20%20%20%20%20%20%20%20%20icon%3A%20new%20L.Icon.Default%28%29%2C%0A%20%20%20%20%20%20%20%20%20%20%20%20%20%20%20%20%7D%0A%20%20%20%20%20%20%20%20%20%20%20%20%29.addTo%28map_0f801d3600474d2d96d5e057e06cf872%29%3B%0A%20%20%20%20%20%20%20%20%0A%20%20%20%20%0A%20%20%20%20%20%20%20%20%20%20%20%20var%20popup_71948f0d0bc34828830791626253cb49%20%3D%20L.popup%28%7BmaxWidth%3A%20%27100%25%27%0A%20%20%20%20%20%20%20%20%20%20%20%20%0A%20%20%20%20%20%20%20%20%20%20%20%20%7D%29%3B%0A%0A%20%20%20%20%20%20%20%20%20%20%20%20%0A%20%20%20%20%20%20%20%20%20%20%20%20%20%20%20%20var%20html_057144d0baae451982f1f25d6a2d810a%20%3D%20%24%28%60%3Cdiv%20id%3D%22html_057144d0baae451982f1f25d6a2d810a%22%20style%3D%22width%3A%20100.0%25%3B%20height%3A%20100.0%25%3B%22%3EALVIS%20CARVAJAL%20JUAN%20FELIPE%3C/div%3E%60%29%5B0%5D%3B%0A%20%20%20%20%20%20%20%20%20%20%20%20%20%20%20%20popup_71948f0d0bc34828830791626253cb49.setContent%28html_057144d0baae451982f1f25d6a2d810a%29%3B%0A%20%20%20%20%20%20%20%20%20%20%20%20%0A%0A%20%20%20%20%20%20%20%20%20%20%20%20marker_4294cfa67edc407fa6e0ff20cc19e108.bindPopup%28popup_71948f0d0bc34828830791626253cb49%29%0A%20%20%20%20%20%20%20%20%20%20%20%20%3B%0A%0A%20%20%20%20%20%20%20%20%20%20%20%20%0A%20%20%20%20%20%20%20%20%0A%20%20%20%20%0A%20%20%20%20%20%20%20%20var%20marker_8ee58ec646384909a79ee62f26e3ea22%20%3D%20L.marker%28%0A%20%20%20%20%20%20%20%20%20%20%20%20%5B4.7277716%2C%20-74.1123679%5D%2C%0A%20%20%20%20%20%20%20%20%20%20%20%20%7B%0A%20%20%20%20%20%20%20%20%20%20%20%20%20%20%20%20icon%3A%20new%20L.Icon.Default%28%29%2C%0A%20%20%20%20%20%20%20%20%20%20%20%20%20%20%20%20%7D%0A%20%20%20%20%20%20%20%20%20%20%20%20%29.addTo%28map_0f801d3600474d2d96d5e057e06cf872%29%3B%0A%20%20%20%20%20%20%20%20%0A%20%20%20%20%0A%20%20%20%20%20%20%20%20%20%20%20%20var%20popup_336353e197104532a384b2af6f66e00d%20%3D%20L.popup%28%7BmaxWidth%3A%20%27100%25%27%0A%20%20%20%20%20%20%20%20%20%20%20%20%0A%20%20%20%20%20%20%20%20%20%20%20%20%7D%29%3B%0A%0A%20%20%20%20%20%20%20%20%20%20%20%20%0A%20%20%20%20%20%20%20%20%20%20%20%20%20%20%20%20var%20html_f4a0c0a53a8a4c97ad0bd5de9c4c7fea%20%3D%20%24%28%60%3Cdiv%20id%3D%22html_f4a0c0a53a8a4c97ad0bd5de9c4c7fea%22%20style%3D%22width%3A%20100.0%25%3B%20height%3A%20100.0%25%3B%22%3EORTIZ%20MARTINEZ%20JUAN%20CAMILO%3C/div%3E%60%29%5B0%5D%3B%0A%20%20%20%20%20%20%20%20%20%20%20%20%20%20%20%20popup_336353e197104532a384b2af6f66e00d.setContent%28html_f4a0c0a53a8a4c97ad0bd5de9c4c7fea%29%3B%0A%20%20%20%20%20%20%20%20%20%20%20%20%0A%0A%20%20%20%20%20%20%20%20%20%20%20%20marker_8ee58ec646384909a79ee62f26e3ea22.bindPopup%28popup_336353e197104532a384b2af6f66e00d%29%0A%20%20%20%20%20%20%20%20%20%20%20%20%3B%0A%0A%20%20%20%20%20%20%20%20%20%20%20%20%0A%20%20%20%20%20%20%20%20%0A%20%20%20%20%0A%20%20%20%20%20%20%20%20var%20marker_ab98d3fa846d41aeb246ac7be273f4c6%20%3D%20L.marker%28%0A%20%20%20%20%20%20%20%20%20%20%20%20%5B4.7247784%2C%20-74.1100695%5D%2C%0A%20%20%20%20%20%20%20%20%20%20%20%20%7B%0A%20%20%20%20%20%20%20%20%20%20%20%20%20%20%20%20icon%3A%20new%20L.Icon.Default%28%29%2C%0A%20%20%20%20%20%20%20%20%20%20%20%20%20%20%20%20%7D%0A%20%20%20%20%20%20%20%20%20%20%20%20%29.addTo%28map_0f801d3600474d2d96d5e057e06cf872%29%3B%0A%20%20%20%20%20%20%20%20%0A%20%20%20%20%0A%20%20%20%20%20%20%20%20%20%20%20%20var%20popup_9d17b2dd806c4bc0a988dfe5b13eb397%20%3D%20L.popup%28%7BmaxWidth%3A%20%27100%25%27%0A%20%20%20%20%20%20%20%20%20%20%20%20%0A%20%20%20%20%20%20%20%20%20%20%20%20%7D%29%3B%0A%0A%20%20%20%20%20%20%20%20%20%20%20%20%0A%20%20%20%20%20%20%20%20%20%20%20%20%20%20%20%20var%20html_af68c91533b042abb2c2aa846eb2cfb4%20%3D%20%24%28%60%3Cdiv%20id%3D%22html_af68c91533b042abb2c2aa846eb2cfb4%22%20style%3D%22width%3A%20100.0%25%3B%20height%3A%20100.0%25%3B%22%3EPI%C3%91ERES%20PEREZ%20EMILY%3C/div%3E%60%29%5B0%5D%3B%0A%20%20%20%20%20%20%20%20%20%20%20%20%20%20%20%20popup_9d17b2dd806c4bc0a988dfe5b13eb397.setContent%28html_af68c91533b042abb2c2aa846eb2cfb4%29%3B%0A%20%20%20%20%20%20%20%20%20%20%20%20%0A%0A%20%20%20%20%20%20%20%20%20%20%20%20marker_ab98d3fa846d41aeb246ac7be273f4c6.bindPopup%28popup_9d17b2dd806c4bc0a988dfe5b13eb397%29%0A%20%20%20%20%20%20%20%20%20%20%20%20%3B%0A%0A%20%20%20%20%20%20%20%20%20%20%20%20%0A%20%20%20%20%20%20%20%20%0A%20%20%20%20%0A%20%20%20%20%20%20%20%20var%20marker_140f199fa54f4c9c98feb0c4d7670bb0%20%3D%20L.marker%28%0A%20%20%20%20%20%20%20%20%20%20%20%20%5B4.7277716%2C%20-74.1123679%5D%2C%0A%20%20%20%20%20%20%20%20%20%20%20%20%7B%0A%20%20%20%20%20%20%20%20%20%20%20%20%20%20%20%20icon%3A%20new%20L.Icon.Default%28%29%2C%0A%20%20%20%20%20%20%20%20%20%20%20%20%20%20%20%20%7D%0A%20%20%20%20%20%20%20%20%20%20%20%20%29.addTo%28map_0f801d3600474d2d96d5e057e06cf872%29%3B%0A%20%20%20%20%20%20%20%20%0A%20%20%20%20%0A%20%20%20%20%20%20%20%20%20%20%20%20var%20popup_8aeddccadaf7427aa8a16f01f1295173%20%3D%20L.popup%28%7BmaxWidth%3A%20%27100%25%27%0A%20%20%20%20%20%20%20%20%20%20%20%20%0A%20%20%20%20%20%20%20%20%20%20%20%20%7D%29%3B%0A%0A%20%20%20%20%20%20%20%20%20%20%20%20%0A%20%20%20%20%20%20%20%20%20%20%20%20%20%20%20%20var%20html_8d383b856a6e42d7b4cc5e93490258d3%20%3D%20%24%28%60%3Cdiv%20id%3D%22html_8d383b856a6e42d7b4cc5e93490258d3%22%20style%3D%22width%3A%20100.0%25%3B%20height%3A%20100.0%25%3B%22%3EORTIZ%20MARTINEZ%20MARTIN%20SANTIAGO%3C/div%3E%60%29%5B0%5D%3B%0A%20%20%20%20%20%20%20%20%20%20%20%20%20%20%20%20popup_8aeddccadaf7427aa8a16f01f1295173.setContent%28html_8d383b856a6e42d7b4cc5e93490258d3%29%3B%0A%20%20%20%20%20%20%20%20%20%20%20%20%0A%0A%20%20%20%20%20%20%20%20%20%20%20%20marker_140f199fa54f4c9c98feb0c4d7670bb0.bindPopup%28popup_8aeddccadaf7427aa8a16f01f1295173%29%0A%20%20%20%20%20%20%20%20%20%20%20%20%3B%0A%0A%20%20%20%20%20%20%20%20%20%20%20%20%0A%20%20%20%20%20%20%20%20%0A%20%20%20%20%0A%20%20%20%20%20%20%20%20var%20marker_33a2ed5136ef4d608e81dd518edbf25e%20%3D%20L.marker%28%0A%20%20%20%20%20%20%20%20%20%20%20%20%5B4.7254702%2C%20-74.1138581%5D%2C%0A%20%20%20%20%20%20%20%20%20%20%20%20%7B%0A%20%20%20%20%20%20%20%20%20%20%20%20%20%20%20%20icon%3A%20new%20L.Icon.Default%28%29%2C%0A%20%20%20%20%20%20%20%20%20%20%20%20%20%20%20%20%7D%0A%20%20%20%20%20%20%20%20%20%20%20%20%29.addTo%28map_0f801d3600474d2d96d5e057e06cf872%29%3B%0A%20%20%20%20%20%20%20%20%0A%20%20%20%20%0A%20%20%20%20%20%20%20%20%20%20%20%20var%20popup_6018f3dd64404ba7b9aea1e89795d895%20%3D%20L.popup%28%7BmaxWidth%3A%20%27100%25%27%0A%20%20%20%20%20%20%20%20%20%20%20%20%0A%20%20%20%20%20%20%20%20%20%20%20%20%7D%29%3B%0A%0A%20%20%20%20%20%20%20%20%20%20%20%20%0A%20%20%20%20%20%20%20%20%20%20%20%20%20%20%20%20var%20html_63e6a836442b4a269f70fe0500417d4f%20%3D%20%24%28%60%3Cdiv%20id%3D%22html_63e6a836442b4a269f70fe0500417d4f%22%20style%3D%22width%3A%20100.0%25%3B%20height%3A%20100.0%25%3B%22%3EESCANDON%20LOPEZ%20DAVID%20MATIAS%3C/div%3E%60%29%5B0%5D%3B%0A%20%20%20%20%20%20%20%20%20%20%20%20%20%20%20%20popup_6018f3dd64404ba7b9aea1e89795d895.setContent%28html_63e6a836442b4a269f70fe0500417d4f%29%3B%0A%20%20%20%20%20%20%20%20%20%20%20%20%0A%0A%20%20%20%20%20%20%20%20%20%20%20%20marker_33a2ed5136ef4d608e81dd518edbf25e.bindPopup%28popup_6018f3dd64404ba7b9aea1e89795d895%29%0A%20%20%20%20%20%20%20%20%20%20%20%20%3B%0A%0A%20%20%20%20%20%20%20%20%20%20%20%20%0A%20%20%20%20%20%20%20%20%0A%20%20%20%20%0A%20%20%20%20%20%20%20%20var%20marker_4af1e0f1e2884c7e843afebfa589c372%20%3D%20L.marker%28%0A%20%20%20%20%20%20%20%20%20%20%20%20%5B4.7255308%2C%20-74.1138794%5D%2C%0A%20%20%20%20%20%20%20%20%20%20%20%20%7B%0A%20%20%20%20%20%20%20%20%20%20%20%20%20%20%20%20icon%3A%20new%20L.Icon.Default%28%29%2C%0A%20%20%20%20%20%20%20%20%20%20%20%20%20%20%20%20%7D%0A%20%20%20%20%20%20%20%20%20%20%20%20%29.addTo%28map_0f801d3600474d2d96d5e057e06cf872%29%3B%0A%20%20%20%20%20%20%20%20%0A%20%20%20%20%0A%20%20%20%20%20%20%20%20%20%20%20%20var%20popup_2aa4e788ab044dfb9535cf08bc5069d2%20%3D%20L.popup%28%7BmaxWidth%3A%20%27100%25%27%0A%20%20%20%20%20%20%20%20%20%20%20%20%0A%20%20%20%20%20%20%20%20%20%20%20%20%7D%29%3B%0A%0A%20%20%20%20%20%20%20%20%20%20%20%20%0A%20%20%20%20%20%20%20%20%20%20%20%20%20%20%20%20var%20html_2d51afffbfd643e1bab639a302e42285%20%3D%20%24%28%60%3Cdiv%20id%3D%22html_2d51afffbfd643e1bab639a302e42285%22%20style%3D%22width%3A%20100.0%25%3B%20height%3A%20100.0%25%3B%22%3EFORIGUA%20ALBA%20JULIETA%3C/div%3E%60%29%5B0%5D%3B%0A%20%20%20%20%20%20%20%20%20%20%20%20%20%20%20%20popup_2aa4e788ab044dfb9535cf08bc5069d2.setContent%28html_2d51afffbfd643e1bab639a302e42285%29%3B%0A%20%20%20%20%20%20%20%20%20%20%20%20%0A%0A%20%20%20%20%20%20%20%20%20%20%20%20marker_4af1e0f1e2884c7e843afebfa589c372.bindPopup%28popup_2aa4e788ab044dfb9535cf08bc5069d2%29%0A%20%20%20%20%20%20%20%20%20%20%20%20%3B%0A%0A%20%20%20%20%20%20%20%20%20%20%20%20%0A%20%20%20%20%20%20%20%20%0A%20%20%20%20%0A%20%20%20%20%20%20%20%20var%20marker_b0600164e513460a9dbc4a12e6d63db1%20%3D%20L.marker%28%0A%20%20%20%20%20%20%20%20%20%20%20%20%5B4.7255308%2C%20-74.1138794%5D%2C%0A%20%20%20%20%20%20%20%20%20%20%20%20%7B%0A%20%20%20%20%20%20%20%20%20%20%20%20%20%20%20%20icon%3A%20new%20L.Icon.Default%28%29%2C%0A%20%20%20%20%20%20%20%20%20%20%20%20%20%20%20%20%7D%0A%20%20%20%20%20%20%20%20%20%20%20%20%29.addTo%28map_0f801d3600474d2d96d5e057e06cf872%29%3B%0A%20%20%20%20%20%20%20%20%0A%20%20%20%20%0A%20%20%20%20%20%20%20%20%20%20%20%20var%20popup_3894cd8c1be749388af8060caa6be004%20%3D%20L.popup%28%7BmaxWidth%3A%20%27100%25%27%0A%20%20%20%20%20%20%20%20%20%20%20%20%0A%20%20%20%20%20%20%20%20%20%20%20%20%7D%29%3B%0A%0A%20%20%20%20%20%20%20%20%20%20%20%20%0A%20%20%20%20%20%20%20%20%20%20%20%20%20%20%20%20var%20html_d986b55415224e7c8364f9a5ed6189e5%20%3D%20%24%28%60%3Cdiv%20id%3D%22html_d986b55415224e7c8364f9a5ed6189e5%22%20style%3D%22width%3A%20100.0%25%3B%20height%3A%20100.0%25%3B%22%3ETOQUICA%20PADILLA%20ANDRES%20FELIPE%3C/div%3E%60%29%5B0%5D%3B%0A%20%20%20%20%20%20%20%20%20%20%20%20%20%20%20%20popup_3894cd8c1be749388af8060caa6be004.setContent%28html_d986b55415224e7c8364f9a5ed6189e5%29%3B%0A%20%20%20%20%20%20%20%20%20%20%20%20%0A%0A%20%20%20%20%20%20%20%20%20%20%20%20marker_b0600164e513460a9dbc4a12e6d63db1.bindPopup%28popup_3894cd8c1be749388af8060caa6be004%29%0A%20%20%20%20%20%20%20%20%20%20%20%20%3B%0A%0A%20%20%20%20%20%20%20%20%20%20%20%20%0A%20%20%20%20%20%20%20%20%0A%20%20%20%20%0A%20%20%20%20%20%20%20%20var%20marker_b03c0fe3a5bd44ad9b8aec3f76f69ffc%20%3D%20L.marker%28%0A%20%20%20%20%20%20%20%20%20%20%20%20%5B4.7255308%2C%20-74.1138794%5D%2C%0A%20%20%20%20%20%20%20%20%20%20%20%20%7B%0A%20%20%20%20%20%20%20%20%20%20%20%20%20%20%20%20icon%3A%20new%20L.Icon.Default%28%29%2C%0A%20%20%20%20%20%20%20%20%20%20%20%20%20%20%20%20%7D%0A%20%20%20%20%20%20%20%20%20%20%20%20%29.addTo%28map_0f801d3600474d2d96d5e057e06cf872%29%3B%0A%20%20%20%20%20%20%20%20%0A%20%20%20%20%0A%20%20%20%20%20%20%20%20%20%20%20%20var%20popup_357328650f5c48558dd4763cddf466a0%20%3D%20L.popup%28%7BmaxWidth%3A%20%27100%25%27%0A%20%20%20%20%20%20%20%20%20%20%20%20%0A%20%20%20%20%20%20%20%20%20%20%20%20%7D%29%3B%0A%0A%20%20%20%20%20%20%20%20%20%20%20%20%0A%20%20%20%20%20%20%20%20%20%20%20%20%20%20%20%20var%20html_d79b130e52664e74911a0a912ab635fd%20%3D%20%24%28%60%3Cdiv%20id%3D%22html_d79b130e52664e74911a0a912ab635fd%22%20style%3D%22width%3A%20100.0%25%3B%20height%3A%20100.0%25%3B%22%3ETOQUICA%20PADILLA%20JUAN%20DAVID%3C/div%3E%60%29%5B0%5D%3B%0A%20%20%20%20%20%20%20%20%20%20%20%20%20%20%20%20popup_357328650f5c48558dd4763cddf466a0.setContent%28html_d79b130e52664e74911a0a912ab635fd%29%3B%0A%20%20%20%20%20%20%20%20%20%20%20%20%0A%0A%20%20%20%20%20%20%20%20%20%20%20%20marker_b03c0fe3a5bd44ad9b8aec3f76f69ffc.bindPopup%28popup_357328650f5c48558dd4763cddf466a0%29%0A%20%20%20%20%20%20%20%20%20%20%20%20%3B%0A%0A%20%20%20%20%20%20%20%20%20%20%20%20%0A%20%20%20%20%20%20%20%20%0A%20%20%20%20%0A%20%20%20%20%20%20%20%20var%20marker_7a1022aeb79e49b283abd44d49b525d9%20%3D%20L.marker%28%0A%20%20%20%20%20%20%20%20%20%20%20%20%5B4.7255308%2C%20-74.1138794%5D%2C%0A%20%20%20%20%20%20%20%20%20%20%20%20%7B%0A%20%20%20%20%20%20%20%20%20%20%20%20%20%20%20%20icon%3A%20new%20L.Icon.Default%28%29%2C%0A%20%20%20%20%20%20%20%20%20%20%20%20%20%20%20%20%7D%0A%20%20%20%20%20%20%20%20%20%20%20%20%29.addTo%28map_0f801d3600474d2d96d5e057e06cf872%29%3B%0A%20%20%20%20%20%20%20%20%0A%20%20%20%20%0A%20%20%20%20%20%20%20%20%20%20%20%20var%20popup_ffca5ac0f537497589ae256506921556%20%3D%20L.popup%28%7BmaxWidth%3A%20%27100%25%27%0A%20%20%20%20%20%20%20%20%20%20%20%20%0A%20%20%20%20%20%20%20%20%20%20%20%20%7D%29%3B%0A%0A%20%20%20%20%20%20%20%20%20%20%20%20%0A%20%20%20%20%20%20%20%20%20%20%20%20%20%20%20%20var%20html_3438849d61c040ce996224a2ac5d671b%20%3D%20%24%28%60%3Cdiv%20id%3D%22html_3438849d61c040ce996224a2ac5d671b%22%20style%3D%22width%3A%20100.0%25%3B%20height%3A%20100.0%25%3B%22%3EBUSTAMANTE%20JARAMILLO%20GABRIELA%3C/div%3E%60%29%5B0%5D%3B%0A%20%20%20%20%20%20%20%20%20%20%20%20%20%20%20%20popup_ffca5ac0f537497589ae256506921556.setContent%28html_3438849d61c040ce996224a2ac5d671b%29%3B%0A%20%20%20%20%20%20%20%20%20%20%20%20%0A%0A%20%20%20%20%20%20%20%20%20%20%20%20marker_7a1022aeb79e49b283abd44d49b525d9.bindPopup%28popup_ffca5ac0f537497589ae256506921556%29%0A%20%20%20%20%20%20%20%20%20%20%20%20%3B%0A%0A%20%20%20%20%20%20%20%20%20%20%20%20%0A%20%20%20%20%20%20%20%20%0A%20%20%20%20%0A%20%20%20%20%20%20%20%20var%20marker_bda3059ff0dc46899112ac939ce82db9%20%3D%20L.marker%28%0A%20%20%20%20%20%20%20%20%20%20%20%20%5B4.7255308%2C%20-74.1138794%5D%2C%0A%20%20%20%20%20%20%20%20%20%20%20%20%7B%0A%20%20%20%20%20%20%20%20%20%20%20%20%20%20%20%20icon%3A%20new%20L.Icon.Default%28%29%2C%0A%20%20%20%20%20%20%20%20%20%20%20%20%20%20%20%20%7D%0A%20%20%20%20%20%20%20%20%20%20%20%20%29.addTo%28map_0f801d3600474d2d96d5e057e06cf872%29%3B%0A%20%20%20%20%20%20%20%20%0A%20%20%20%20%0A%20%20%20%20%20%20%20%20%20%20%20%20var%20popup_262fe8f95b154fbc93d365a35cd5f255%20%3D%20L.popup%28%7BmaxWidth%3A%20%27100%25%27%0A%20%20%20%20%20%20%20%20%20%20%20%20%0A%20%20%20%20%20%20%20%20%20%20%20%20%7D%29%3B%0A%0A%20%20%20%20%20%20%20%20%20%20%20%20%0A%20%20%20%20%20%20%20%20%20%20%20%20%20%20%20%20var%20html_57cabf67d3ff46e6bdfe5ad9e8eedbef%20%3D%20%24%28%60%3Cdiv%20id%3D%22html_57cabf67d3ff46e6bdfe5ad9e8eedbef%22%20style%3D%22width%3A%20100.0%25%3B%20height%3A%20100.0%25%3B%22%3EDURANGO%20VALENCIA%20ISABELLA%20SOPHIA%3C/div%3E%60%29%5B0%5D%3B%0A%20%20%20%20%20%20%20%20%20%20%20%20%20%20%20%20popup_262fe8f95b154fbc93d365a35cd5f255.setContent%28html_57cabf67d3ff46e6bdfe5ad9e8eedbef%29%3B%0A%20%20%20%20%20%20%20%20%20%20%20%20%0A%0A%20%20%20%20%20%20%20%20%20%20%20%20marker_bda3059ff0dc46899112ac939ce82db9.bindPopup%28popup_262fe8f95b154fbc93d365a35cd5f255%29%0A%20%20%20%20%20%20%20%20%20%20%20%20%3B%0A%0A%20%20%20%20%20%20%20%20%20%20%20%20%0A%20%20%20%20%20%20%20%20%0A%20%20%20%20%0A%20%20%20%20%20%20%20%20var%20marker_62682272d8c644ff88eb607f65b95ca3%20%3D%20L.marker%28%0A%20%20%20%20%20%20%20%20%20%20%20%20%5B4.7255308%2C%20-74.1138794%5D%2C%0A%20%20%20%20%20%20%20%20%20%20%20%20%7B%0A%20%20%20%20%20%20%20%20%20%20%20%20%20%20%20%20icon%3A%20new%20L.Icon.Default%28%29%2C%0A%20%20%20%20%20%20%20%20%20%20%20%20%20%20%20%20%7D%0A%20%20%20%20%20%20%20%20%20%20%20%20%29.addTo%28map_0f801d3600474d2d96d5e057e06cf872%29%3B%0A%20%20%20%20%20%20%20%20%0A%20%20%20%20%0A%20%20%20%20%20%20%20%20%20%20%20%20var%20popup_6469f48e85824ce5aa31b25da4fc92a0%20%3D%20L.popup%28%7BmaxWidth%3A%20%27100%25%27%0A%20%20%20%20%20%20%20%20%20%20%20%20%0A%20%20%20%20%20%20%20%20%20%20%20%20%7D%29%3B%0A%0A%20%20%20%20%20%20%20%20%20%20%20%20%0A%20%20%20%20%20%20%20%20%20%20%20%20%20%20%20%20var%20html_57e687d76e0a46d4a8c0c8515d562e21%20%3D%20%24%28%60%3Cdiv%20id%3D%22html_57e687d76e0a46d4a8c0c8515d562e21%22%20style%3D%22width%3A%20100.0%25%3B%20height%3A%20100.0%25%3B%22%3ETELLEZ%20VALENZUELA%20ISABELA%3C/div%3E%60%29%5B0%5D%3B%0A%20%20%20%20%20%20%20%20%20%20%20%20%20%20%20%20popup_6469f48e85824ce5aa31b25da4fc92a0.setContent%28html_57e687d76e0a46d4a8c0c8515d562e21%29%3B%0A%20%20%20%20%20%20%20%20%20%20%20%20%0A%0A%20%20%20%20%20%20%20%20%20%20%20%20marker_62682272d8c644ff88eb607f65b95ca3.bindPopup%28popup_6469f48e85824ce5aa31b25da4fc92a0%29%0A%20%20%20%20%20%20%20%20%20%20%20%20%3B%0A%0A%20%20%20%20%20%20%20%20%20%20%20%20%0A%20%20%20%20%20%20%20%20%0A%20%20%20%20%0A%20%20%20%20%20%20%20%20var%20marker_08aa66c47e774070b6bf58e20b95fe40%20%3D%20L.marker%28%0A%20%20%20%20%20%20%20%20%20%20%20%20%5B4.7245792%2C%20-74.1108326%5D%2C%0A%20%20%20%20%20%20%20%20%20%20%20%20%7B%0A%20%20%20%20%20%20%20%20%20%20%20%20%20%20%20%20icon%3A%20new%20L.Icon.Default%28%29%2C%0A%20%20%20%20%20%20%20%20%20%20%20%20%20%20%20%20%7D%0A%20%20%20%20%20%20%20%20%20%20%20%20%29.addTo%28map_0f801d3600474d2d96d5e057e06cf872%29%3B%0A%20%20%20%20%20%20%20%20%0A%20%20%20%20%0A%20%20%20%20%20%20%20%20%20%20%20%20var%20popup_09fa771055024d34b7461bba9d4d5ab2%20%3D%20L.popup%28%7BmaxWidth%3A%20%27100%25%27%0A%20%20%20%20%20%20%20%20%20%20%20%20%0A%20%20%20%20%20%20%20%20%20%20%20%20%7D%29%3B%0A%0A%20%20%20%20%20%20%20%20%20%20%20%20%0A%20%20%20%20%20%20%20%20%20%20%20%20%20%20%20%20var%20html_c3f240e3788041b2b0227ed8896c6d5f%20%3D%20%24%28%60%3Cdiv%20id%3D%22html_c3f240e3788041b2b0227ed8896c6d5f%22%20style%3D%22width%3A%20100.0%25%3B%20height%3A%20100.0%25%3B%22%3EFLOREZ%20MADRID%20MATIAS%3C/div%3E%60%29%5B0%5D%3B%0A%20%20%20%20%20%20%20%20%20%20%20%20%20%20%20%20popup_09fa771055024d34b7461bba9d4d5ab2.setContent%28html_c3f240e3788041b2b0227ed8896c6d5f%29%3B%0A%20%20%20%20%20%20%20%20%20%20%20%20%0A%0A%20%20%20%20%20%20%20%20%20%20%20%20marker_08aa66c47e774070b6bf58e20b95fe40.bindPopup%28popup_09fa771055024d34b7461bba9d4d5ab2%29%0A%20%20%20%20%20%20%20%20%20%20%20%20%3B%0A%0A%20%20%20%20%20%20%20%20%20%20%20%20%0A%20%20%20%20%20%20%20%20%0A%20%20%20%20%0A%20%20%20%20%20%20%20%20var%20marker_35b9ca3af7e94ca1b80811f785448c3b%20%3D%20L.marker%28%0A%20%20%20%20%20%20%20%20%20%20%20%20%5B4.7255308%2C%20-74.1138794%5D%2C%0A%20%20%20%20%20%20%20%20%20%20%20%20%7B%0A%20%20%20%20%20%20%20%20%20%20%20%20%20%20%20%20icon%3A%20new%20L.Icon.Default%28%29%2C%0A%20%20%20%20%20%20%20%20%20%20%20%20%20%20%20%20%7D%0A%20%20%20%20%20%20%20%20%20%20%20%20%29.addTo%28map_0f801d3600474d2d96d5e057e06cf872%29%3B%0A%20%20%20%20%20%20%20%20%0A%20%20%20%20%0A%20%20%20%20%20%20%20%20%20%20%20%20var%20popup_ffb9820dd11345fa8a2bcc9fbcca8fe6%20%3D%20L.popup%28%7BmaxWidth%3A%20%27100%25%27%0A%20%20%20%20%20%20%20%20%20%20%20%20%0A%20%20%20%20%20%20%20%20%20%20%20%20%7D%29%3B%0A%0A%20%20%20%20%20%20%20%20%20%20%20%20%0A%20%20%20%20%20%20%20%20%20%20%20%20%20%20%20%20var%20html_2e73d06ff0ae4bafa3431b743eaadbeb%20%3D%20%24%28%60%3Cdiv%20id%3D%22html_2e73d06ff0ae4bafa3431b743eaadbeb%22%20style%3D%22width%3A%20100.0%25%3B%20height%3A%20100.0%25%3B%22%3EDURANGO%20VALENCIA%20JUAN%20JESUS%3C/div%3E%60%29%5B0%5D%3B%0A%20%20%20%20%20%20%20%20%20%20%20%20%20%20%20%20popup_ffb9820dd11345fa8a2bcc9fbcca8fe6.setContent%28html_2e73d06ff0ae4bafa3431b743eaadbeb%29%3B%0A%20%20%20%20%20%20%20%20%20%20%20%20%0A%0A%20%20%20%20%20%20%20%20%20%20%20%20marker_35b9ca3af7e94ca1b80811f785448c3b.bindPopup%28popup_ffb9820dd11345fa8a2bcc9fbcca8fe6%29%0A%20%20%20%20%20%20%20%20%20%20%20%20%3B%0A%0A%20%20%20%20%20%20%20%20%20%20%20%20%0A%20%20%20%20%20%20%20%20%0A%20%20%20%20%0A%20%20%20%20%20%20%20%20var%20marker_47068f19c68f4e0c878109e738f1edaa%20%3D%20L.marker%28%0A%20%20%20%20%20%20%20%20%20%20%20%20%5B4.7255308%2C%20-74.1138794%5D%2C%0A%20%20%20%20%20%20%20%20%20%20%20%20%7B%0A%20%20%20%20%20%20%20%20%20%20%20%20%20%20%20%20icon%3A%20new%20L.Icon.Default%28%29%2C%0A%20%20%20%20%20%20%20%20%20%20%20%20%20%20%20%20%7D%0A%20%20%20%20%20%20%20%20%20%20%20%20%29.addTo%28map_0f801d3600474d2d96d5e057e06cf872%29%3B%0A%20%20%20%20%20%20%20%20%0A%20%20%20%20%0A%20%20%20%20%20%20%20%20%20%20%20%20var%20popup_89c24b9bd7db45d5b002b657b8f72638%20%3D%20L.popup%28%7BmaxWidth%3A%20%27100%25%27%0A%20%20%20%20%20%20%20%20%20%20%20%20%0A%20%20%20%20%20%20%20%20%20%20%20%20%7D%29%3B%0A%0A%20%20%20%20%20%20%20%20%20%20%20%20%0A%20%20%20%20%20%20%20%20%20%20%20%20%20%20%20%20var%20html_53bdb33723b54d3394fa54d8a3d9b916%20%3D%20%24%28%60%3Cdiv%20id%3D%22html_53bdb33723b54d3394fa54d8a3d9b916%22%20style%3D%22width%3A%20100.0%25%3B%20height%3A%20100.0%25%3B%22%3ERUBIANO%20GUERRERO%20MARIA%20JOSE%3C/div%3E%60%29%5B0%5D%3B%0A%20%20%20%20%20%20%20%20%20%20%20%20%20%20%20%20popup_89c24b9bd7db45d5b002b657b8f72638.setContent%28html_53bdb33723b54d3394fa54d8a3d9b916%29%3B%0A%20%20%20%20%20%20%20%20%20%20%20%20%0A%0A%20%20%20%20%20%20%20%20%20%20%20%20marker_47068f19c68f4e0c878109e738f1edaa.bindPopup%28popup_89c24b9bd7db45d5b002b657b8f72638%29%0A%20%20%20%20%20%20%20%20%20%20%20%20%3B%0A%0A%20%20%20%20%20%20%20%20%20%20%20%20%0A%20%20%20%20%20%20%20%20%0A%20%20%20%20%0A%20%20%20%20%20%20%20%20var%20marker_128b11a087864f5896c1eb51ff754fc6%20%3D%20L.marker%28%0A%20%20%20%20%20%20%20%20%20%20%20%20%5B4.719878599999999%2C%20-74.1071948%5D%2C%0A%20%20%20%20%20%20%20%20%20%20%20%20%7B%0A%20%20%20%20%20%20%20%20%20%20%20%20%20%20%20%20icon%3A%20new%20L.Icon.Default%28%29%2C%0A%20%20%20%20%20%20%20%20%20%20%20%20%20%20%20%20%7D%0A%20%20%20%20%20%20%20%20%20%20%20%20%29.addTo%28map_0f801d3600474d2d96d5e057e06cf872%29%3B%0A%20%20%20%20%20%20%20%20%0A%20%20%20%20%0A%20%20%20%20%20%20%20%20%20%20%20%20var%20popup_54eafd1dc5cb49bdb79fec4bb5825563%20%3D%20L.popup%28%7BmaxWidth%3A%20%27100%25%27%0A%20%20%20%20%20%20%20%20%20%20%20%20%0A%20%20%20%20%20%20%20%20%20%20%20%20%7D%29%3B%0A%0A%20%20%20%20%20%20%20%20%20%20%20%20%0A%20%20%20%20%20%20%20%20%20%20%20%20%20%20%20%20var%20html_54be973e9c3c422ba1e32caa1a75a8bb%20%3D%20%24%28%60%3Cdiv%20id%3D%22html_54be973e9c3c422ba1e32caa1a75a8bb%22%20style%3D%22width%3A%20100.0%25%3B%20height%3A%20100.0%25%3B%22%3ECAMARGO%20MARIN%20MARIANA%3C/div%3E%60%29%5B0%5D%3B%0A%20%20%20%20%20%20%20%20%20%20%20%20%20%20%20%20popup_54eafd1dc5cb49bdb79fec4bb5825563.setContent%28html_54be973e9c3c422ba1e32caa1a75a8bb%29%3B%0A%20%20%20%20%20%20%20%20%20%20%20%20%0A%0A%20%20%20%20%20%20%20%20%20%20%20%20marker_128b11a087864f5896c1eb51ff754fc6.bindPopup%28popup_54eafd1dc5cb49bdb79fec4bb5825563%29%0A%20%20%20%20%20%20%20%20%20%20%20%20%3B%0A%0A%20%20%20%20%20%20%20%20%20%20%20%20%0A%20%20%20%20%20%20%20%20%0A%20%20%20%20%0A%20%20%20%20%20%20%20%20var%20marker_a752c818006a4557ba04a3004aba4723%20%3D%20L.marker%28%0A%20%20%20%20%20%20%20%20%20%20%20%20%5B4.719878599999999%2C%20-74.1071948%5D%2C%0A%20%20%20%20%20%20%20%20%20%20%20%20%7B%0A%20%20%20%20%20%20%20%20%20%20%20%20%20%20%20%20icon%3A%20new%20L.Icon.Default%28%29%2C%0A%20%20%20%20%20%20%20%20%20%20%20%20%20%20%20%20%7D%0A%20%20%20%20%20%20%20%20%20%20%20%20%29.addTo%28map_0f801d3600474d2d96d5e057e06cf872%29%3B%0A%20%20%20%20%20%20%20%20%0A%20%20%20%20%0A%20%20%20%20%20%20%20%20%20%20%20%20var%20popup_11bb6900b0eb409090094bcde037c73d%20%3D%20L.popup%28%7BmaxWidth%3A%20%27100%25%27%0A%20%20%20%20%20%20%20%20%20%20%20%20%0A%20%20%20%20%20%20%20%20%20%20%20%20%7D%29%3B%0A%0A%20%20%20%20%20%20%20%20%20%20%20%20%0A%20%20%20%20%20%20%20%20%20%20%20%20%20%20%20%20var%20html_d4d140bb11c746fcb632149af23b7e12%20%3D%20%24%28%60%3Cdiv%20id%3D%22html_d4d140bb11c746fcb632149af23b7e12%22%20style%3D%22width%3A%20100.0%25%3B%20height%3A%20100.0%25%3B%22%3EHERRERA%20GONZALEZ%20MARIA%20GABRIELA%3C/div%3E%60%29%5B0%5D%3B%0A%20%20%20%20%20%20%20%20%20%20%20%20%20%20%20%20popup_11bb6900b0eb409090094bcde037c73d.setContent%28html_d4d140bb11c746fcb632149af23b7e12%29%3B%0A%20%20%20%20%20%20%20%20%20%20%20%20%0A%0A%20%20%20%20%20%20%20%20%20%20%20%20marker_a752c818006a4557ba04a3004aba4723.bindPopup%28popup_11bb6900b0eb409090094bcde037c73d%29%0A%20%20%20%20%20%20%20%20%20%20%20%20%3B%0A%0A%20%20%20%20%20%20%20%20%20%20%20%20%0A%20%20%20%20%20%20%20%20%0A%20%20%20%20%0A%20%20%20%20%20%20%20%20var%20marker_04969f5e8dd342b5b994589c52c257bf%20%3D%20L.marker%28%0A%20%20%20%20%20%20%20%20%20%20%20%20%5B4.721445%2C%20-74.108588%5D%2C%0A%20%20%20%20%20%20%20%20%20%20%20%20%7B%0A%20%20%20%20%20%20%20%20%20%20%20%20%20%20%20%20icon%3A%20new%20L.Icon.Default%28%29%2C%0A%20%20%20%20%20%20%20%20%20%20%20%20%20%20%20%20%7D%0A%20%20%20%20%20%20%20%20%20%20%20%20%29.addTo%28map_0f801d3600474d2d96d5e057e06cf872%29%3B%0A%20%20%20%20%20%20%20%20%0A%20%20%20%20%0A%20%20%20%20%20%20%20%20%20%20%20%20var%20popup_6e51d8f2f3f740ac9193cc7d0291149a%20%3D%20L.popup%28%7BmaxWidth%3A%20%27100%25%27%0A%20%20%20%20%20%20%20%20%20%20%20%20%0A%20%20%20%20%20%20%20%20%20%20%20%20%7D%29%3B%0A%0A%20%20%20%20%20%20%20%20%20%20%20%20%0A%20%20%20%20%20%20%20%20%20%20%20%20%20%20%20%20var%20html_eb84d9cd3e474422bd5746cc5b44193d%20%3D%20%24%28%60%3Cdiv%20id%3D%22html_eb84d9cd3e474422bd5746cc5b44193d%22%20style%3D%22width%3A%20100.0%25%3B%20height%3A%20100.0%25%3B%22%3EBOHORQUEZ%20BRICE%C3%91O%20JULIANA%3C/div%3E%60%29%5B0%5D%3B%0A%20%20%20%20%20%20%20%20%20%20%20%20%20%20%20%20popup_6e51d8f2f3f740ac9193cc7d0291149a.setContent%28html_eb84d9cd3e474422bd5746cc5b44193d%29%3B%0A%20%20%20%20%20%20%20%20%20%20%20%20%0A%0A%20%20%20%20%20%20%20%20%20%20%20%20marker_04969f5e8dd342b5b994589c52c257bf.bindPopup%28popup_6e51d8f2f3f740ac9193cc7d0291149a%29%0A%20%20%20%20%20%20%20%20%20%20%20%20%3B%0A%0A%20%20%20%20%20%20%20%20%20%20%20%20%0A%20%20%20%20%20%20%20%20%0A%20%20%20%20%0A%20%20%20%20%20%20%20%20var%20marker_83c2ad53ffce4222992dd9c62f4c3a2d%20%3D%20L.marker%28%0A%20%20%20%20%20%20%20%20%20%20%20%20%5B4.7215998%2C%20-74.10829869999999%5D%2C%0A%20%20%20%20%20%20%20%20%20%20%20%20%7B%0A%20%20%20%20%20%20%20%20%20%20%20%20%20%20%20%20icon%3A%20new%20L.Icon.Default%28%29%2C%0A%20%20%20%20%20%20%20%20%20%20%20%20%20%20%20%20%7D%0A%20%20%20%20%20%20%20%20%20%20%20%20%29.addTo%28map_0f801d3600474d2d96d5e057e06cf872%29%3B%0A%20%20%20%20%20%20%20%20%0A%20%20%20%20%0A%20%20%20%20%20%20%20%20%20%20%20%20var%20popup_99444288a8704590ac33d692f3d4f4db%20%3D%20L.popup%28%7BmaxWidth%3A%20%27100%25%27%0A%20%20%20%20%20%20%20%20%20%20%20%20%0A%20%20%20%20%20%20%20%20%20%20%20%20%7D%29%3B%0A%0A%20%20%20%20%20%20%20%20%20%20%20%20%0A%20%20%20%20%20%20%20%20%20%20%20%20%20%20%20%20var%20html_d89d2b78e29c48358ae6e3eea953933c%20%3D%20%24%28%60%3Cdiv%20id%3D%22html_d89d2b78e29c48358ae6e3eea953933c%22%20style%3D%22width%3A%20100.0%25%3B%20height%3A%20100.0%25%3B%22%3EPARRA%20CASTA%C3%91O%20NATHALIA%3C/div%3E%60%29%5B0%5D%3B%0A%20%20%20%20%20%20%20%20%20%20%20%20%20%20%20%20popup_99444288a8704590ac33d692f3d4f4db.setContent%28html_d89d2b78e29c48358ae6e3eea953933c%29%3B%0A%20%20%20%20%20%20%20%20%20%20%20%20%0A%0A%20%20%20%20%20%20%20%20%20%20%20%20marker_83c2ad53ffce4222992dd9c62f4c3a2d.bindPopup%28popup_99444288a8704590ac33d692f3d4f4db%29%0A%20%20%20%20%20%20%20%20%20%20%20%20%3B%0A%0A%20%20%20%20%20%20%20%20%20%20%20%20%0A%20%20%20%20%20%20%20%20%0A%20%20%20%20%0A%20%20%20%20%20%20%20%20var%20marker_cf5d453109b044758ab4ff9af000d87a%20%3D%20L.marker%28%0A%20%20%20%20%20%20%20%20%20%20%20%20%5B4.7167455%2C%20-74.1073985%5D%2C%0A%20%20%20%20%20%20%20%20%20%20%20%20%7B%0A%20%20%20%20%20%20%20%20%20%20%20%20%20%20%20%20icon%3A%20new%20L.Icon.Default%28%29%2C%0A%20%20%20%20%20%20%20%20%20%20%20%20%20%20%20%20%7D%0A%20%20%20%20%20%20%20%20%20%20%20%20%29.addTo%28map_0f801d3600474d2d96d5e057e06cf872%29%3B%0A%20%20%20%20%20%20%20%20%0A%20%20%20%20%0A%20%20%20%20%20%20%20%20%20%20%20%20var%20popup_44214ba6a11c49b88099fd11a30d3b47%20%3D%20L.popup%28%7BmaxWidth%3A%20%27100%25%27%0A%20%20%20%20%20%20%20%20%20%20%20%20%0A%20%20%20%20%20%20%20%20%20%20%20%20%7D%29%3B%0A%0A%20%20%20%20%20%20%20%20%20%20%20%20%0A%20%20%20%20%20%20%20%20%20%20%20%20%20%20%20%20var%20html_72ad4cef9880441db04f5aaca167f5df%20%3D%20%24%28%60%3Cdiv%20id%3D%22html_72ad4cef9880441db04f5aaca167f5df%22%20style%3D%22width%3A%20100.0%25%3B%20height%3A%20100.0%25%3B%22%3EBARRERO%20PICO%20PAULA%20ANDREA%3C/div%3E%60%29%5B0%5D%3B%0A%20%20%20%20%20%20%20%20%20%20%20%20%20%20%20%20popup_44214ba6a11c49b88099fd11a30d3b47.setContent%28html_72ad4cef9880441db04f5aaca167f5df%29%3B%0A%20%20%20%20%20%20%20%20%20%20%20%20%0A%0A%20%20%20%20%20%20%20%20%20%20%20%20marker_cf5d453109b044758ab4ff9af000d87a.bindPopup%28popup_44214ba6a11c49b88099fd11a30d3b47%29%0A%20%20%20%20%20%20%20%20%20%20%20%20%3B%0A%0A%20%20%20%20%20%20%20%20%20%20%20%20%0A%20%20%20%20%20%20%20%20%0A%20%20%20%20%0A%20%20%20%20%20%20%20%20var%20marker_854065d2c4354c9497c20e5841c396ac%20%3D%20L.marker%28%0A%20%20%20%20%20%20%20%20%20%20%20%20%5B4.7192488%2C%20-74.1105678%5D%2C%0A%20%20%20%20%20%20%20%20%20%20%20%20%7B%0A%20%20%20%20%20%20%20%20%20%20%20%20%20%20%20%20icon%3A%20new%20L.Icon.Default%28%29%2C%0A%20%20%20%20%20%20%20%20%20%20%20%20%20%20%20%20%7D%0A%20%20%20%20%20%20%20%20%20%20%20%20%29.addTo%28map_0f801d3600474d2d96d5e057e06cf872%29%3B%0A%20%20%20%20%20%20%20%20%0A%20%20%20%20%0A%20%20%20%20%20%20%20%20%20%20%20%20var%20popup_db7c605258f84a9fa027bea4f671c352%20%3D%20L.popup%28%7BmaxWidth%3A%20%27100%25%27%0A%20%20%20%20%20%20%20%20%20%20%20%20%0A%20%20%20%20%20%20%20%20%20%20%20%20%7D%29%3B%0A%0A%20%20%20%20%20%20%20%20%20%20%20%20%0A%20%20%20%20%20%20%20%20%20%20%20%20%20%20%20%20var%20html_346aad009dce4ed4aa339f9c0dcddd34%20%3D%20%24%28%60%3Cdiv%20id%3D%22html_346aad009dce4ed4aa339f9c0dcddd34%22%20style%3D%22width%3A%20100.0%25%3B%20height%3A%20100.0%25%3B%22%3ECARDENAS%20BAQUERO%20JUAN%20ANDRES%3C/div%3E%60%29%5B0%5D%3B%0A%20%20%20%20%20%20%20%20%20%20%20%20%20%20%20%20popup_db7c605258f84a9fa027bea4f671c352.setContent%28html_346aad009dce4ed4aa339f9c0dcddd34%29%3B%0A%20%20%20%20%20%20%20%20%20%20%20%20%0A%0A%20%20%20%20%20%20%20%20%20%20%20%20marker_854065d2c4354c9497c20e5841c396ac.bindPopup%28popup_db7c605258f84a9fa027bea4f671c352%29%0A%20%20%20%20%20%20%20%20%20%20%20%20%3B%0A%0A%20%20%20%20%20%20%20%20%20%20%20%20%0A%20%20%20%20%20%20%20%20%0A%20%20%20%20%0A%20%20%20%20%20%20%20%20var%20marker_7c1ceacd92564eaa8206204636489978%20%3D%20L.marker%28%0A%20%20%20%20%20%20%20%20%20%20%20%20%5B4.719378%2C%20-74.1108271%5D%2C%0A%20%20%20%20%20%20%20%20%20%20%20%20%7B%0A%20%20%20%20%20%20%20%20%20%20%20%20%20%20%20%20icon%3A%20new%20L.Icon.Default%28%29%2C%0A%20%20%20%20%20%20%20%20%20%20%20%20%20%20%20%20%7D%0A%20%20%20%20%20%20%20%20%20%20%20%20%29.addTo%28map_0f801d3600474d2d96d5e057e06cf872%29%3B%0A%20%20%20%20%20%20%20%20%0A%20%20%20%20%0A%20%20%20%20%20%20%20%20%20%20%20%20var%20popup_99bec6123bcd4005a5c702978c255aab%20%3D%20L.popup%28%7BmaxWidth%3A%20%27100%25%27%0A%20%20%20%20%20%20%20%20%20%20%20%20%0A%20%20%20%20%20%20%20%20%20%20%20%20%7D%29%3B%0A%0A%20%20%20%20%20%20%20%20%20%20%20%20%0A%20%20%20%20%20%20%20%20%20%20%20%20%20%20%20%20var%20html_109b4b87f4034d0393c536a566e6ffb9%20%3D%20%24%28%60%3Cdiv%20id%3D%22html_109b4b87f4034d0393c536a566e6ffb9%22%20style%3D%22width%3A%20100.0%25%3B%20height%3A%20100.0%25%3B%22%3ERAMIREZ%20PINEDA%20NICOLAS%20FERNANDO%3C/div%3E%60%29%5B0%5D%3B%0A%20%20%20%20%20%20%20%20%20%20%20%20%20%20%20%20popup_99bec6123bcd4005a5c702978c255aab.setContent%28html_109b4b87f4034d0393c536a566e6ffb9%29%3B%0A%20%20%20%20%20%20%20%20%20%20%20%20%0A%0A%20%20%20%20%20%20%20%20%20%20%20%20marker_7c1ceacd92564eaa8206204636489978.bindPopup%28popup_99bec6123bcd4005a5c702978c255aab%29%0A%20%20%20%20%20%20%20%20%20%20%20%20%3B%0A%0A%20%20%20%20%20%20%20%20%20%20%20%20%0A%20%20%20%20%20%20%20%20%0A%20%20%20%20%0A%20%20%20%20%20%20%20%20var%20marker_7e783d0b063944208bdc18664d7f72fa%20%3D%20L.marker%28%0A%20%20%20%20%20%20%20%20%20%20%20%20%5B4.7215998%2C%20-74.10829869999999%5D%2C%0A%20%20%20%20%20%20%20%20%20%20%20%20%7B%0A%20%20%20%20%20%20%20%20%20%20%20%20%20%20%20%20icon%3A%20new%20L.Icon.Default%28%29%2C%0A%20%20%20%20%20%20%20%20%20%20%20%20%20%20%20%20%7D%0A%20%20%20%20%20%20%20%20%20%20%20%20%29.addTo%28map_0f801d3600474d2d96d5e057e06cf872%29%3B%0A%20%20%20%20%20%20%20%20%0A%20%20%20%20%0A%20%20%20%20%20%20%20%20%20%20%20%20var%20popup_2a64a764196d4cee84f75c68f0f3a66b%20%3D%20L.popup%28%7BmaxWidth%3A%20%27100%25%27%0A%20%20%20%20%20%20%20%20%20%20%20%20%0A%20%20%20%20%20%20%20%20%20%20%20%20%7D%29%3B%0A%0A%20%20%20%20%20%20%20%20%20%20%20%20%0A%20%20%20%20%20%20%20%20%20%20%20%20%20%20%20%20var%20html_4eeddbc08aa44ff285edf1aaa28b948d%20%3D%20%24%28%60%3Cdiv%20id%3D%22html_4eeddbc08aa44ff285edf1aaa28b948d%22%20style%3D%22width%3A%20100.0%25%3B%20height%3A%20100.0%25%3B%22%3EQUIROGA%20VILLAMIL%20VALENTINA%3C/div%3E%60%29%5B0%5D%3B%0A%20%20%20%20%20%20%20%20%20%20%20%20%20%20%20%20popup_2a64a764196d4cee84f75c68f0f3a66b.setContent%28html_4eeddbc08aa44ff285edf1aaa28b948d%29%3B%0A%20%20%20%20%20%20%20%20%20%20%20%20%0A%0A%20%20%20%20%20%20%20%20%20%20%20%20marker_7e783d0b063944208bdc18664d7f72fa.bindPopup%28popup_2a64a764196d4cee84f75c68f0f3a66b%29%0A%20%20%20%20%20%20%20%20%20%20%20%20%3B%0A%0A%20%20%20%20%20%20%20%20%20%20%20%20%0A%20%20%20%20%20%20%20%20%0A%20%20%20%20%0A%20%20%20%20%20%20%20%20var%20marker_61cd3485213d476e9ff0f5d3d86f45a8%20%3D%20L.marker%28%0A%20%20%20%20%20%20%20%20%20%20%20%20%5B4.7220662%2C%20-74.11650809999999%5D%2C%0A%20%20%20%20%20%20%20%20%20%20%20%20%7B%0A%20%20%20%20%20%20%20%20%20%20%20%20%20%20%20%20icon%3A%20new%20L.Icon.Default%28%29%2C%0A%20%20%20%20%20%20%20%20%20%20%20%20%20%20%20%20%7D%0A%20%20%20%20%20%20%20%20%20%20%20%20%29.addTo%28map_0f801d3600474d2d96d5e057e06cf872%29%3B%0A%20%20%20%20%20%20%20%20%0A%20%20%20%20%0A%20%20%20%20%20%20%20%20%20%20%20%20var%20popup_e103ba950915448d85b152dc1c2791b2%20%3D%20L.popup%28%7BmaxWidth%3A%20%27100%25%27%0A%20%20%20%20%20%20%20%20%20%20%20%20%0A%20%20%20%20%20%20%20%20%20%20%20%20%7D%29%3B%0A%0A%20%20%20%20%20%20%20%20%20%20%20%20%0A%20%20%20%20%20%20%20%20%20%20%20%20%20%20%20%20var%20html_8bea5cd9cafd44ac976ec3793a9d8eed%20%3D%20%24%28%60%3Cdiv%20id%3D%22html_8bea5cd9cafd44ac976ec3793a9d8eed%22%20style%3D%22width%3A%20100.0%25%3B%20height%3A%20100.0%25%3B%22%3ECARDOZO%20REINA%20SOFIA%3C/div%3E%60%29%5B0%5D%3B%0A%20%20%20%20%20%20%20%20%20%20%20%20%20%20%20%20popup_e103ba950915448d85b152dc1c2791b2.setContent%28html_8bea5cd9cafd44ac976ec3793a9d8eed%29%3B%0A%20%20%20%20%20%20%20%20%20%20%20%20%0A%0A%20%20%20%20%20%20%20%20%20%20%20%20marker_61cd3485213d476e9ff0f5d3d86f45a8.bindPopup%28popup_e103ba950915448d85b152dc1c2791b2%29%0A%20%20%20%20%20%20%20%20%20%20%20%20%3B%0A%0A%20%20%20%20%20%20%20%20%20%20%20%20%0A%20%20%20%20%20%20%20%20%0A%20%20%20%20%0A%20%20%20%20%20%20%20%20var%20marker_13c99ee608484bbc8a65a3614491fa6b%20%3D%20L.marker%28%0A%20%20%20%20%20%20%20%20%20%20%20%20%5B4.7220662%2C%20-74.11650809999999%5D%2C%0A%20%20%20%20%20%20%20%20%20%20%20%20%7B%0A%20%20%20%20%20%20%20%20%20%20%20%20%20%20%20%20icon%3A%20new%20L.Icon.Default%28%29%2C%0A%20%20%20%20%20%20%20%20%20%20%20%20%20%20%20%20%7D%0A%20%20%20%20%20%20%20%20%20%20%20%20%29.addTo%28map_0f801d3600474d2d96d5e057e06cf872%29%3B%0A%20%20%20%20%20%20%20%20%0A%20%20%20%20%0A%20%20%20%20%20%20%20%20%20%20%20%20var%20popup_cd8984a8ae9743d9aead76344c0b7a5a%20%3D%20L.popup%28%7BmaxWidth%3A%20%27100%25%27%0A%20%20%20%20%20%20%20%20%20%20%20%20%0A%20%20%20%20%20%20%20%20%20%20%20%20%7D%29%3B%0A%0A%20%20%20%20%20%20%20%20%20%20%20%20%0A%20%20%20%20%20%20%20%20%20%20%20%20%20%20%20%20var%20html_d141501924d240c6bb8be3eb99dfe901%20%3D%20%24%28%60%3Cdiv%20id%3D%22html_d141501924d240c6bb8be3eb99dfe901%22%20style%3D%22width%3A%20100.0%25%3B%20height%3A%20100.0%25%3B%22%3EGUERRA%20GACHARNA%20SAMUEL%20FELIPE%3C/div%3E%60%29%5B0%5D%3B%0A%20%20%20%20%20%20%20%20%20%20%20%20%20%20%20%20popup_cd8984a8ae9743d9aead76344c0b7a5a.setContent%28html_d141501924d240c6bb8be3eb99dfe901%29%3B%0A%20%20%20%20%20%20%20%20%20%20%20%20%0A%0A%20%20%20%20%20%20%20%20%20%20%20%20marker_13c99ee608484bbc8a65a3614491fa6b.bindPopup%28popup_cd8984a8ae9743d9aead76344c0b7a5a%29%0A%20%20%20%20%20%20%20%20%20%20%20%20%3B%0A%0A%20%20%20%20%20%20%20%20%20%20%20%20%0A%20%20%20%20%20%20%20%20%0A%20%20%20%20%0A%20%20%20%20%20%20%20%20var%20marker_129d8acc744f49099852630c4f8b3163%20%3D%20L.marker%28%0A%20%20%20%20%20%20%20%20%20%20%20%20%5B4.7174042%2C%20-74.107491%5D%2C%0A%20%20%20%20%20%20%20%20%20%20%20%20%7B%0A%20%20%20%20%20%20%20%20%20%20%20%20%20%20%20%20icon%3A%20new%20L.Icon.Default%28%29%2C%0A%20%20%20%20%20%20%20%20%20%20%20%20%20%20%20%20%7D%0A%20%20%20%20%20%20%20%20%20%20%20%20%29.addTo%28map_0f801d3600474d2d96d5e057e06cf872%29%3B%0A%20%20%20%20%20%20%20%20%0A%20%20%20%20%0A%20%20%20%20%20%20%20%20%20%20%20%20var%20popup_bf13271704e94a59978aed6454e4b184%20%3D%20L.popup%28%7BmaxWidth%3A%20%27100%25%27%0A%20%20%20%20%20%20%20%20%20%20%20%20%0A%20%20%20%20%20%20%20%20%20%20%20%20%7D%29%3B%0A%0A%20%20%20%20%20%20%20%20%20%20%20%20%0A%20%20%20%20%20%20%20%20%20%20%20%20%20%20%20%20var%20html_4d4bb77d4eb44c0a9c3b9468c1e31cf4%20%3D%20%24%28%60%3Cdiv%20id%3D%22html_4d4bb77d4eb44c0a9c3b9468c1e31cf4%22%20style%3D%22width%3A%20100.0%25%3B%20height%3A%20100.0%25%3B%22%3EBECERRA%20MARTINEZ%20DANA%20SOFIA%3C/div%3E%60%29%5B0%5D%3B%0A%20%20%20%20%20%20%20%20%20%20%20%20%20%20%20%20popup_bf13271704e94a59978aed6454e4b184.setContent%28html_4d4bb77d4eb44c0a9c3b9468c1e31cf4%29%3B%0A%20%20%20%20%20%20%20%20%20%20%20%20%0A%0A%20%20%20%20%20%20%20%20%20%20%20%20marker_129d8acc744f49099852630c4f8b3163.bindPopup%28popup_bf13271704e94a59978aed6454e4b184%29%0A%20%20%20%20%20%20%20%20%20%20%20%20%3B%0A%0A%20%20%20%20%20%20%20%20%20%20%20%20%0A%20%20%20%20%20%20%20%20%0A%20%20%20%20%0A%20%20%20%20%20%20%20%20var%20marker_68df713315174f85861cd0ab87a7898d%20%3D%20L.marker%28%0A%20%20%20%20%20%20%20%20%20%20%20%20%5B4.7229529%2C%20-74.109515%5D%2C%0A%20%20%20%20%20%20%20%20%20%20%20%20%7B%0A%20%20%20%20%20%20%20%20%20%20%20%20%20%20%20%20icon%3A%20new%20L.Icon.Default%28%29%2C%0A%20%20%20%20%20%20%20%20%20%20%20%20%20%20%20%20%7D%0A%20%20%20%20%20%20%20%20%20%20%20%20%29.addTo%28map_0f801d3600474d2d96d5e057e06cf872%29%3B%0A%20%20%20%20%20%20%20%20%0A%20%20%20%20%0A%20%20%20%20%20%20%20%20%20%20%20%20var%20popup_24bb483161f34998bb9f0196966b6ef8%20%3D%20L.popup%28%7BmaxWidth%3A%20%27100%25%27%0A%20%20%20%20%20%20%20%20%20%20%20%20%0A%20%20%20%20%20%20%20%20%20%20%20%20%7D%29%3B%0A%0A%20%20%20%20%20%20%20%20%20%20%20%20%0A%20%20%20%20%20%20%20%20%20%20%20%20%20%20%20%20var%20html_afb353db93ac47caa281e1b015c68758%20%3D%20%24%28%60%3Cdiv%20id%3D%22html_afb353db93ac47caa281e1b015c68758%22%20style%3D%22width%3A%20100.0%25%3B%20height%3A%20100.0%25%3B%22%3EGOMEZ%20ROJAS%20DANNA%20VALENTINA%3C/div%3E%60%29%5B0%5D%3B%0A%20%20%20%20%20%20%20%20%20%20%20%20%20%20%20%20popup_24bb483161f34998bb9f0196966b6ef8.setContent%28html_afb353db93ac47caa281e1b015c68758%29%3B%0A%20%20%20%20%20%20%20%20%20%20%20%20%0A%0A%20%20%20%20%20%20%20%20%20%20%20%20marker_68df713315174f85861cd0ab87a7898d.bindPopup%28popup_24bb483161f34998bb9f0196966b6ef8%29%0A%20%20%20%20%20%20%20%20%20%20%20%20%3B%0A%0A%20%20%20%20%20%20%20%20%20%20%20%20%0A%20%20%20%20%20%20%20%20%0A%20%20%20%20%0A%20%20%20%20%20%20%20%20var%20marker_dc662f2c38c646baad4a77c3a39edcde%20%3D%20L.marker%28%0A%20%20%20%20%20%20%20%20%20%20%20%20%5B4.7229529%2C%20-74.109515%5D%2C%0A%20%20%20%20%20%20%20%20%20%20%20%20%7B%0A%20%20%20%20%20%20%20%20%20%20%20%20%20%20%20%20icon%3A%20new%20L.Icon.Default%28%29%2C%0A%20%20%20%20%20%20%20%20%20%20%20%20%20%20%20%20%7D%0A%20%20%20%20%20%20%20%20%20%20%20%20%29.addTo%28map_0f801d3600474d2d96d5e057e06cf872%29%3B%0A%20%20%20%20%20%20%20%20%0A%20%20%20%20%0A%20%20%20%20%20%20%20%20%20%20%20%20var%20popup_02d67561526c4e34ac965bff319aaa92%20%3D%20L.popup%28%7BmaxWidth%3A%20%27100%25%27%0A%20%20%20%20%20%20%20%20%20%20%20%20%0A%20%20%20%20%20%20%20%20%20%20%20%20%7D%29%3B%0A%0A%20%20%20%20%20%20%20%20%20%20%20%20%0A%20%20%20%20%20%20%20%20%20%20%20%20%20%20%20%20var%20html_11a5aa7ab1c44f0a940fccc4ed7a1225%20%3D%20%24%28%60%3Cdiv%20id%3D%22html_11a5aa7ab1c44f0a940fccc4ed7a1225%22%20style%3D%22width%3A%20100.0%25%3B%20height%3A%20100.0%25%3B%22%3EGOMEZ%20ROJAS%20TOMAS%20ESTEBAN%3C/div%3E%60%29%5B0%5D%3B%0A%20%20%20%20%20%20%20%20%20%20%20%20%20%20%20%20popup_02d67561526c4e34ac965bff319aaa92.setContent%28html_11a5aa7ab1c44f0a940fccc4ed7a1225%29%3B%0A%20%20%20%20%20%20%20%20%20%20%20%20%0A%0A%20%20%20%20%20%20%20%20%20%20%20%20marker_dc662f2c38c646baad4a77c3a39edcde.bindPopup%28popup_02d67561526c4e34ac965bff319aaa92%29%0A%20%20%20%20%20%20%20%20%20%20%20%20%3B%0A%0A%20%20%20%20%20%20%20%20%20%20%20%20%0A%20%20%20%20%20%20%20%20%0A%20%20%20%20%0A%20%20%20%20%20%20%20%20var%20marker_9d8dadb4c0cd445bb53ac61931caa36b%20%3D%20L.marker%28%0A%20%20%20%20%20%20%20%20%20%20%20%20%5B4.7239578%2C%20-74.115517%5D%2C%0A%20%20%20%20%20%20%20%20%20%20%20%20%7B%0A%20%20%20%20%20%20%20%20%20%20%20%20%20%20%20%20icon%3A%20new%20L.Icon.Default%28%29%2C%0A%20%20%20%20%20%20%20%20%20%20%20%20%20%20%20%20%7D%0A%20%20%20%20%20%20%20%20%20%20%20%20%29.addTo%28map_0f801d3600474d2d96d5e057e06cf872%29%3B%0A%20%20%20%20%20%20%20%20%0A%20%20%20%20%0A%20%20%20%20%20%20%20%20%20%20%20%20var%20popup_f59bbe89d1cb4182a9bc26821cf2da41%20%3D%20L.popup%28%7BmaxWidth%3A%20%27100%25%27%0A%20%20%20%20%20%20%20%20%20%20%20%20%0A%20%20%20%20%20%20%20%20%20%20%20%20%7D%29%3B%0A%0A%20%20%20%20%20%20%20%20%20%20%20%20%0A%20%20%20%20%20%20%20%20%20%20%20%20%20%20%20%20var%20html_0b13caa086b2461faf972c43c999b5b6%20%3D%20%24%28%60%3Cdiv%20id%3D%22html_0b13caa086b2461faf972c43c999b5b6%22%20style%3D%22width%3A%20100.0%25%3B%20height%3A%20100.0%25%3B%22%3ELADINO%20ROJAS%20JUAN%20FELIPE%3C/div%3E%60%29%5B0%5D%3B%0A%20%20%20%20%20%20%20%20%20%20%20%20%20%20%20%20popup_f59bbe89d1cb4182a9bc26821cf2da41.setContent%28html_0b13caa086b2461faf972c43c999b5b6%29%3B%0A%20%20%20%20%20%20%20%20%20%20%20%20%0A%0A%20%20%20%20%20%20%20%20%20%20%20%20marker_9d8dadb4c0cd445bb53ac61931caa36b.bindPopup%28popup_f59bbe89d1cb4182a9bc26821cf2da41%29%0A%20%20%20%20%20%20%20%20%20%20%20%20%3B%0A%0A%20%20%20%20%20%20%20%20%20%20%20%20%0A%20%20%20%20%20%20%20%20%0A%3C/script%3E onload=\"this.contentDocument.open();this.contentDocument.write(    decodeURIComponent(this.getAttribute('data-html')));this.contentDocument.close();\" allowfullscreen webkitallowfullscreen mozallowfullscreen></iframe></div></div>"
            ],
            "text/plain": [
              "<folium.folium.Map at 0x7f2c77deb0d0>"
            ]
          },
          "metadata": {},
          "execution_count": 104
        }
      ]
    },
    {
      "cell_type": "code",
      "metadata": {
        "id": "MZlJD-Wc2Bwh"
      },
      "source": [
        "def mapa_de_ruta_actual(ruta):\n",
        "  temp_df = real_test_df[real_test_df['RUTA']== ruta].reset_index()\n",
        "  temp_locations =  temp_df[['latitudes', 'longitudes']]\n",
        "  temp_locationlist = temp_locations.values.tolist()\n",
        "  avg_latitud = temp_df['latitudes'].mean()\n",
        "  avg_longitud = temp_df['longitudes'].mean()\n",
        "  avg_location = [avg_latitud, avg_longitud]\n",
        "  map = folium.Map(location=avg_location, zoom_start=16)\n",
        "  for point in range(0, len(temp_locationlist)):\n",
        "    folium.Marker(temp_locationlist[point], popup=temp_df['ESTUDIANTE'][point]).add_to(map)\n",
        "  return map"
      ],
      "execution_count": null,
      "outputs": []
    },
    {
      "cell_type": "code",
      "metadata": {
        "colab": {
          "base_uri": "https://localhost:8080/",
          "height": 712
        },
        "id": "9MQLVOf42WR_",
        "outputId": "3de58dae-fb8c-4781-a51c-9accdcd5ff39"
      },
      "source": [
        "mapa_de_ruta_actual(4)"
      ],
      "execution_count": null,
      "outputs": [
        {
          "output_type": "execute_result",
          "data": {
            "text/html": [
              "<div style=\"width:100%;\"><div style=\"position:relative;width:100%;height:0;padding-bottom:60%;\"><span style=\"color:#565656\">Make this Notebook Trusted to load map: File -> Trust Notebook</span><iframe src=\"about:blank\" style=\"position:absolute;width:100%;height:100%;left:0;top:0;border:none !important;\" data-html=%3C%21DOCTYPE%20html%3E%0A%3Chead%3E%20%20%20%20%0A%20%20%20%20%3Cmeta%20http-equiv%3D%22content-type%22%20content%3D%22text/html%3B%20charset%3DUTF-8%22%20/%3E%0A%20%20%20%20%3Cscript%3EL_PREFER_CANVAS%3Dfalse%3B%20L_NO_TOUCH%3Dfalse%3B%20L_DISABLE_3D%3Dfalse%3B%3C/script%3E%0A%20%20%20%20%3Cscript%20src%3D%22https%3A//cdn.jsdelivr.net/npm/leaflet%401.4.0/dist/leaflet.js%22%3E%3C/script%3E%0A%20%20%20%20%3Cscript%20src%3D%22https%3A//code.jquery.com/jquery-1.12.4.min.js%22%3E%3C/script%3E%0A%20%20%20%20%3Cscript%20src%3D%22https%3A//maxcdn.bootstrapcdn.com/bootstrap/3.2.0/js/bootstrap.min.js%22%3E%3C/script%3E%0A%20%20%20%20%3Cscript%20src%3D%22https%3A//cdnjs.cloudflare.com/ajax/libs/Leaflet.awesome-markers/2.0.2/leaflet.awesome-markers.js%22%3E%3C/script%3E%0A%20%20%20%20%3Clink%20rel%3D%22stylesheet%22%20href%3D%22https%3A//cdn.jsdelivr.net/npm/leaflet%401.4.0/dist/leaflet.css%22/%3E%0A%20%20%20%20%3Clink%20rel%3D%22stylesheet%22%20href%3D%22https%3A//maxcdn.bootstrapcdn.com/bootstrap/3.2.0/css/bootstrap.min.css%22/%3E%0A%20%20%20%20%3Clink%20rel%3D%22stylesheet%22%20href%3D%22https%3A//maxcdn.bootstrapcdn.com/bootstrap/3.2.0/css/bootstrap-theme.min.css%22/%3E%0A%20%20%20%20%3Clink%20rel%3D%22stylesheet%22%20href%3D%22https%3A//maxcdn.bootstrapcdn.com/font-awesome/4.6.3/css/font-awesome.min.css%22/%3E%0A%20%20%20%20%3Clink%20rel%3D%22stylesheet%22%20href%3D%22https%3A//cdnjs.cloudflare.com/ajax/libs/Leaflet.awesome-markers/2.0.2/leaflet.awesome-markers.css%22/%3E%0A%20%20%20%20%3Clink%20rel%3D%22stylesheet%22%20href%3D%22https%3A//rawcdn.githack.com/python-visualization/folium/master/folium/templates/leaflet.awesome.rotate.css%22/%3E%0A%20%20%20%20%3Cstyle%3Ehtml%2C%20body%20%7Bwidth%3A%20100%25%3Bheight%3A%20100%25%3Bmargin%3A%200%3Bpadding%3A%200%3B%7D%3C/style%3E%0A%20%20%20%20%3Cstyle%3E%23map%20%7Bposition%3Aabsolute%3Btop%3A0%3Bbottom%3A0%3Bright%3A0%3Bleft%3A0%3B%7D%3C/style%3E%0A%20%20%20%20%0A%20%20%20%20%3Cmeta%20name%3D%22viewport%22%20content%3D%22width%3Ddevice-width%2C%0A%20%20%20%20%20%20%20%20initial-scale%3D1.0%2C%20maximum-scale%3D1.0%2C%20user-scalable%3Dno%22%20/%3E%0A%20%20%20%20%3Cstyle%3E%23map_4d2cb16d160a4b8b98b6246231075538%20%7B%0A%20%20%20%20%20%20%20%20position%3A%20relative%3B%0A%20%20%20%20%20%20%20%20width%3A%20100.0%25%3B%0A%20%20%20%20%20%20%20%20height%3A%20100.0%25%3B%0A%20%20%20%20%20%20%20%20left%3A%200.0%25%3B%0A%20%20%20%20%20%20%20%20top%3A%200.0%25%3B%0A%20%20%20%20%20%20%20%20%7D%0A%20%20%20%20%3C/style%3E%0A%3C/head%3E%0A%3Cbody%3E%20%20%20%20%0A%20%20%20%20%0A%20%20%20%20%3Cdiv%20class%3D%22folium-map%22%20id%3D%22map_4d2cb16d160a4b8b98b6246231075538%22%20%3E%3C/div%3E%0A%3C/body%3E%0A%3Cscript%3E%20%20%20%20%0A%20%20%20%20%0A%20%20%20%20%0A%20%20%20%20%20%20%20%20var%20bounds%20%3D%20null%3B%0A%20%20%20%20%0A%0A%20%20%20%20var%20map_4d2cb16d160a4b8b98b6246231075538%20%3D%20L.map%28%0A%20%20%20%20%20%20%20%20%27map_4d2cb16d160a4b8b98b6246231075538%27%2C%20%7B%0A%20%20%20%20%20%20%20%20center%3A%20%5B4.721011899999998%2C%20-74.11438790937501%5D%2C%0A%20%20%20%20%20%20%20%20zoom%3A%2016%2C%0A%20%20%20%20%20%20%20%20maxBounds%3A%20bounds%2C%0A%20%20%20%20%20%20%20%20layers%3A%20%5B%5D%2C%0A%20%20%20%20%20%20%20%20worldCopyJump%3A%20false%2C%0A%20%20%20%20%20%20%20%20crs%3A%20L.CRS.EPSG3857%2C%0A%20%20%20%20%20%20%20%20zoomControl%3A%20true%2C%0A%20%20%20%20%20%20%20%20%7D%29%3B%0A%0A%0A%20%20%20%20%0A%20%20%20%20var%20tile_layer_cb6c9da6f7954162b91fc0ac3841039b%20%3D%20L.tileLayer%28%0A%20%20%20%20%20%20%20%20%27https%3A//%7Bs%7D.tile.openstreetmap.org/%7Bz%7D/%7Bx%7D/%7By%7D.png%27%2C%0A%20%20%20%20%20%20%20%20%7B%0A%20%20%20%20%20%20%20%20%22attribution%22%3A%20null%2C%0A%20%20%20%20%20%20%20%20%22detectRetina%22%3A%20false%2C%0A%20%20%20%20%20%20%20%20%22maxNativeZoom%22%3A%2018%2C%0A%20%20%20%20%20%20%20%20%22maxZoom%22%3A%2018%2C%0A%20%20%20%20%20%20%20%20%22minZoom%22%3A%200%2C%0A%20%20%20%20%20%20%20%20%22noWrap%22%3A%20false%2C%0A%20%20%20%20%20%20%20%20%22opacity%22%3A%201%2C%0A%20%20%20%20%20%20%20%20%22subdomains%22%3A%20%22abc%22%2C%0A%20%20%20%20%20%20%20%20%22tms%22%3A%20false%0A%7D%29.addTo%28map_4d2cb16d160a4b8b98b6246231075538%29%3B%0A%20%20%20%20%0A%20%20%20%20%20%20%20%20var%20marker_b3aab6cc643c443998852ac56f949cd6%20%3D%20L.marker%28%0A%20%20%20%20%20%20%20%20%20%20%20%20%5B4.7209106%2C%20-74.1189966%5D%2C%0A%20%20%20%20%20%20%20%20%20%20%20%20%7B%0A%20%20%20%20%20%20%20%20%20%20%20%20%20%20%20%20icon%3A%20new%20L.Icon.Default%28%29%2C%0A%20%20%20%20%20%20%20%20%20%20%20%20%20%20%20%20%7D%0A%20%20%20%20%20%20%20%20%20%20%20%20%29.addTo%28map_4d2cb16d160a4b8b98b6246231075538%29%3B%0A%20%20%20%20%20%20%20%20%0A%20%20%20%20%0A%20%20%20%20%20%20%20%20%20%20%20%20var%20popup_a994103d04bd483a8cfbf530f83e55ef%20%3D%20L.popup%28%7BmaxWidth%3A%20%27100%25%27%0A%20%20%20%20%20%20%20%20%20%20%20%20%0A%20%20%20%20%20%20%20%20%20%20%20%20%7D%29%3B%0A%0A%20%20%20%20%20%20%20%20%20%20%20%20%0A%20%20%20%20%20%20%20%20%20%20%20%20%20%20%20%20var%20html_8c73b74d41084155b33becf77c2fe02d%20%3D%20%24%28%60%3Cdiv%20id%3D%22html_8c73b74d41084155b33becf77c2fe02d%22%20style%3D%22width%3A%20100.0%25%3B%20height%3A%20100.0%25%3B%22%3ERIVERA%20POVEDA%20JAIME%20ALEJANDRO%3C/div%3E%60%29%5B0%5D%3B%0A%20%20%20%20%20%20%20%20%20%20%20%20%20%20%20%20popup_a994103d04bd483a8cfbf530f83e55ef.setContent%28html_8c73b74d41084155b33becf77c2fe02d%29%3B%0A%20%20%20%20%20%20%20%20%20%20%20%20%0A%0A%20%20%20%20%20%20%20%20%20%20%20%20marker_b3aab6cc643c443998852ac56f949cd6.bindPopup%28popup_a994103d04bd483a8cfbf530f83e55ef%29%0A%20%20%20%20%20%20%20%20%20%20%20%20%3B%0A%0A%20%20%20%20%20%20%20%20%20%20%20%20%0A%20%20%20%20%20%20%20%20%0A%20%20%20%20%0A%20%20%20%20%20%20%20%20var%20marker_8ca66de8aef6482a8f269e7dd93488d3%20%3D%20L.marker%28%0A%20%20%20%20%20%20%20%20%20%20%20%20%5B4.719878599999999%2C%20-74.1071948%5D%2C%0A%20%20%20%20%20%20%20%20%20%20%20%20%7B%0A%20%20%20%20%20%20%20%20%20%20%20%20%20%20%20%20icon%3A%20new%20L.Icon.Default%28%29%2C%0A%20%20%20%20%20%20%20%20%20%20%20%20%20%20%20%20%7D%0A%20%20%20%20%20%20%20%20%20%20%20%20%29.addTo%28map_4d2cb16d160a4b8b98b6246231075538%29%3B%0A%20%20%20%20%20%20%20%20%0A%20%20%20%20%0A%20%20%20%20%20%20%20%20%20%20%20%20var%20popup_730778ffc5f94889880a728e7d72ba77%20%3D%20L.popup%28%7BmaxWidth%3A%20%27100%25%27%0A%20%20%20%20%20%20%20%20%20%20%20%20%0A%20%20%20%20%20%20%20%20%20%20%20%20%7D%29%3B%0A%0A%20%20%20%20%20%20%20%20%20%20%20%20%0A%20%20%20%20%20%20%20%20%20%20%20%20%20%20%20%20var%20html_5518c7a5a07a4a598207d59fec2fcb78%20%3D%20%24%28%60%3Cdiv%20id%3D%22html_5518c7a5a07a4a598207d59fec2fcb78%22%20style%3D%22width%3A%20100.0%25%3B%20height%3A%20100.0%25%3B%22%3ECAMARGO%20MARIN%20MARIANA%3C/div%3E%60%29%5B0%5D%3B%0A%20%20%20%20%20%20%20%20%20%20%20%20%20%20%20%20popup_730778ffc5f94889880a728e7d72ba77.setContent%28html_5518c7a5a07a4a598207d59fec2fcb78%29%3B%0A%20%20%20%20%20%20%20%20%20%20%20%20%0A%0A%20%20%20%20%20%20%20%20%20%20%20%20marker_8ca66de8aef6482a8f269e7dd93488d3.bindPopup%28popup_730778ffc5f94889880a728e7d72ba77%29%0A%20%20%20%20%20%20%20%20%20%20%20%20%3B%0A%0A%20%20%20%20%20%20%20%20%20%20%20%20%0A%20%20%20%20%20%20%20%20%0A%20%20%20%20%0A%20%20%20%20%20%20%20%20var%20marker_42b116be110541e683fd237fec148225%20%3D%20L.marker%28%0A%20%20%20%20%20%20%20%20%20%20%20%20%5B4.719878599999999%2C%20-74.1071948%5D%2C%0A%20%20%20%20%20%20%20%20%20%20%20%20%7B%0A%20%20%20%20%20%20%20%20%20%20%20%20%20%20%20%20icon%3A%20new%20L.Icon.Default%28%29%2C%0A%20%20%20%20%20%20%20%20%20%20%20%20%20%20%20%20%7D%0A%20%20%20%20%20%20%20%20%20%20%20%20%29.addTo%28map_4d2cb16d160a4b8b98b6246231075538%29%3B%0A%20%20%20%20%20%20%20%20%0A%20%20%20%20%0A%20%20%20%20%20%20%20%20%20%20%20%20var%20popup_d95c1ff8c8fb459e860e0bedad8832f7%20%3D%20L.popup%28%7BmaxWidth%3A%20%27100%25%27%0A%20%20%20%20%20%20%20%20%20%20%20%20%0A%20%20%20%20%20%20%20%20%20%20%20%20%7D%29%3B%0A%0A%20%20%20%20%20%20%20%20%20%20%20%20%0A%20%20%20%20%20%20%20%20%20%20%20%20%20%20%20%20var%20html_4b39ca4c7f044e88865bd5abf56f17e9%20%3D%20%24%28%60%3Cdiv%20id%3D%22html_4b39ca4c7f044e88865bd5abf56f17e9%22%20style%3D%22width%3A%20100.0%25%3B%20height%3A%20100.0%25%3B%22%3EHERRERA%20GONZALEZ%20MARIA%20GABRIELA%3C/div%3E%60%29%5B0%5D%3B%0A%20%20%20%20%20%20%20%20%20%20%20%20%20%20%20%20popup_d95c1ff8c8fb459e860e0bedad8832f7.setContent%28html_4b39ca4c7f044e88865bd5abf56f17e9%29%3B%0A%20%20%20%20%20%20%20%20%20%20%20%20%0A%0A%20%20%20%20%20%20%20%20%20%20%20%20marker_42b116be110541e683fd237fec148225.bindPopup%28popup_d95c1ff8c8fb459e860e0bedad8832f7%29%0A%20%20%20%20%20%20%20%20%20%20%20%20%3B%0A%0A%20%20%20%20%20%20%20%20%20%20%20%20%0A%20%20%20%20%20%20%20%20%0A%20%20%20%20%0A%20%20%20%20%20%20%20%20var%20marker_94553fc01db44336ad7f05bec9d01a86%20%3D%20L.marker%28%0A%20%20%20%20%20%20%20%20%20%20%20%20%5B4.721445%2C%20-74.108588%5D%2C%0A%20%20%20%20%20%20%20%20%20%20%20%20%7B%0A%20%20%20%20%20%20%20%20%20%20%20%20%20%20%20%20icon%3A%20new%20L.Icon.Default%28%29%2C%0A%20%20%20%20%20%20%20%20%20%20%20%20%20%20%20%20%7D%0A%20%20%20%20%20%20%20%20%20%20%20%20%29.addTo%28map_4d2cb16d160a4b8b98b6246231075538%29%3B%0A%20%20%20%20%20%20%20%20%0A%20%20%20%20%0A%20%20%20%20%20%20%20%20%20%20%20%20var%20popup_dcbee9cd3f5c4f0694a39e686dad0360%20%3D%20L.popup%28%7BmaxWidth%3A%20%27100%25%27%0A%20%20%20%20%20%20%20%20%20%20%20%20%0A%20%20%20%20%20%20%20%20%20%20%20%20%7D%29%3B%0A%0A%20%20%20%20%20%20%20%20%20%20%20%20%0A%20%20%20%20%20%20%20%20%20%20%20%20%20%20%20%20var%20html_860532085f9f48d294024f851d69a0e3%20%3D%20%24%28%60%3Cdiv%20id%3D%22html_860532085f9f48d294024f851d69a0e3%22%20style%3D%22width%3A%20100.0%25%3B%20height%3A%20100.0%25%3B%22%3EBOHORQUEZ%20BRICE%C3%91O%20JULIANA%3C/div%3E%60%29%5B0%5D%3B%0A%20%20%20%20%20%20%20%20%20%20%20%20%20%20%20%20popup_dcbee9cd3f5c4f0694a39e686dad0360.setContent%28html_860532085f9f48d294024f851d69a0e3%29%3B%0A%20%20%20%20%20%20%20%20%20%20%20%20%0A%0A%20%20%20%20%20%20%20%20%20%20%20%20marker_94553fc01db44336ad7f05bec9d01a86.bindPopup%28popup_dcbee9cd3f5c4f0694a39e686dad0360%29%0A%20%20%20%20%20%20%20%20%20%20%20%20%3B%0A%0A%20%20%20%20%20%20%20%20%20%20%20%20%0A%20%20%20%20%20%20%20%20%0A%20%20%20%20%0A%20%20%20%20%20%20%20%20var%20marker_dda76abf102342fa9a1d4743e7674f8f%20%3D%20L.marker%28%0A%20%20%20%20%20%20%20%20%20%20%20%20%5B4.7215998%2C%20-74.10829869999999%5D%2C%0A%20%20%20%20%20%20%20%20%20%20%20%20%7B%0A%20%20%20%20%20%20%20%20%20%20%20%20%20%20%20%20icon%3A%20new%20L.Icon.Default%28%29%2C%0A%20%20%20%20%20%20%20%20%20%20%20%20%20%20%20%20%7D%0A%20%20%20%20%20%20%20%20%20%20%20%20%29.addTo%28map_4d2cb16d160a4b8b98b6246231075538%29%3B%0A%20%20%20%20%20%20%20%20%0A%20%20%20%20%0A%20%20%20%20%20%20%20%20%20%20%20%20var%20popup_ae0a375a2163427fa55c748ac207331a%20%3D%20L.popup%28%7BmaxWidth%3A%20%27100%25%27%0A%20%20%20%20%20%20%20%20%20%20%20%20%0A%20%20%20%20%20%20%20%20%20%20%20%20%7D%29%3B%0A%0A%20%20%20%20%20%20%20%20%20%20%20%20%0A%20%20%20%20%20%20%20%20%20%20%20%20%20%20%20%20var%20html_487b3c5cd6fc45d291dc53e208ffe04f%20%3D%20%24%28%60%3Cdiv%20id%3D%22html_487b3c5cd6fc45d291dc53e208ffe04f%22%20style%3D%22width%3A%20100.0%25%3B%20height%3A%20100.0%25%3B%22%3EPARRA%20CASTA%C3%91O%20NATHALIA%3C/div%3E%60%29%5B0%5D%3B%0A%20%20%20%20%20%20%20%20%20%20%20%20%20%20%20%20popup_ae0a375a2163427fa55c748ac207331a.setContent%28html_487b3c5cd6fc45d291dc53e208ffe04f%29%3B%0A%20%20%20%20%20%20%20%20%20%20%20%20%0A%0A%20%20%20%20%20%20%20%20%20%20%20%20marker_dda76abf102342fa9a1d4743e7674f8f.bindPopup%28popup_ae0a375a2163427fa55c748ac207331a%29%0A%20%20%20%20%20%20%20%20%20%20%20%20%3B%0A%0A%20%20%20%20%20%20%20%20%20%20%20%20%0A%20%20%20%20%20%20%20%20%0A%20%20%20%20%0A%20%20%20%20%20%20%20%20var%20marker_c1454c0067034003a8d0f092f807980f%20%3D%20L.marker%28%0A%20%20%20%20%20%20%20%20%20%20%20%20%5B4.7167455%2C%20-74.1073985%5D%2C%0A%20%20%20%20%20%20%20%20%20%20%20%20%7B%0A%20%20%20%20%20%20%20%20%20%20%20%20%20%20%20%20icon%3A%20new%20L.Icon.Default%28%29%2C%0A%20%20%20%20%20%20%20%20%20%20%20%20%20%20%20%20%7D%0A%20%20%20%20%20%20%20%20%20%20%20%20%29.addTo%28map_4d2cb16d160a4b8b98b6246231075538%29%3B%0A%20%20%20%20%20%20%20%20%0A%20%20%20%20%0A%20%20%20%20%20%20%20%20%20%20%20%20var%20popup_69218d1800374e66bd469114ae1a1471%20%3D%20L.popup%28%7BmaxWidth%3A%20%27100%25%27%0A%20%20%20%20%20%20%20%20%20%20%20%20%0A%20%20%20%20%20%20%20%20%20%20%20%20%7D%29%3B%0A%0A%20%20%20%20%20%20%20%20%20%20%20%20%0A%20%20%20%20%20%20%20%20%20%20%20%20%20%20%20%20var%20html_8d2ec4a3d1df4dfabd26656468c05cdb%20%3D%20%24%28%60%3Cdiv%20id%3D%22html_8d2ec4a3d1df4dfabd26656468c05cdb%22%20style%3D%22width%3A%20100.0%25%3B%20height%3A%20100.0%25%3B%22%3EBARRERO%20PICO%20PAULA%20ANDREA%3C/div%3E%60%29%5B0%5D%3B%0A%20%20%20%20%20%20%20%20%20%20%20%20%20%20%20%20popup_69218d1800374e66bd469114ae1a1471.setContent%28html_8d2ec4a3d1df4dfabd26656468c05cdb%29%3B%0A%20%20%20%20%20%20%20%20%20%20%20%20%0A%0A%20%20%20%20%20%20%20%20%20%20%20%20marker_c1454c0067034003a8d0f092f807980f.bindPopup%28popup_69218d1800374e66bd469114ae1a1471%29%0A%20%20%20%20%20%20%20%20%20%20%20%20%3B%0A%0A%20%20%20%20%20%20%20%20%20%20%20%20%0A%20%20%20%20%20%20%20%20%0A%20%20%20%20%0A%20%20%20%20%20%20%20%20var%20marker_6e2f63dc2a394b1891d48db61bfabdfc%20%3D%20L.marker%28%0A%20%20%20%20%20%20%20%20%20%20%20%20%5B4.7192488%2C%20-74.1105678%5D%2C%0A%20%20%20%20%20%20%20%20%20%20%20%20%7B%0A%20%20%20%20%20%20%20%20%20%20%20%20%20%20%20%20icon%3A%20new%20L.Icon.Default%28%29%2C%0A%20%20%20%20%20%20%20%20%20%20%20%20%20%20%20%20%7D%0A%20%20%20%20%20%20%20%20%20%20%20%20%29.addTo%28map_4d2cb16d160a4b8b98b6246231075538%29%3B%0A%20%20%20%20%20%20%20%20%0A%20%20%20%20%0A%20%20%20%20%20%20%20%20%20%20%20%20var%20popup_c4f284a1199248519f76e9c174abf5fd%20%3D%20L.popup%28%7BmaxWidth%3A%20%27100%25%27%0A%20%20%20%20%20%20%20%20%20%20%20%20%0A%20%20%20%20%20%20%20%20%20%20%20%20%7D%29%3B%0A%0A%20%20%20%20%20%20%20%20%20%20%20%20%0A%20%20%20%20%20%20%20%20%20%20%20%20%20%20%20%20var%20html_e4119a72eb844d609e2cd52035ba7c2b%20%3D%20%24%28%60%3Cdiv%20id%3D%22html_e4119a72eb844d609e2cd52035ba7c2b%22%20style%3D%22width%3A%20100.0%25%3B%20height%3A%20100.0%25%3B%22%3ECARDENAS%20BAQUERO%20JUAN%20ANDRES%3C/div%3E%60%29%5B0%5D%3B%0A%20%20%20%20%20%20%20%20%20%20%20%20%20%20%20%20popup_c4f284a1199248519f76e9c174abf5fd.setContent%28html_e4119a72eb844d609e2cd52035ba7c2b%29%3B%0A%20%20%20%20%20%20%20%20%20%20%20%20%0A%0A%20%20%20%20%20%20%20%20%20%20%20%20marker_6e2f63dc2a394b1891d48db61bfabdfc.bindPopup%28popup_c4f284a1199248519f76e9c174abf5fd%29%0A%20%20%20%20%20%20%20%20%20%20%20%20%3B%0A%0A%20%20%20%20%20%20%20%20%20%20%20%20%0A%20%20%20%20%20%20%20%20%0A%20%20%20%20%0A%20%20%20%20%20%20%20%20var%20marker_919106f89d9f424a89224a89806a3462%20%3D%20L.marker%28%0A%20%20%20%20%20%20%20%20%20%20%20%20%5B4.719378%2C%20-74.1108271%5D%2C%0A%20%20%20%20%20%20%20%20%20%20%20%20%7B%0A%20%20%20%20%20%20%20%20%20%20%20%20%20%20%20%20icon%3A%20new%20L.Icon.Default%28%29%2C%0A%20%20%20%20%20%20%20%20%20%20%20%20%20%20%20%20%7D%0A%20%20%20%20%20%20%20%20%20%20%20%20%29.addTo%28map_4d2cb16d160a4b8b98b6246231075538%29%3B%0A%20%20%20%20%20%20%20%20%0A%20%20%20%20%0A%20%20%20%20%20%20%20%20%20%20%20%20var%20popup_1a8d7a14ba4041b98eed0303b66bdb39%20%3D%20L.popup%28%7BmaxWidth%3A%20%27100%25%27%0A%20%20%20%20%20%20%20%20%20%20%20%20%0A%20%20%20%20%20%20%20%20%20%20%20%20%7D%29%3B%0A%0A%20%20%20%20%20%20%20%20%20%20%20%20%0A%20%20%20%20%20%20%20%20%20%20%20%20%20%20%20%20var%20html_da9408947abe4c1ea87dc8a5e0539bcb%20%3D%20%24%28%60%3Cdiv%20id%3D%22html_da9408947abe4c1ea87dc8a5e0539bcb%22%20style%3D%22width%3A%20100.0%25%3B%20height%3A%20100.0%25%3B%22%3ERAMIREZ%20PINEDA%20NICOLAS%20FERNANDO%3C/div%3E%60%29%5B0%5D%3B%0A%20%20%20%20%20%20%20%20%20%20%20%20%20%20%20%20popup_1a8d7a14ba4041b98eed0303b66bdb39.setContent%28html_da9408947abe4c1ea87dc8a5e0539bcb%29%3B%0A%20%20%20%20%20%20%20%20%20%20%20%20%0A%0A%20%20%20%20%20%20%20%20%20%20%20%20marker_919106f89d9f424a89224a89806a3462.bindPopup%28popup_1a8d7a14ba4041b98eed0303b66bdb39%29%0A%20%20%20%20%20%20%20%20%20%20%20%20%3B%0A%0A%20%20%20%20%20%20%20%20%20%20%20%20%0A%20%20%20%20%20%20%20%20%0A%20%20%20%20%0A%20%20%20%20%20%20%20%20var%20marker_ee5de8b3df8b41bc95b6a7001ee4ca70%20%3D%20L.marker%28%0A%20%20%20%20%20%20%20%20%20%20%20%20%5B4.7215998%2C%20-74.10829869999999%5D%2C%0A%20%20%20%20%20%20%20%20%20%20%20%20%7B%0A%20%20%20%20%20%20%20%20%20%20%20%20%20%20%20%20icon%3A%20new%20L.Icon.Default%28%29%2C%0A%20%20%20%20%20%20%20%20%20%20%20%20%20%20%20%20%7D%0A%20%20%20%20%20%20%20%20%20%20%20%20%29.addTo%28map_4d2cb16d160a4b8b98b6246231075538%29%3B%0A%20%20%20%20%20%20%20%20%0A%20%20%20%20%0A%20%20%20%20%20%20%20%20%20%20%20%20var%20popup_7137c3c076e74337b2980e110d7fc313%20%3D%20L.popup%28%7BmaxWidth%3A%20%27100%25%27%0A%20%20%20%20%20%20%20%20%20%20%20%20%0A%20%20%20%20%20%20%20%20%20%20%20%20%7D%29%3B%0A%0A%20%20%20%20%20%20%20%20%20%20%20%20%0A%20%20%20%20%20%20%20%20%20%20%20%20%20%20%20%20var%20html_a4f22dbd2a2f493ea828c9febe80c482%20%3D%20%24%28%60%3Cdiv%20id%3D%22html_a4f22dbd2a2f493ea828c9febe80c482%22%20style%3D%22width%3A%20100.0%25%3B%20height%3A%20100.0%25%3B%22%3EQUIROGA%20VILLAMIL%20VALENTINA%3C/div%3E%60%29%5B0%5D%3B%0A%20%20%20%20%20%20%20%20%20%20%20%20%20%20%20%20popup_7137c3c076e74337b2980e110d7fc313.setContent%28html_a4f22dbd2a2f493ea828c9febe80c482%29%3B%0A%20%20%20%20%20%20%20%20%20%20%20%20%0A%0A%20%20%20%20%20%20%20%20%20%20%20%20marker_ee5de8b3df8b41bc95b6a7001ee4ca70.bindPopup%28popup_7137c3c076e74337b2980e110d7fc313%29%0A%20%20%20%20%20%20%20%20%20%20%20%20%3B%0A%0A%20%20%20%20%20%20%20%20%20%20%20%20%0A%20%20%20%20%20%20%20%20%0A%20%20%20%20%0A%20%20%20%20%20%20%20%20var%20marker_dc87cbb245fe48edae46a095c457b213%20%3D%20L.marker%28%0A%20%20%20%20%20%20%20%20%20%20%20%20%5B4.7220662%2C%20-74.11650809999999%5D%2C%0A%20%20%20%20%20%20%20%20%20%20%20%20%7B%0A%20%20%20%20%20%20%20%20%20%20%20%20%20%20%20%20icon%3A%20new%20L.Icon.Default%28%29%2C%0A%20%20%20%20%20%20%20%20%20%20%20%20%20%20%20%20%7D%0A%20%20%20%20%20%20%20%20%20%20%20%20%29.addTo%28map_4d2cb16d160a4b8b98b6246231075538%29%3B%0A%20%20%20%20%20%20%20%20%0A%20%20%20%20%0A%20%20%20%20%20%20%20%20%20%20%20%20var%20popup_31df276ca1d441b681e008ab5762f9d9%20%3D%20L.popup%28%7BmaxWidth%3A%20%27100%25%27%0A%20%20%20%20%20%20%20%20%20%20%20%20%0A%20%20%20%20%20%20%20%20%20%20%20%20%7D%29%3B%0A%0A%20%20%20%20%20%20%20%20%20%20%20%20%0A%20%20%20%20%20%20%20%20%20%20%20%20%20%20%20%20var%20html_98d3d24d694c44c7b0c453507cd4728c%20%3D%20%24%28%60%3Cdiv%20id%3D%22html_98d3d24d694c44c7b0c453507cd4728c%22%20style%3D%22width%3A%20100.0%25%3B%20height%3A%20100.0%25%3B%22%3ECARDOZO%20REINA%20SOFIA%3C/div%3E%60%29%5B0%5D%3B%0A%20%20%20%20%20%20%20%20%20%20%20%20%20%20%20%20popup_31df276ca1d441b681e008ab5762f9d9.setContent%28html_98d3d24d694c44c7b0c453507cd4728c%29%3B%0A%20%20%20%20%20%20%20%20%20%20%20%20%0A%0A%20%20%20%20%20%20%20%20%20%20%20%20marker_dc87cbb245fe48edae46a095c457b213.bindPopup%28popup_31df276ca1d441b681e008ab5762f9d9%29%0A%20%20%20%20%20%20%20%20%20%20%20%20%3B%0A%0A%20%20%20%20%20%20%20%20%20%20%20%20%0A%20%20%20%20%20%20%20%20%0A%20%20%20%20%0A%20%20%20%20%20%20%20%20var%20marker_31432ba28d0349b6954bf3b7e12e66e9%20%3D%20L.marker%28%0A%20%20%20%20%20%20%20%20%20%20%20%20%5B4.7209106%2C%20-74.1189966%5D%2C%0A%20%20%20%20%20%20%20%20%20%20%20%20%7B%0A%20%20%20%20%20%20%20%20%20%20%20%20%20%20%20%20icon%3A%20new%20L.Icon.Default%28%29%2C%0A%20%20%20%20%20%20%20%20%20%20%20%20%20%20%20%20%7D%0A%20%20%20%20%20%20%20%20%20%20%20%20%29.addTo%28map_4d2cb16d160a4b8b98b6246231075538%29%3B%0A%20%20%20%20%20%20%20%20%0A%20%20%20%20%0A%20%20%20%20%20%20%20%20%20%20%20%20var%20popup_c2b95e081ee74c379295c723dca68a7a%20%3D%20L.popup%28%7BmaxWidth%3A%20%27100%25%27%0A%20%20%20%20%20%20%20%20%20%20%20%20%0A%20%20%20%20%20%20%20%20%20%20%20%20%7D%29%3B%0A%0A%20%20%20%20%20%20%20%20%20%20%20%20%0A%20%20%20%20%20%20%20%20%20%20%20%20%20%20%20%20var%20html_3ec994ac5ae744c8aee71859db77762b%20%3D%20%24%28%60%3Cdiv%20id%3D%22html_3ec994ac5ae744c8aee71859db77762b%22%20style%3D%22width%3A%20100.0%25%3B%20height%3A%20100.0%25%3B%22%3EGONZALEZ%20CAITA%20JERONIMO%3C/div%3E%60%29%5B0%5D%3B%0A%20%20%20%20%20%20%20%20%20%20%20%20%20%20%20%20popup_c2b95e081ee74c379295c723dca68a7a.setContent%28html_3ec994ac5ae744c8aee71859db77762b%29%3B%0A%20%20%20%20%20%20%20%20%20%20%20%20%0A%0A%20%20%20%20%20%20%20%20%20%20%20%20marker_31432ba28d0349b6954bf3b7e12e66e9.bindPopup%28popup_c2b95e081ee74c379295c723dca68a7a%29%0A%20%20%20%20%20%20%20%20%20%20%20%20%3B%0A%0A%20%20%20%20%20%20%20%20%20%20%20%20%0A%20%20%20%20%20%20%20%20%0A%20%20%20%20%0A%20%20%20%20%20%20%20%20var%20marker_5270029a8bc94c0b9f3de56f3ee59828%20%3D%20L.marker%28%0A%20%20%20%20%20%20%20%20%20%20%20%20%5B4.7220662%2C%20-74.11650809999999%5D%2C%0A%20%20%20%20%20%20%20%20%20%20%20%20%7B%0A%20%20%20%20%20%20%20%20%20%20%20%20%20%20%20%20icon%3A%20new%20L.Icon.Default%28%29%2C%0A%20%20%20%20%20%20%20%20%20%20%20%20%20%20%20%20%7D%0A%20%20%20%20%20%20%20%20%20%20%20%20%29.addTo%28map_4d2cb16d160a4b8b98b6246231075538%29%3B%0A%20%20%20%20%20%20%20%20%0A%20%20%20%20%0A%20%20%20%20%20%20%20%20%20%20%20%20var%20popup_3e99fa7a961647d59637b553a0457284%20%3D%20L.popup%28%7BmaxWidth%3A%20%27100%25%27%0A%20%20%20%20%20%20%20%20%20%20%20%20%0A%20%20%20%20%20%20%20%20%20%20%20%20%7D%29%3B%0A%0A%20%20%20%20%20%20%20%20%20%20%20%20%0A%20%20%20%20%20%20%20%20%20%20%20%20%20%20%20%20var%20html_4462f498c5fe4055a668e8c3ac286a0a%20%3D%20%24%28%60%3Cdiv%20id%3D%22html_4462f498c5fe4055a668e8c3ac286a0a%22%20style%3D%22width%3A%20100.0%25%3B%20height%3A%20100.0%25%3B%22%3EGUERRA%20GACHARNA%20SAMUEL%20FELIPE%3C/div%3E%60%29%5B0%5D%3B%0A%20%20%20%20%20%20%20%20%20%20%20%20%20%20%20%20popup_3e99fa7a961647d59637b553a0457284.setContent%28html_4462f498c5fe4055a668e8c3ac286a0a%29%3B%0A%20%20%20%20%20%20%20%20%20%20%20%20%0A%0A%20%20%20%20%20%20%20%20%20%20%20%20marker_5270029a8bc94c0b9f3de56f3ee59828.bindPopup%28popup_3e99fa7a961647d59637b553a0457284%29%0A%20%20%20%20%20%20%20%20%20%20%20%20%3B%0A%0A%20%20%20%20%20%20%20%20%20%20%20%20%0A%20%20%20%20%20%20%20%20%0A%20%20%20%20%0A%20%20%20%20%20%20%20%20var%20marker_bb4b687058564971ab0626be944e3e50%20%3D%20L.marker%28%0A%20%20%20%20%20%20%20%20%20%20%20%20%5B4.7220662%2C%20-74.11650809999999%5D%2C%0A%20%20%20%20%20%20%20%20%20%20%20%20%7B%0A%20%20%20%20%20%20%20%20%20%20%20%20%20%20%20%20icon%3A%20new%20L.Icon.Default%28%29%2C%0A%20%20%20%20%20%20%20%20%20%20%20%20%20%20%20%20%7D%0A%20%20%20%20%20%20%20%20%20%20%20%20%29.addTo%28map_4d2cb16d160a4b8b98b6246231075538%29%3B%0A%20%20%20%20%20%20%20%20%0A%20%20%20%20%0A%20%20%20%20%20%20%20%20%20%20%20%20var%20popup_13b7021ed8e146aa99d6dc931e25b630%20%3D%20L.popup%28%7BmaxWidth%3A%20%27100%25%27%0A%20%20%20%20%20%20%20%20%20%20%20%20%0A%20%20%20%20%20%20%20%20%20%20%20%20%7D%29%3B%0A%0A%20%20%20%20%20%20%20%20%20%20%20%20%0A%20%20%20%20%20%20%20%20%20%20%20%20%20%20%20%20var%20html_574b817534fd46d2a4d0e753fdf1af96%20%3D%20%24%28%60%3Cdiv%20id%3D%22html_574b817534fd46d2a4d0e753fdf1af96%22%20style%3D%22width%3A%20100.0%25%3B%20height%3A%20100.0%25%3B%22%3ECARDOZO%20GUZM%C3%81N%20LUNA%3C/div%3E%60%29%5B0%5D%3B%0A%20%20%20%20%20%20%20%20%20%20%20%20%20%20%20%20popup_13b7021ed8e146aa99d6dc931e25b630.setContent%28html_574b817534fd46d2a4d0e753fdf1af96%29%3B%0A%20%20%20%20%20%20%20%20%20%20%20%20%0A%0A%20%20%20%20%20%20%20%20%20%20%20%20marker_bb4b687058564971ab0626be944e3e50.bindPopup%28popup_13b7021ed8e146aa99d6dc931e25b630%29%0A%20%20%20%20%20%20%20%20%20%20%20%20%3B%0A%0A%20%20%20%20%20%20%20%20%20%20%20%20%0A%20%20%20%20%20%20%20%20%0A%20%20%20%20%0A%20%20%20%20%20%20%20%20var%20marker_5df9ba8a320443ca8b30e2e98e5dd14d%20%3D%20L.marker%28%0A%20%20%20%20%20%20%20%20%20%20%20%20%5B4.7220662%2C%20-74.11650809999999%5D%2C%0A%20%20%20%20%20%20%20%20%20%20%20%20%7B%0A%20%20%20%20%20%20%20%20%20%20%20%20%20%20%20%20icon%3A%20new%20L.Icon.Default%28%29%2C%0A%20%20%20%20%20%20%20%20%20%20%20%20%20%20%20%20%7D%0A%20%20%20%20%20%20%20%20%20%20%20%20%29.addTo%28map_4d2cb16d160a4b8b98b6246231075538%29%3B%0A%20%20%20%20%20%20%20%20%0A%20%20%20%20%0A%20%20%20%20%20%20%20%20%20%20%20%20var%20popup_33a98c27b3074e6e87904b18cfd34501%20%3D%20L.popup%28%7BmaxWidth%3A%20%27100%25%27%0A%20%20%20%20%20%20%20%20%20%20%20%20%0A%20%20%20%20%20%20%20%20%20%20%20%20%7D%29%3B%0A%0A%20%20%20%20%20%20%20%20%20%20%20%20%0A%20%20%20%20%20%20%20%20%20%20%20%20%20%20%20%20var%20html_bb6139fe6f9c44cbb67e1d95e1484dd3%20%3D%20%24%28%60%3Cdiv%20id%3D%22html_bb6139fe6f9c44cbb67e1d95e1484dd3%22%20style%3D%22width%3A%20100.0%25%3B%20height%3A%20100.0%25%3B%22%3ETUSSO%20MONTOYA%20SAMUEL%3C/div%3E%60%29%5B0%5D%3B%0A%20%20%20%20%20%20%20%20%20%20%20%20%20%20%20%20popup_33a98c27b3074e6e87904b18cfd34501.setContent%28html_bb6139fe6f9c44cbb67e1d95e1484dd3%29%3B%0A%20%20%20%20%20%20%20%20%20%20%20%20%0A%0A%20%20%20%20%20%20%20%20%20%20%20%20marker_5df9ba8a320443ca8b30e2e98e5dd14d.bindPopup%28popup_33a98c27b3074e6e87904b18cfd34501%29%0A%20%20%20%20%20%20%20%20%20%20%20%20%3B%0A%0A%20%20%20%20%20%20%20%20%20%20%20%20%0A%20%20%20%20%20%20%20%20%0A%20%20%20%20%0A%20%20%20%20%20%20%20%20var%20marker_23d4a9f0ab004a219b4cc74dfb307217%20%3D%20L.marker%28%0A%20%20%20%20%20%20%20%20%20%20%20%20%5B4.7220662%2C%20-74.11650809999999%5D%2C%0A%20%20%20%20%20%20%20%20%20%20%20%20%7B%0A%20%20%20%20%20%20%20%20%20%20%20%20%20%20%20%20icon%3A%20new%20L.Icon.Default%28%29%2C%0A%20%20%20%20%20%20%20%20%20%20%20%20%20%20%20%20%7D%0A%20%20%20%20%20%20%20%20%20%20%20%20%29.addTo%28map_4d2cb16d160a4b8b98b6246231075538%29%3B%0A%20%20%20%20%20%20%20%20%0A%20%20%20%20%0A%20%20%20%20%20%20%20%20%20%20%20%20var%20popup_53df4f1d917b4dda946d35a88a4d9a7c%20%3D%20L.popup%28%7BmaxWidth%3A%20%27100%25%27%0A%20%20%20%20%20%20%20%20%20%20%20%20%0A%20%20%20%20%20%20%20%20%20%20%20%20%7D%29%3B%0A%0A%20%20%20%20%20%20%20%20%20%20%20%20%0A%20%20%20%20%20%20%20%20%20%20%20%20%20%20%20%20var%20html_4ef2e28cc1a946778a9ec63aa0661c31%20%3D%20%24%28%60%3Cdiv%20id%3D%22html_4ef2e28cc1a946778a9ec63aa0661c31%22%20style%3D%22width%3A%20100.0%25%3B%20height%3A%20100.0%25%3B%22%3EFARFAN%20PORRAS%20JUAN%20ESTEBAN%3C/div%3E%60%29%5B0%5D%3B%0A%20%20%20%20%20%20%20%20%20%20%20%20%20%20%20%20popup_53df4f1d917b4dda946d35a88a4d9a7c.setContent%28html_4ef2e28cc1a946778a9ec63aa0661c31%29%3B%0A%20%20%20%20%20%20%20%20%20%20%20%20%0A%0A%20%20%20%20%20%20%20%20%20%20%20%20marker_23d4a9f0ab004a219b4cc74dfb307217.bindPopup%28popup_53df4f1d917b4dda946d35a88a4d9a7c%29%0A%20%20%20%20%20%20%20%20%20%20%20%20%3B%0A%0A%20%20%20%20%20%20%20%20%20%20%20%20%0A%20%20%20%20%20%20%20%20%0A%20%20%20%20%0A%20%20%20%20%20%20%20%20var%20marker_1d8b7fc7edf44534a7802cbee9684ac6%20%3D%20L.marker%28%0A%20%20%20%20%20%20%20%20%20%20%20%20%5B4.7220662%2C%20-74.11650809999999%5D%2C%0A%20%20%20%20%20%20%20%20%20%20%20%20%7B%0A%20%20%20%20%20%20%20%20%20%20%20%20%20%20%20%20icon%3A%20new%20L.Icon.Default%28%29%2C%0A%20%20%20%20%20%20%20%20%20%20%20%20%20%20%20%20%7D%0A%20%20%20%20%20%20%20%20%20%20%20%20%29.addTo%28map_4d2cb16d160a4b8b98b6246231075538%29%3B%0A%20%20%20%20%20%20%20%20%0A%20%20%20%20%0A%20%20%20%20%20%20%20%20%20%20%20%20var%20popup_3ebf52f8e7654d1ea90f9b911b079576%20%3D%20L.popup%28%7BmaxWidth%3A%20%27100%25%27%0A%20%20%20%20%20%20%20%20%20%20%20%20%0A%20%20%20%20%20%20%20%20%20%20%20%20%7D%29%3B%0A%0A%20%20%20%20%20%20%20%20%20%20%20%20%0A%20%20%20%20%20%20%20%20%20%20%20%20%20%20%20%20var%20html_e281df685d27475eb32b440f84aff1c4%20%3D%20%24%28%60%3Cdiv%20id%3D%22html_e281df685d27475eb32b440f84aff1c4%22%20style%3D%22width%3A%20100.0%25%3B%20height%3A%20100.0%25%3B%22%3EVARGAS%20TORRES%20SANTIAGO%3C/div%3E%60%29%5B0%5D%3B%0A%20%20%20%20%20%20%20%20%20%20%20%20%20%20%20%20popup_3ebf52f8e7654d1ea90f9b911b079576.setContent%28html_e281df685d27475eb32b440f84aff1c4%29%3B%0A%20%20%20%20%20%20%20%20%20%20%20%20%0A%0A%20%20%20%20%20%20%20%20%20%20%20%20marker_1d8b7fc7edf44534a7802cbee9684ac6.bindPopup%28popup_3ebf52f8e7654d1ea90f9b911b079576%29%0A%20%20%20%20%20%20%20%20%20%20%20%20%3B%0A%0A%20%20%20%20%20%20%20%20%20%20%20%20%0A%20%20%20%20%20%20%20%20%0A%20%20%20%20%0A%20%20%20%20%20%20%20%20var%20marker_d0a290ca39ed47c0a44c46dabc4ff57a%20%3D%20L.marker%28%0A%20%20%20%20%20%20%20%20%20%20%20%20%5B4.7220662%2C%20-74.11650809999999%5D%2C%0A%20%20%20%20%20%20%20%20%20%20%20%20%7B%0A%20%20%20%20%20%20%20%20%20%20%20%20%20%20%20%20icon%3A%20new%20L.Icon.Default%28%29%2C%0A%20%20%20%20%20%20%20%20%20%20%20%20%20%20%20%20%7D%0A%20%20%20%20%20%20%20%20%20%20%20%20%29.addTo%28map_4d2cb16d160a4b8b98b6246231075538%29%3B%0A%20%20%20%20%20%20%20%20%0A%20%20%20%20%0A%20%20%20%20%20%20%20%20%20%20%20%20var%20popup_60d11766ab0646dd9a11152f25cde691%20%3D%20L.popup%28%7BmaxWidth%3A%20%27100%25%27%0A%20%20%20%20%20%20%20%20%20%20%20%20%0A%20%20%20%20%20%20%20%20%20%20%20%20%7D%29%3B%0A%0A%20%20%20%20%20%20%20%20%20%20%20%20%0A%20%20%20%20%20%20%20%20%20%20%20%20%20%20%20%20var%20html_2ef58af4b84241bc8c8b326140954483%20%3D%20%24%28%60%3Cdiv%20id%3D%22html_2ef58af4b84241bc8c8b326140954483%22%20style%3D%22width%3A%20100.0%25%3B%20height%3A%20100.0%25%3B%22%3ETUSSO%20MONTOYA%20ALEJANDRA%3C/div%3E%60%29%5B0%5D%3B%0A%20%20%20%20%20%20%20%20%20%20%20%20%20%20%20%20popup_60d11766ab0646dd9a11152f25cde691.setContent%28html_2ef58af4b84241bc8c8b326140954483%29%3B%0A%20%20%20%20%20%20%20%20%20%20%20%20%0A%0A%20%20%20%20%20%20%20%20%20%20%20%20marker_d0a290ca39ed47c0a44c46dabc4ff57a.bindPopup%28popup_60d11766ab0646dd9a11152f25cde691%29%0A%20%20%20%20%20%20%20%20%20%20%20%20%3B%0A%0A%20%20%20%20%20%20%20%20%20%20%20%20%0A%20%20%20%20%20%20%20%20%0A%20%20%20%20%0A%20%20%20%20%20%20%20%20var%20marker_00bfabed74314e059f0510e487532102%20%3D%20L.marker%28%0A%20%20%20%20%20%20%20%20%20%20%20%20%5B4.7184949%2C%20-74.1162519%5D%2C%0A%20%20%20%20%20%20%20%20%20%20%20%20%7B%0A%20%20%20%20%20%20%20%20%20%20%20%20%20%20%20%20icon%3A%20new%20L.Icon.Default%28%29%2C%0A%20%20%20%20%20%20%20%20%20%20%20%20%20%20%20%20%7D%0A%20%20%20%20%20%20%20%20%20%20%20%20%29.addTo%28map_4d2cb16d160a4b8b98b6246231075538%29%3B%0A%20%20%20%20%20%20%20%20%0A%20%20%20%20%0A%20%20%20%20%20%20%20%20%20%20%20%20var%20popup_df1955e05f5846c9bd530023889bfc26%20%3D%20L.popup%28%7BmaxWidth%3A%20%27100%25%27%0A%20%20%20%20%20%20%20%20%20%20%20%20%0A%20%20%20%20%20%20%20%20%20%20%20%20%7D%29%3B%0A%0A%20%20%20%20%20%20%20%20%20%20%20%20%0A%20%20%20%20%20%20%20%20%20%20%20%20%20%20%20%20var%20html_e959e9dd29054213b3e296cf4037f8b0%20%3D%20%24%28%60%3Cdiv%20id%3D%22html_e959e9dd29054213b3e296cf4037f8b0%22%20style%3D%22width%3A%20100.0%25%3B%20height%3A%20100.0%25%3B%22%3ECRUZ%20VARON%20NATHALIA%3C/div%3E%60%29%5B0%5D%3B%0A%20%20%20%20%20%20%20%20%20%20%20%20%20%20%20%20popup_df1955e05f5846c9bd530023889bfc26.setContent%28html_e959e9dd29054213b3e296cf4037f8b0%29%3B%0A%20%20%20%20%20%20%20%20%20%20%20%20%0A%0A%20%20%20%20%20%20%20%20%20%20%20%20marker_00bfabed74314e059f0510e487532102.bindPopup%28popup_df1955e05f5846c9bd530023889bfc26%29%0A%20%20%20%20%20%20%20%20%20%20%20%20%3B%0A%0A%20%20%20%20%20%20%20%20%20%20%20%20%0A%20%20%20%20%20%20%20%20%0A%20%20%20%20%0A%20%20%20%20%20%20%20%20var%20marker_15c144bcf3f44d3db0637a7dc345e57e%20%3D%20L.marker%28%0A%20%20%20%20%20%20%20%20%20%20%20%20%5B4.7226573%2C%20-74.1188679%5D%2C%0A%20%20%20%20%20%20%20%20%20%20%20%20%7B%0A%20%20%20%20%20%20%20%20%20%20%20%20%20%20%20%20icon%3A%20new%20L.Icon.Default%28%29%2C%0A%20%20%20%20%20%20%20%20%20%20%20%20%20%20%20%20%7D%0A%20%20%20%20%20%20%20%20%20%20%20%20%29.addTo%28map_4d2cb16d160a4b8b98b6246231075538%29%3B%0A%20%20%20%20%20%20%20%20%0A%20%20%20%20%0A%20%20%20%20%20%20%20%20%20%20%20%20var%20popup_778c906c387046f3a30e51c8864299a9%20%3D%20L.popup%28%7BmaxWidth%3A%20%27100%25%27%0A%20%20%20%20%20%20%20%20%20%20%20%20%0A%20%20%20%20%20%20%20%20%20%20%20%20%7D%29%3B%0A%0A%20%20%20%20%20%20%20%20%20%20%20%20%0A%20%20%20%20%20%20%20%20%20%20%20%20%20%20%20%20var%20html_eb9c37bfcb4440b1a7e0eaac97ecb73e%20%3D%20%24%28%60%3Cdiv%20id%3D%22html_eb9c37bfcb4440b1a7e0eaac97ecb73e%22%20style%3D%22width%3A%20100.0%25%3B%20height%3A%20100.0%25%3B%22%3EGOMEZ%20BELTRAN%20JUAN%20ANGEL%3C/div%3E%60%29%5B0%5D%3B%0A%20%20%20%20%20%20%20%20%20%20%20%20%20%20%20%20popup_778c906c387046f3a30e51c8864299a9.setContent%28html_eb9c37bfcb4440b1a7e0eaac97ecb73e%29%3B%0A%20%20%20%20%20%20%20%20%20%20%20%20%0A%0A%20%20%20%20%20%20%20%20%20%20%20%20marker_15c144bcf3f44d3db0637a7dc345e57e.bindPopup%28popup_778c906c387046f3a30e51c8864299a9%29%0A%20%20%20%20%20%20%20%20%20%20%20%20%3B%0A%0A%20%20%20%20%20%20%20%20%20%20%20%20%0A%20%20%20%20%20%20%20%20%0A%20%20%20%20%0A%20%20%20%20%20%20%20%20var%20marker_e149d4fb894b4ac2932f15f96fa30aef%20%3D%20L.marker%28%0A%20%20%20%20%20%20%20%20%20%20%20%20%5B4.7174042%2C%20-74.107491%5D%2C%0A%20%20%20%20%20%20%20%20%20%20%20%20%7B%0A%20%20%20%20%20%20%20%20%20%20%20%20%20%20%20%20icon%3A%20new%20L.Icon.Default%28%29%2C%0A%20%20%20%20%20%20%20%20%20%20%20%20%20%20%20%20%7D%0A%20%20%20%20%20%20%20%20%20%20%20%20%29.addTo%28map_4d2cb16d160a4b8b98b6246231075538%29%3B%0A%20%20%20%20%20%20%20%20%0A%20%20%20%20%0A%20%20%20%20%20%20%20%20%20%20%20%20var%20popup_4fde4b5759de4c55906ac80dfc649850%20%3D%20L.popup%28%7BmaxWidth%3A%20%27100%25%27%0A%20%20%20%20%20%20%20%20%20%20%20%20%0A%20%20%20%20%20%20%20%20%20%20%20%20%7D%29%3B%0A%0A%20%20%20%20%20%20%20%20%20%20%20%20%0A%20%20%20%20%20%20%20%20%20%20%20%20%20%20%20%20var%20html_5c1e2ff0a10d44fa82d93ab1ed045602%20%3D%20%24%28%60%3Cdiv%20id%3D%22html_5c1e2ff0a10d44fa82d93ab1ed045602%22%20style%3D%22width%3A%20100.0%25%3B%20height%3A%20100.0%25%3B%22%3EBECERRA%20MARTINEZ%20DANA%20SOFIA%3C/div%3E%60%29%5B0%5D%3B%0A%20%20%20%20%20%20%20%20%20%20%20%20%20%20%20%20popup_4fde4b5759de4c55906ac80dfc649850.setContent%28html_5c1e2ff0a10d44fa82d93ab1ed045602%29%3B%0A%20%20%20%20%20%20%20%20%20%20%20%20%0A%0A%20%20%20%20%20%20%20%20%20%20%20%20marker_e149d4fb894b4ac2932f15f96fa30aef.bindPopup%28popup_4fde4b5759de4c55906ac80dfc649850%29%0A%20%20%20%20%20%20%20%20%20%20%20%20%3B%0A%0A%20%20%20%20%20%20%20%20%20%20%20%20%0A%20%20%20%20%20%20%20%20%0A%20%20%20%20%0A%20%20%20%20%20%20%20%20var%20marker_1aee9b7ad4f6471aab78221b1f1d66fd%20%3D%20L.marker%28%0A%20%20%20%20%20%20%20%20%20%20%20%20%5B4.7223446%2C%20-74.1190754%5D%2C%0A%20%20%20%20%20%20%20%20%20%20%20%20%7B%0A%20%20%20%20%20%20%20%20%20%20%20%20%20%20%20%20icon%3A%20new%20L.Icon.Default%28%29%2C%0A%20%20%20%20%20%20%20%20%20%20%20%20%20%20%20%20%7D%0A%20%20%20%20%20%20%20%20%20%20%20%20%29.addTo%28map_4d2cb16d160a4b8b98b6246231075538%29%3B%0A%20%20%20%20%20%20%20%20%0A%20%20%20%20%0A%20%20%20%20%20%20%20%20%20%20%20%20var%20popup_9320c5e4effd4b58a254c4ce11deb38a%20%3D%20L.popup%28%7BmaxWidth%3A%20%27100%25%27%0A%20%20%20%20%20%20%20%20%20%20%20%20%0A%20%20%20%20%20%20%20%20%20%20%20%20%7D%29%3B%0A%0A%20%20%20%20%20%20%20%20%20%20%20%20%0A%20%20%20%20%20%20%20%20%20%20%20%20%20%20%20%20var%20html_462a39c46f7a497fb251cd338a60b594%20%3D%20%24%28%60%3Cdiv%20id%3D%22html_462a39c46f7a497fb251cd338a60b594%22%20style%3D%22width%3A%20100.0%25%3B%20height%3A%20100.0%25%3B%22%3ECEPEDA%20VARGAS%20VALENTINA%3C/div%3E%60%29%5B0%5D%3B%0A%20%20%20%20%20%20%20%20%20%20%20%20%20%20%20%20popup_9320c5e4effd4b58a254c4ce11deb38a.setContent%28html_462a39c46f7a497fb251cd338a60b594%29%3B%0A%20%20%20%20%20%20%20%20%20%20%20%20%0A%0A%20%20%20%20%20%20%20%20%20%20%20%20marker_1aee9b7ad4f6471aab78221b1f1d66fd.bindPopup%28popup_9320c5e4effd4b58a254c4ce11deb38a%29%0A%20%20%20%20%20%20%20%20%20%20%20%20%3B%0A%0A%20%20%20%20%20%20%20%20%20%20%20%20%0A%20%20%20%20%20%20%20%20%0A%20%20%20%20%0A%20%20%20%20%20%20%20%20var%20marker_adb999b8b57a4c99950406265e8f1bc6%20%3D%20L.marker%28%0A%20%20%20%20%20%20%20%20%20%20%20%20%5B4.7229529%2C%20-74.109515%5D%2C%0A%20%20%20%20%20%20%20%20%20%20%20%20%7B%0A%20%20%20%20%20%20%20%20%20%20%20%20%20%20%20%20icon%3A%20new%20L.Icon.Default%28%29%2C%0A%20%20%20%20%20%20%20%20%20%20%20%20%20%20%20%20%7D%0A%20%20%20%20%20%20%20%20%20%20%20%20%29.addTo%28map_4d2cb16d160a4b8b98b6246231075538%29%3B%0A%20%20%20%20%20%20%20%20%0A%20%20%20%20%0A%20%20%20%20%20%20%20%20%20%20%20%20var%20popup_9156a3610e0c467a80b2c375d79ef849%20%3D%20L.popup%28%7BmaxWidth%3A%20%27100%25%27%0A%20%20%20%20%20%20%20%20%20%20%20%20%0A%20%20%20%20%20%20%20%20%20%20%20%20%7D%29%3B%0A%0A%20%20%20%20%20%20%20%20%20%20%20%20%0A%20%20%20%20%20%20%20%20%20%20%20%20%20%20%20%20var%20html_6c3edac2035e4a5691180cdb7bbc592f%20%3D%20%24%28%60%3Cdiv%20id%3D%22html_6c3edac2035e4a5691180cdb7bbc592f%22%20style%3D%22width%3A%20100.0%25%3B%20height%3A%20100.0%25%3B%22%3EGOMEZ%20ROJAS%20DANNA%20VALENTINA%3C/div%3E%60%29%5B0%5D%3B%0A%20%20%20%20%20%20%20%20%20%20%20%20%20%20%20%20popup_9156a3610e0c467a80b2c375d79ef849.setContent%28html_6c3edac2035e4a5691180cdb7bbc592f%29%3B%0A%20%20%20%20%20%20%20%20%20%20%20%20%0A%0A%20%20%20%20%20%20%20%20%20%20%20%20marker_adb999b8b57a4c99950406265e8f1bc6.bindPopup%28popup_9156a3610e0c467a80b2c375d79ef849%29%0A%20%20%20%20%20%20%20%20%20%20%20%20%3B%0A%0A%20%20%20%20%20%20%20%20%20%20%20%20%0A%20%20%20%20%20%20%20%20%0A%20%20%20%20%0A%20%20%20%20%20%20%20%20var%20marker_e39006594d9e4e5a8d904d0e9fa26977%20%3D%20L.marker%28%0A%20%20%20%20%20%20%20%20%20%20%20%20%5B4.7229529%2C%20-74.109515%5D%2C%0A%20%20%20%20%20%20%20%20%20%20%20%20%7B%0A%20%20%20%20%20%20%20%20%20%20%20%20%20%20%20%20icon%3A%20new%20L.Icon.Default%28%29%2C%0A%20%20%20%20%20%20%20%20%20%20%20%20%20%20%20%20%7D%0A%20%20%20%20%20%20%20%20%20%20%20%20%29.addTo%28map_4d2cb16d160a4b8b98b6246231075538%29%3B%0A%20%20%20%20%20%20%20%20%0A%20%20%20%20%0A%20%20%20%20%20%20%20%20%20%20%20%20var%20popup_5f8f79b32258426cb73e774d6076134b%20%3D%20L.popup%28%7BmaxWidth%3A%20%27100%25%27%0A%20%20%20%20%20%20%20%20%20%20%20%20%0A%20%20%20%20%20%20%20%20%20%20%20%20%7D%29%3B%0A%0A%20%20%20%20%20%20%20%20%20%20%20%20%0A%20%20%20%20%20%20%20%20%20%20%20%20%20%20%20%20var%20html_e8ea3476d89d4838a5ce3db8841c43af%20%3D%20%24%28%60%3Cdiv%20id%3D%22html_e8ea3476d89d4838a5ce3db8841c43af%22%20style%3D%22width%3A%20100.0%25%3B%20height%3A%20100.0%25%3B%22%3EGOMEZ%20ROJAS%20TOMAS%20ESTEBAN%3C/div%3E%60%29%5B0%5D%3B%0A%20%20%20%20%20%20%20%20%20%20%20%20%20%20%20%20popup_5f8f79b32258426cb73e774d6076134b.setContent%28html_e8ea3476d89d4838a5ce3db8841c43af%29%3B%0A%20%20%20%20%20%20%20%20%20%20%20%20%0A%0A%20%20%20%20%20%20%20%20%20%20%20%20marker_e39006594d9e4e5a8d904d0e9fa26977.bindPopup%28popup_5f8f79b32258426cb73e774d6076134b%29%0A%20%20%20%20%20%20%20%20%20%20%20%20%3B%0A%0A%20%20%20%20%20%20%20%20%20%20%20%20%0A%20%20%20%20%20%20%20%20%0A%20%20%20%20%0A%20%20%20%20%20%20%20%20var%20marker_4ec4501cefe748b7855dd654597e7997%20%3D%20L.marker%28%0A%20%20%20%20%20%20%20%20%20%20%20%20%5B4.7184949%2C%20-74.1162519%5D%2C%0A%20%20%20%20%20%20%20%20%20%20%20%20%7B%0A%20%20%20%20%20%20%20%20%20%20%20%20%20%20%20%20icon%3A%20new%20L.Icon.Default%28%29%2C%0A%20%20%20%20%20%20%20%20%20%20%20%20%20%20%20%20%7D%0A%20%20%20%20%20%20%20%20%20%20%20%20%29.addTo%28map_4d2cb16d160a4b8b98b6246231075538%29%3B%0A%20%20%20%20%20%20%20%20%0A%20%20%20%20%0A%20%20%20%20%20%20%20%20%20%20%20%20var%20popup_29bc772341bb499c92ea1f92d7a8066d%20%3D%20L.popup%28%7BmaxWidth%3A%20%27100%25%27%0A%20%20%20%20%20%20%20%20%20%20%20%20%0A%20%20%20%20%20%20%20%20%20%20%20%20%7D%29%3B%0A%0A%20%20%20%20%20%20%20%20%20%20%20%20%0A%20%20%20%20%20%20%20%20%20%20%20%20%20%20%20%20var%20html_71da61c8f95e4f80a807a292dde4b2be%20%3D%20%24%28%60%3Cdiv%20id%3D%22html_71da61c8f95e4f80a807a292dde4b2be%22%20style%3D%22width%3A%20100.0%25%3B%20height%3A%20100.0%25%3B%22%3EPULIDO%20ORTEGA%20JORGE%20ANDRES%3C/div%3E%60%29%5B0%5D%3B%0A%20%20%20%20%20%20%20%20%20%20%20%20%20%20%20%20popup_29bc772341bb499c92ea1f92d7a8066d.setContent%28html_71da61c8f95e4f80a807a292dde4b2be%29%3B%0A%20%20%20%20%20%20%20%20%20%20%20%20%0A%0A%20%20%20%20%20%20%20%20%20%20%20%20marker_4ec4501cefe748b7855dd654597e7997.bindPopup%28popup_29bc772341bb499c92ea1f92d7a8066d%29%0A%20%20%20%20%20%20%20%20%20%20%20%20%3B%0A%0A%20%20%20%20%20%20%20%20%20%20%20%20%0A%20%20%20%20%20%20%20%20%0A%20%20%20%20%0A%20%20%20%20%20%20%20%20var%20marker_4ebab2b891e746b2886a8ff42c64171a%20%3D%20L.marker%28%0A%20%20%20%20%20%20%20%20%20%20%20%20%5B4.720267799999999%2C%20-74.1183595%5D%2C%0A%20%20%20%20%20%20%20%20%20%20%20%20%7B%0A%20%20%20%20%20%20%20%20%20%20%20%20%20%20%20%20icon%3A%20new%20L.Icon.Default%28%29%2C%0A%20%20%20%20%20%20%20%20%20%20%20%20%20%20%20%20%7D%0A%20%20%20%20%20%20%20%20%20%20%20%20%29.addTo%28map_4d2cb16d160a4b8b98b6246231075538%29%3B%0A%20%20%20%20%20%20%20%20%0A%20%20%20%20%0A%20%20%20%20%20%20%20%20%20%20%20%20var%20popup_a25ee52e660f4e4892d95c14f535da73%20%3D%20L.popup%28%7BmaxWidth%3A%20%27100%25%27%0A%20%20%20%20%20%20%20%20%20%20%20%20%0A%20%20%20%20%20%20%20%20%20%20%20%20%7D%29%3B%0A%0A%20%20%20%20%20%20%20%20%20%20%20%20%0A%20%20%20%20%20%20%20%20%20%20%20%20%20%20%20%20var%20html_c31d82e84c4142ffb90dcb9174a9815e%20%3D%20%24%28%60%3Cdiv%20id%3D%22html_c31d82e84c4142ffb90dcb9174a9815e%22%20style%3D%22width%3A%20100.0%25%3B%20height%3A%20100.0%25%3B%22%3EARCE%20GARCIA%20SARAH%20SOPHIA%20%3C/div%3E%60%29%5B0%5D%3B%0A%20%20%20%20%20%20%20%20%20%20%20%20%20%20%20%20popup_a25ee52e660f4e4892d95c14f535da73.setContent%28html_c31d82e84c4142ffb90dcb9174a9815e%29%3B%0A%20%20%20%20%20%20%20%20%20%20%20%20%0A%0A%20%20%20%20%20%20%20%20%20%20%20%20marker_4ebab2b891e746b2886a8ff42c64171a.bindPopup%28popup_a25ee52e660f4e4892d95c14f535da73%29%0A%20%20%20%20%20%20%20%20%20%20%20%20%3B%0A%0A%20%20%20%20%20%20%20%20%20%20%20%20%0A%20%20%20%20%20%20%20%20%0A%20%20%20%20%0A%20%20%20%20%20%20%20%20var%20marker_217f7a94b76146c2a552f43d72360da7%20%3D%20L.marker%28%0A%20%20%20%20%20%20%20%20%20%20%20%20%5B4.7223446%2C%20-74.1190754%5D%2C%0A%20%20%20%20%20%20%20%20%20%20%20%20%7B%0A%20%20%20%20%20%20%20%20%20%20%20%20%20%20%20%20icon%3A%20new%20L.Icon.Default%28%29%2C%0A%20%20%20%20%20%20%20%20%20%20%20%20%20%20%20%20%7D%0A%20%20%20%20%20%20%20%20%20%20%20%20%29.addTo%28map_4d2cb16d160a4b8b98b6246231075538%29%3B%0A%20%20%20%20%20%20%20%20%0A%20%20%20%20%0A%20%20%20%20%20%20%20%20%20%20%20%20var%20popup_cf0ecdc864c24fc28c230abc1648669c%20%3D%20L.popup%28%7BmaxWidth%3A%20%27100%25%27%0A%20%20%20%20%20%20%20%20%20%20%20%20%0A%20%20%20%20%20%20%20%20%20%20%20%20%7D%29%3B%0A%0A%20%20%20%20%20%20%20%20%20%20%20%20%0A%20%20%20%20%20%20%20%20%20%20%20%20%20%20%20%20var%20html_49105e429e6245d09a208cbc13523569%20%3D%20%24%28%60%3Cdiv%20id%3D%22html_49105e429e6245d09a208cbc13523569%22%20style%3D%22width%3A%20100.0%25%3B%20height%3A%20100.0%25%3B%22%3ECEPEDA%20VARGAS%20CHRISTIAN%20DAVID%3C/div%3E%60%29%5B0%5D%3B%0A%20%20%20%20%20%20%20%20%20%20%20%20%20%20%20%20popup_cf0ecdc864c24fc28c230abc1648669c.setContent%28html_49105e429e6245d09a208cbc13523569%29%3B%0A%20%20%20%20%20%20%20%20%20%20%20%20%0A%0A%20%20%20%20%20%20%20%20%20%20%20%20marker_217f7a94b76146c2a552f43d72360da7.bindPopup%28popup_cf0ecdc864c24fc28c230abc1648669c%29%0A%20%20%20%20%20%20%20%20%20%20%20%20%3B%0A%0A%20%20%20%20%20%20%20%20%20%20%20%20%0A%20%20%20%20%20%20%20%20%0A%20%20%20%20%0A%20%20%20%20%20%20%20%20var%20marker_0a19242b6b5b46568a00c23aa5d1469b%20%3D%20L.marker%28%0A%20%20%20%20%20%20%20%20%20%20%20%20%5B4.7184949%2C%20-74.1162519%5D%2C%0A%20%20%20%20%20%20%20%20%20%20%20%20%7B%0A%20%20%20%20%20%20%20%20%20%20%20%20%20%20%20%20icon%3A%20new%20L.Icon.Default%28%29%2C%0A%20%20%20%20%20%20%20%20%20%20%20%20%20%20%20%20%7D%0A%20%20%20%20%20%20%20%20%20%20%20%20%29.addTo%28map_4d2cb16d160a4b8b98b6246231075538%29%3B%0A%20%20%20%20%20%20%20%20%0A%20%20%20%20%0A%20%20%20%20%20%20%20%20%20%20%20%20var%20popup_29107679b4f24be2bc6b80a8c3e3e657%20%3D%20L.popup%28%7BmaxWidth%3A%20%27100%25%27%0A%20%20%20%20%20%20%20%20%20%20%20%20%0A%20%20%20%20%20%20%20%20%20%20%20%20%7D%29%3B%0A%0A%20%20%20%20%20%20%20%20%20%20%20%20%0A%20%20%20%20%20%20%20%20%20%20%20%20%20%20%20%20var%20html_c73ddb53e51b4f46a96639965ede926b%20%3D%20%24%28%60%3Cdiv%20id%3D%22html_c73ddb53e51b4f46a96639965ede926b%22%20style%3D%22width%3A%20100.0%25%3B%20height%3A%20100.0%25%3B%22%3EPULIDO%20ORTEGA%20ANA%20ISABELA%3C/div%3E%60%29%5B0%5D%3B%0A%20%20%20%20%20%20%20%20%20%20%20%20%20%20%20%20popup_29107679b4f24be2bc6b80a8c3e3e657.setContent%28html_c73ddb53e51b4f46a96639965ede926b%29%3B%0A%20%20%20%20%20%20%20%20%20%20%20%20%0A%0A%20%20%20%20%20%20%20%20%20%20%20%20marker_0a19242b6b5b46568a00c23aa5d1469b.bindPopup%28popup_29107679b4f24be2bc6b80a8c3e3e657%29%0A%20%20%20%20%20%20%20%20%20%20%20%20%3B%0A%0A%20%20%20%20%20%20%20%20%20%20%20%20%0A%20%20%20%20%20%20%20%20%0A%20%20%20%20%0A%20%20%20%20%20%20%20%20var%20marker_7a2523fd8d0544d899a80e7c242c4b85%20%3D%20L.marker%28%0A%20%20%20%20%20%20%20%20%20%20%20%20%5B4.7226573%2C%20-74.1188679%5D%2C%0A%20%20%20%20%20%20%20%20%20%20%20%20%7B%0A%20%20%20%20%20%20%20%20%20%20%20%20%20%20%20%20icon%3A%20new%20L.Icon.Default%28%29%2C%0A%20%20%20%20%20%20%20%20%20%20%20%20%20%20%20%20%7D%0A%20%20%20%20%20%20%20%20%20%20%20%20%29.addTo%28map_4d2cb16d160a4b8b98b6246231075538%29%3B%0A%20%20%20%20%20%20%20%20%0A%20%20%20%20%0A%20%20%20%20%20%20%20%20%20%20%20%20var%20popup_aba7d540df3f44deb560ae1e377f341a%20%3D%20L.popup%28%7BmaxWidth%3A%20%27100%25%27%0A%20%20%20%20%20%20%20%20%20%20%20%20%0A%20%20%20%20%20%20%20%20%20%20%20%20%7D%29%3B%0A%0A%20%20%20%20%20%20%20%20%20%20%20%20%0A%20%20%20%20%20%20%20%20%20%20%20%20%20%20%20%20var%20html_637bdf0addc443679ae11366f0cda815%20%3D%20%24%28%60%3Cdiv%20id%3D%22html_637bdf0addc443679ae11366f0cda815%22%20style%3D%22width%3A%20100.0%25%3B%20height%3A%20100.0%25%3B%22%3EVARGAS%20ORTIZ%20VALENTINA%3C/div%3E%60%29%5B0%5D%3B%0A%20%20%20%20%20%20%20%20%20%20%20%20%20%20%20%20popup_aba7d540df3f44deb560ae1e377f341a.setContent%28html_637bdf0addc443679ae11366f0cda815%29%3B%0A%20%20%20%20%20%20%20%20%20%20%20%20%0A%0A%20%20%20%20%20%20%20%20%20%20%20%20marker_7a2523fd8d0544d899a80e7c242c4b85.bindPopup%28popup_aba7d540df3f44deb560ae1e377f341a%29%0A%20%20%20%20%20%20%20%20%20%20%20%20%3B%0A%0A%20%20%20%20%20%20%20%20%20%20%20%20%0A%20%20%20%20%20%20%20%20%0A%20%20%20%20%0A%20%20%20%20%20%20%20%20var%20marker_ef73ced4c1384cfa8495fa74c73fef5b%20%3D%20L.marker%28%0A%20%20%20%20%20%20%20%20%20%20%20%20%5B4.7211937%2C%20-74.1172292%5D%2C%0A%20%20%20%20%20%20%20%20%20%20%20%20%7B%0A%20%20%20%20%20%20%20%20%20%20%20%20%20%20%20%20icon%3A%20new%20L.Icon.Default%28%29%2C%0A%20%20%20%20%20%20%20%20%20%20%20%20%20%20%20%20%7D%0A%20%20%20%20%20%20%20%20%20%20%20%20%29.addTo%28map_4d2cb16d160a4b8b98b6246231075538%29%3B%0A%20%20%20%20%20%20%20%20%0A%20%20%20%20%0A%20%20%20%20%20%20%20%20%20%20%20%20var%20popup_09a18a6324114b578d5c22dea5f0df7c%20%3D%20L.popup%28%7BmaxWidth%3A%20%27100%25%27%0A%20%20%20%20%20%20%20%20%20%20%20%20%0A%20%20%20%20%20%20%20%20%20%20%20%20%7D%29%3B%0A%0A%20%20%20%20%20%20%20%20%20%20%20%20%0A%20%20%20%20%20%20%20%20%20%20%20%20%20%20%20%20var%20html_5de442ba13c74eb68b341a3e606fc877%20%3D%20%24%28%60%3Cdiv%20id%3D%22html_5de442ba13c74eb68b341a3e606fc877%22%20style%3D%22width%3A%20100.0%25%3B%20height%3A%20100.0%25%3B%22%3EJIMENEZ%20SANCHEZ%20ANDRES%20JOSE%3C/div%3E%60%29%5B0%5D%3B%0A%20%20%20%20%20%20%20%20%20%20%20%20%20%20%20%20popup_09a18a6324114b578d5c22dea5f0df7c.setContent%28html_5de442ba13c74eb68b341a3e606fc877%29%3B%0A%20%20%20%20%20%20%20%20%20%20%20%20%0A%0A%20%20%20%20%20%20%20%20%20%20%20%20marker_ef73ced4c1384cfa8495fa74c73fef5b.bindPopup%28popup_09a18a6324114b578d5c22dea5f0df7c%29%0A%20%20%20%20%20%20%20%20%20%20%20%20%3B%0A%0A%20%20%20%20%20%20%20%20%20%20%20%20%0A%20%20%20%20%20%20%20%20%0A%20%20%20%20%0A%20%20%20%20%20%20%20%20var%20marker_5b805e9e492f45fc8dfbf691b9ba468f%20%3D%20L.marker%28%0A%20%20%20%20%20%20%20%20%20%20%20%20%5B4.7211937%2C%20-74.1172292%5D%2C%0A%20%20%20%20%20%20%20%20%20%20%20%20%7B%0A%20%20%20%20%20%20%20%20%20%20%20%20%20%20%20%20icon%3A%20new%20L.Icon.Default%28%29%2C%0A%20%20%20%20%20%20%20%20%20%20%20%20%20%20%20%20%7D%0A%20%20%20%20%20%20%20%20%20%20%20%20%29.addTo%28map_4d2cb16d160a4b8b98b6246231075538%29%3B%0A%20%20%20%20%20%20%20%20%0A%20%20%20%20%0A%20%20%20%20%20%20%20%20%20%20%20%20var%20popup_6e43f6153eee4df0a7664fe0c0a0eac5%20%3D%20L.popup%28%7BmaxWidth%3A%20%27100%25%27%0A%20%20%20%20%20%20%20%20%20%20%20%20%0A%20%20%20%20%20%20%20%20%20%20%20%20%7D%29%3B%0A%0A%20%20%20%20%20%20%20%20%20%20%20%20%0A%20%20%20%20%20%20%20%20%20%20%20%20%20%20%20%20var%20html_3b3743cbea55411c8312909c56f1fb5f%20%3D%20%24%28%60%3Cdiv%20id%3D%22html_3b3743cbea55411c8312909c56f1fb5f%22%20style%3D%22width%3A%20100.0%25%3B%20height%3A%20100.0%25%3B%22%3EAMADO%20SALAZAR%20SARA%20MARIA%3C/div%3E%60%29%5B0%5D%3B%0A%20%20%20%20%20%20%20%20%20%20%20%20%20%20%20%20popup_6e43f6153eee4df0a7664fe0c0a0eac5.setContent%28html_3b3743cbea55411c8312909c56f1fb5f%29%3B%0A%20%20%20%20%20%20%20%20%20%20%20%20%0A%0A%20%20%20%20%20%20%20%20%20%20%20%20marker_5b805e9e492f45fc8dfbf691b9ba468f.bindPopup%28popup_6e43f6153eee4df0a7664fe0c0a0eac5%29%0A%20%20%20%20%20%20%20%20%20%20%20%20%3B%0A%0A%20%20%20%20%20%20%20%20%20%20%20%20%0A%20%20%20%20%20%20%20%20%0A%20%20%20%20%0A%20%20%20%20%20%20%20%20var%20marker_902c9bf664e345539eb8c22f5ef7ac0f%20%3D%20L.marker%28%0A%20%20%20%20%20%20%20%20%20%20%20%20%5B4.7209106%2C%20-74.1189966%5D%2C%0A%20%20%20%20%20%20%20%20%20%20%20%20%7B%0A%20%20%20%20%20%20%20%20%20%20%20%20%20%20%20%20icon%3A%20new%20L.Icon.Default%28%29%2C%0A%20%20%20%20%20%20%20%20%20%20%20%20%20%20%20%20%7D%0A%20%20%20%20%20%20%20%20%20%20%20%20%29.addTo%28map_4d2cb16d160a4b8b98b6246231075538%29%3B%0A%20%20%20%20%20%20%20%20%0A%20%20%20%20%0A%20%20%20%20%20%20%20%20%20%20%20%20var%20popup_99bf1a4b6be749b0902714ea8ee186a6%20%3D%20L.popup%28%7BmaxWidth%3A%20%27100%25%27%0A%20%20%20%20%20%20%20%20%20%20%20%20%0A%20%20%20%20%20%20%20%20%20%20%20%20%7D%29%3B%0A%0A%20%20%20%20%20%20%20%20%20%20%20%20%0A%20%20%20%20%20%20%20%20%20%20%20%20%20%20%20%20var%20html_e7d6f172481f493eb9f92b7ec0fe98b6%20%3D%20%24%28%60%3Cdiv%20id%3D%22html_e7d6f172481f493eb9f92b7ec0fe98b6%22%20style%3D%22width%3A%20100.0%25%3B%20height%3A%20100.0%25%3B%22%3EINFANTE%20SANCHEZ%20JUAN%20SEBASTIAN%3C/div%3E%60%29%5B0%5D%3B%0A%20%20%20%20%20%20%20%20%20%20%20%20%20%20%20%20popup_99bf1a4b6be749b0902714ea8ee186a6.setContent%28html_e7d6f172481f493eb9f92b7ec0fe98b6%29%3B%0A%20%20%20%20%20%20%20%20%20%20%20%20%0A%0A%20%20%20%20%20%20%20%20%20%20%20%20marker_902c9bf664e345539eb8c22f5ef7ac0f.bindPopup%28popup_99bf1a4b6be749b0902714ea8ee186a6%29%0A%20%20%20%20%20%20%20%20%20%20%20%20%3B%0A%0A%20%20%20%20%20%20%20%20%20%20%20%20%0A%20%20%20%20%20%20%20%20%0A%20%20%20%20%0A%20%20%20%20%20%20%20%20var%20marker_67d7f04c72844a1e9f8b877f54fd8cfe%20%3D%20L.marker%28%0A%20%20%20%20%20%20%20%20%20%20%20%20%5B4.7239578%2C%20-74.115517%5D%2C%0A%20%20%20%20%20%20%20%20%20%20%20%20%7B%0A%20%20%20%20%20%20%20%20%20%20%20%20%20%20%20%20icon%3A%20new%20L.Icon.Default%28%29%2C%0A%20%20%20%20%20%20%20%20%20%20%20%20%20%20%20%20%7D%0A%20%20%20%20%20%20%20%20%20%20%20%20%29.addTo%28map_4d2cb16d160a4b8b98b6246231075538%29%3B%0A%20%20%20%20%20%20%20%20%0A%20%20%20%20%0A%20%20%20%20%20%20%20%20%20%20%20%20var%20popup_ffad6a0f7ec04259ba2b81761d3c64c7%20%3D%20L.popup%28%7BmaxWidth%3A%20%27100%25%27%0A%20%20%20%20%20%20%20%20%20%20%20%20%0A%20%20%20%20%20%20%20%20%20%20%20%20%7D%29%3B%0A%0A%20%20%20%20%20%20%20%20%20%20%20%20%0A%20%20%20%20%20%20%20%20%20%20%20%20%20%20%20%20var%20html_3ae53c996977485491d939792e234442%20%3D%20%24%28%60%3Cdiv%20id%3D%22html_3ae53c996977485491d939792e234442%22%20style%3D%22width%3A%20100.0%25%3B%20height%3A%20100.0%25%3B%22%3ELADINO%20ROJAS%20JUAN%20FELIPE%3C/div%3E%60%29%5B0%5D%3B%0A%20%20%20%20%20%20%20%20%20%20%20%20%20%20%20%20popup_ffad6a0f7ec04259ba2b81761d3c64c7.setContent%28html_3ae53c996977485491d939792e234442%29%3B%0A%20%20%20%20%20%20%20%20%20%20%20%20%0A%0A%20%20%20%20%20%20%20%20%20%20%20%20marker_67d7f04c72844a1e9f8b877f54fd8cfe.bindPopup%28popup_ffad6a0f7ec04259ba2b81761d3c64c7%29%0A%20%20%20%20%20%20%20%20%20%20%20%20%3B%0A%0A%20%20%20%20%20%20%20%20%20%20%20%20%0A%20%20%20%20%20%20%20%20%0A%3C/script%3E onload=\"this.contentDocument.open();this.contentDocument.write(    decodeURIComponent(this.getAttribute('data-html')));this.contentDocument.close();\" allowfullscreen webkitallowfullscreen mozallowfullscreen></iframe></div></div>"
            ],
            "text/plain": [
              "<folium.folium.Map at 0x7f2c77ff1290>"
            ]
          },
          "metadata": {},
          "execution_count": 81
        }
      ]
    },
    {
      "cell_type": "code",
      "metadata": {
        "id": "QWM7e4-H2Yb3"
      },
      "source": [
        ""
      ],
      "execution_count": null,
      "outputs": []
    }
  ]
}